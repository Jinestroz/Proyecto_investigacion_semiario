{
  "nbformat": 4,
  "nbformat_minor": 0,
  "metadata": {
    "colab": {
      "name": "datframe.ipynb",
      "provenance": [],
      "collapsed_sections": [],
      "include_colab_link": true
    },
    "kernelspec": {
      "display_name": "Python 3",
      "language": "python",
      "name": "python3"
    },
    "language_info": {
      "codemirror_mode": {
        "name": "ipython",
        "version": 3
      },
      "file_extension": ".py",
      "mimetype": "text/x-python",
      "name": "python",
      "nbconvert_exporter": "python",
      "pygments_lexer": "ipython3",
      "version": "3.8.3"
    }
  },
  "cells": [
    {
      "cell_type": "markdown",
      "metadata": {
        "id": "view-in-github",
        "colab_type": "text"
      },
      "source": [
        "<a href=\"https://colab.research.google.com/github/Jinestroz/Proyecto_investigacion_semiario/blob/main/Base%20de%20datos%20Python/calculos.ipynb\" target=\"_parent\"><img src=\"https://colab.research.google.com/assets/colab-badge.svg\" alt=\"Open In Colab\"/></a>"
      ]
    },
    {
      "cell_type": "code",
      "metadata": {
        "id": "utq1MmcDZbzN"
      },
      "source": [
        "import pandas as pd \n",
        "import numpy as np"
      ],
      "execution_count": 91,
      "outputs": []
    },
    {
      "cell_type": "code",
      "metadata": {
        "id": "rdDbh_ZgbOv3"
      },
      "source": [
        "# @title Dataframe desde archivo CVS\n",
        "# df1 = pd.read_csv(\"lista_personas - Hoja 1.csv\")\n",
        "# df1"
      ],
      "execution_count": 92,
      "outputs": []
    },
    {
      "cell_type": "markdown",
      "metadata": {
        "id": "2NU3E3TLFmxY"
      },
      "source": [
        "# Tratamiento de los datos como CSV\n",
        "### En construcción...\n"
      ]
    },
    {
      "cell_type": "code",
      "metadata": {
        "id": "t6YqLawUkAwy"
      },
      "source": [
        "df = pd.read_csv(\"https://docs.google.com/spreadsheets/d/1bqg_wBX8s9GcW6UeCQ1sx4H2xmCvVHB6/export?format=csv\")"
      ],
      "execution_count": 93,
      "outputs": []
    },
    {
      "cell_type": "code",
      "metadata": {
        "colab": {
          "base_uri": "https://localhost:8080/",
          "height": 695
        },
        "id": "j5q34vYIkX_6",
        "scrolled": true,
        "outputId": "5a74139b-06d9-4bcf-8b5c-059d7b1ce3fb"
      },
      "source": [
        "#@title datos muestra\n",
        "df"
      ],
      "execution_count": 94,
      "outputs": [
        {
          "output_type": "execute_result",
          "data": {
            "text/html": [
              "<div>\n",
              "<style scoped>\n",
              "    .dataframe tbody tr th:only-of-type {\n",
              "        vertical-align: middle;\n",
              "    }\n",
              "\n",
              "    .dataframe tbody tr th {\n",
              "        vertical-align: top;\n",
              "    }\n",
              "\n",
              "    .dataframe thead th {\n",
              "        text-align: right;\n",
              "    }\n",
              "</style>\n",
              "<table border=\"1\" class=\"dataframe\">\n",
              "  <thead>\n",
              "    <tr style=\"text-align: right;\">\n",
              "      <th></th>\n",
              "      <th>Departamento</th>\n",
              "      <th>Poblacion_Hombres</th>\n",
              "      <th>Poblacion_Mujeres</th>\n",
              "      <th>Poblacion_Total</th>\n",
              "      <th>Ocupados_Hombres</th>\n",
              "      <th>Ocupados_Mujeres</th>\n",
              "      <th>Ocupados_Total</th>\n",
              "      <th>Desocupados_Hombres</th>\n",
              "      <th>Desocupados_Mujeres</th>\n",
              "      <th>Desocupados_Total</th>\n",
              "      <th>Inactivos_Hombres</th>\n",
              "      <th>Inactivos_Mujeres</th>\n",
              "      <th>Inactivos_Total</th>\n",
              "    </tr>\n",
              "  </thead>\n",
              "  <tbody>\n",
              "    <tr>\n",
              "      <th>0</th>\n",
              "      <td>ATLANTIDA</td>\n",
              "      <td>210887</td>\n",
              "      <td>225363</td>\n",
              "      <td>436250</td>\n",
              "      <td>91427</td>\n",
              "      <td>32543</td>\n",
              "      <td>123970</td>\n",
              "      <td>2742</td>\n",
              "      <td>977</td>\n",
              "      <td>3719</td>\n",
              "      <td>90812</td>\n",
              "      <td>166663</td>\n",
              "      <td>257475</td>\n",
              "    </tr>\n",
              "    <tr>\n",
              "      <th>1</th>\n",
              "      <td>COLON</td>\n",
              "      <td>151723</td>\n",
              "      <td>158202</td>\n",
              "      <td>309925</td>\n",
              "      <td>67751</td>\n",
              "      <td>18401</td>\n",
              "      <td>86152</td>\n",
              "      <td>1549</td>\n",
              "      <td>347</td>\n",
              "      <td>1896</td>\n",
              "      <td>62082</td>\n",
              "      <td>119503</td>\n",
              "      <td>181585</td>\n",
              "    </tr>\n",
              "    <tr>\n",
              "      <th>2</th>\n",
              "      <td>COMAYAGUA</td>\n",
              "      <td>240839</td>\n",
              "      <td>252628</td>\n",
              "      <td>493467</td>\n",
              "      <td>117055</td>\n",
              "      <td>32245</td>\n",
              "      <td>149300</td>\n",
              "      <td>1979</td>\n",
              "      <td>477</td>\n",
              "      <td>2456</td>\n",
              "      <td>90231</td>\n",
              "      <td>189094</td>\n",
              "      <td>279325</td>\n",
              "    </tr>\n",
              "    <tr>\n",
              "      <th>3</th>\n",
              "      <td>COPAN</td>\n",
              "      <td>183615</td>\n",
              "      <td>187441</td>\n",
              "      <td>371056</td>\n",
              "      <td>95661</td>\n",
              "      <td>23423</td>\n",
              "      <td>119084</td>\n",
              "      <td>1336</td>\n",
              "      <td>316</td>\n",
              "      <td>1652</td>\n",
              "      <td>62784</td>\n",
              "      <td>141119</td>\n",
              "      <td>203903</td>\n",
              "    </tr>\n",
              "    <tr>\n",
              "      <th>4</th>\n",
              "      <td>CORTES</td>\n",
              "      <td>750811</td>\n",
              "      <td>811586</td>\n",
              "      <td>1562397</td>\n",
              "      <td>339512</td>\n",
              "      <td>168442</td>\n",
              "      <td>507954</td>\n",
              "      <td>11651</td>\n",
              "      <td>4407</td>\n",
              "      <td>16058</td>\n",
              "      <td>309483</td>\n",
              "      <td>551686</td>\n",
              "      <td>861169</td>\n",
              "    </tr>\n",
              "    <tr>\n",
              "      <th>5</th>\n",
              "      <td>CHOLUTECA</td>\n",
              "      <td>216407</td>\n",
              "      <td>221211</td>\n",
              "      <td>437618</td>\n",
              "      <td>99759</td>\n",
              "      <td>24192</td>\n",
              "      <td>123951</td>\n",
              "      <td>2406</td>\n",
              "      <td>609</td>\n",
              "      <td>3015</td>\n",
              "      <td>90038</td>\n",
              "      <td>173420</td>\n",
              "      <td>263458</td>\n",
              "    </tr>\n",
              "    <tr>\n",
              "      <th>6</th>\n",
              "      <td>EL PARAISO</td>\n",
              "      <td>223591</td>\n",
              "      <td>220915</td>\n",
              "      <td>444506</td>\n",
              "      <td>117668</td>\n",
              "      <td>23670</td>\n",
              "      <td>141338</td>\n",
              "      <td>1643</td>\n",
              "      <td>466</td>\n",
              "      <td>2109</td>\n",
              "      <td>78265</td>\n",
              "      <td>171853</td>\n",
              "      <td>250118</td>\n",
              "    </tr>\n",
              "    <tr>\n",
              "      <th>7</th>\n",
              "      <td>FRANCISCO MORAZAN</td>\n",
              "      <td>719526</td>\n",
              "      <td>789383</td>\n",
              "      <td>1508909</td>\n",
              "      <td>336106</td>\n",
              "      <td>184065</td>\n",
              "      <td>520171</td>\n",
              "      <td>11948</td>\n",
              "      <td>5001</td>\n",
              "      <td>16949</td>\n",
              "      <td>291134</td>\n",
              "      <td>523332</td>\n",
              "      <td>814466</td>\n",
              "    </tr>\n",
              "    <tr>\n",
              "      <th>8</th>\n",
              "      <td>GRACIAS A DIOS</td>\n",
              "      <td>44274</td>\n",
              "      <td>46521</td>\n",
              "      <td>90795</td>\n",
              "      <td>14321</td>\n",
              "      <td>7894</td>\n",
              "      <td>22215</td>\n",
              "      <td>819</td>\n",
              "      <td>510</td>\n",
              "      <td>1329</td>\n",
              "      <td>23092</td>\n",
              "      <td>31869</td>\n",
              "      <td>54961</td>\n",
              "    </tr>\n",
              "    <tr>\n",
              "      <th>9</th>\n",
              "      <td>INTIBUCA</td>\n",
              "      <td>113744</td>\n",
              "      <td>118807</td>\n",
              "      <td>232551</td>\n",
              "      <td>59713</td>\n",
              "      <td>13802</td>\n",
              "      <td>73515</td>\n",
              "      <td>473</td>\n",
              "      <td>123</td>\n",
              "      <td>596</td>\n",
              "      <td>38880</td>\n",
              "      <td>90523</td>\n",
              "      <td>129403</td>\n",
              "    </tr>\n",
              "    <tr>\n",
              "      <th>10</th>\n",
              "      <td>ISLAS DE LA BAHIA</td>\n",
              "      <td>30606</td>\n",
              "      <td>31951</td>\n",
              "      <td>62557</td>\n",
              "      <td>13463</td>\n",
              "      <td>6941</td>\n",
              "      <td>20404</td>\n",
              "      <td>480</td>\n",
              "      <td>216</td>\n",
              "      <td>696</td>\n",
              "      <td>12583</td>\n",
              "      <td>20824</td>\n",
              "      <td>33407</td>\n",
              "    </tr>\n",
              "    <tr>\n",
              "      <th>11</th>\n",
              "      <td>LA PAZ</td>\n",
              "      <td>96807</td>\n",
              "      <td>102121</td>\n",
              "      <td>198928</td>\n",
              "      <td>48168</td>\n",
              "      <td>11848</td>\n",
              "      <td>60016</td>\n",
              "      <td>626</td>\n",
              "      <td>103</td>\n",
              "      <td>729</td>\n",
              "      <td>35422</td>\n",
              "      <td>77484</td>\n",
              "      <td>112906</td>\n",
              "    </tr>\n",
              "    <tr>\n",
              "      <th>12</th>\n",
              "      <td>LEMPIRA</td>\n",
              "      <td>161046</td>\n",
              "      <td>160133</td>\n",
              "      <td>321179</td>\n",
              "      <td>83156</td>\n",
              "      <td>9842</td>\n",
              "      <td>92998</td>\n",
              "      <td>588</td>\n",
              "      <td>121</td>\n",
              "      <td>709</td>\n",
              "      <td>55966</td>\n",
              "      <td>129482</td>\n",
              "      <td>185448</td>\n",
              "    </tr>\n",
              "    <tr>\n",
              "      <th>13</th>\n",
              "      <td>OCOTEPEQUE</td>\n",
              "      <td>72397</td>\n",
              "      <td>74036</td>\n",
              "      <td>146433</td>\n",
              "      <td>41242</td>\n",
              "      <td>8277</td>\n",
              "      <td>49519</td>\n",
              "      <td>385</td>\n",
              "      <td>101</td>\n",
              "      <td>486</td>\n",
              "      <td>21834</td>\n",
              "      <td>57077</td>\n",
              "      <td>78911</td>\n",
              "    </tr>\n",
              "    <tr>\n",
              "      <th>14</th>\n",
              "      <td>OLANCHO</td>\n",
              "      <td>257607</td>\n",
              "      <td>263158</td>\n",
              "      <td>520765</td>\n",
              "      <td>123320</td>\n",
              "      <td>25939</td>\n",
              "      <td>149259</td>\n",
              "      <td>1734</td>\n",
              "      <td>482</td>\n",
              "      <td>2216</td>\n",
              "      <td>99334</td>\n",
              "      <td>204578</td>\n",
              "      <td>303912</td>\n",
              "    </tr>\n",
              "    <tr>\n",
              "      <th>15</th>\n",
              "      <td>SANTA BARBARA</td>\n",
              "      <td>214131</td>\n",
              "      <td>207203</td>\n",
              "      <td>421334</td>\n",
              "      <td>107163</td>\n",
              "      <td>19326</td>\n",
              "      <td>126489</td>\n",
              "      <td>1651</td>\n",
              "      <td>317</td>\n",
              "      <td>1968</td>\n",
              "      <td>79698</td>\n",
              "      <td>163224</td>\n",
              "      <td>242922</td>\n",
              "    </tr>\n",
              "    <tr>\n",
              "      <th>16</th>\n",
              "      <td>VALLE</td>\n",
              "      <td>85125</td>\n",
              "      <td>89388</td>\n",
              "      <td>174513</td>\n",
              "      <td>39652</td>\n",
              "      <td>10119</td>\n",
              "      <td>49771</td>\n",
              "      <td>878</td>\n",
              "      <td>228</td>\n",
              "      <td>1106</td>\n",
              "      <td>34627</td>\n",
              "      <td>69470</td>\n",
              "      <td>104097</td>\n",
              "    </tr>\n",
              "    <tr>\n",
              "      <th>17</th>\n",
              "      <td>YORO</td>\n",
              "      <td>279188</td>\n",
              "      <td>291407</td>\n",
              "      <td>570595</td>\n",
              "      <td>125469</td>\n",
              "      <td>34586</td>\n",
              "      <td>160055</td>\n",
              "      <td>3321</td>\n",
              "      <td>862</td>\n",
              "      <td>4183</td>\n",
              "      <td>115185</td>\n",
              "      <td>222030</td>\n",
              "      <td>337215</td>\n",
              "    </tr>\n",
              "  </tbody>\n",
              "</table>\n",
              "</div>"
            ],
            "text/plain": [
              "         Departamento  Poblacion_Hombres  ...  Inactivos_Mujeres  Inactivos_Total\n",
              "0           ATLANTIDA             210887  ...             166663           257475\n",
              "1               COLON             151723  ...             119503           181585\n",
              "2           COMAYAGUA             240839  ...             189094           279325\n",
              "3               COPAN             183615  ...             141119           203903\n",
              "4              CORTES             750811  ...             551686           861169\n",
              "5           CHOLUTECA             216407  ...             173420           263458\n",
              "6         EL PARAISO              223591  ...             171853           250118\n",
              "7   FRANCISCO MORAZAN             719526  ...             523332           814466\n",
              "8     GRACIAS A DIOS               44274  ...              31869            54961\n",
              "9            INTIBUCA             113744  ...              90523           129403\n",
              "10  ISLAS DE LA BAHIA              30606  ...              20824            33407\n",
              "11             LA PAZ              96807  ...              77484           112906\n",
              "12           LEMPIRA              161046  ...             129482           185448\n",
              "13         OCOTEPEQUE              72397  ...              57077            78911\n",
              "14           OLANCHO              257607  ...             204578           303912\n",
              "15      SANTA BARBARA             214131  ...             163224           242922\n",
              "16              VALLE              85125  ...              69470           104097\n",
              "17               YORO             279188  ...             222030           337215\n",
              "\n",
              "[18 rows x 13 columns]"
            ]
          },
          "metadata": {
            "tags": []
          },
          "execution_count": 94
        }
      ]
    },
    {
      "cell_type": "code",
      "metadata": {
        "colab": {
          "base_uri": "https://localhost:8080/",
          "height": 317
        },
        "id": "vD3j_RBXl2CZ",
        "outputId": "729c4f0d-ed18-4b8d-c8c9-9c83b2ddea87"
      },
      "source": [
        "#@title Estadística básica\n",
        "datos = df.describe()\n",
        "datos"
      ],
      "execution_count": 95,
      "outputs": [
        {
          "output_type": "execute_result",
          "data": {
            "text/html": [
              "<div>\n",
              "<style scoped>\n",
              "    .dataframe tbody tr th:only-of-type {\n",
              "        vertical-align: middle;\n",
              "    }\n",
              "\n",
              "    .dataframe tbody tr th {\n",
              "        vertical-align: top;\n",
              "    }\n",
              "\n",
              "    .dataframe thead th {\n",
              "        text-align: right;\n",
              "    }\n",
              "</style>\n",
              "<table border=\"1\" class=\"dataframe\">\n",
              "  <thead>\n",
              "    <tr style=\"text-align: right;\">\n",
              "      <th></th>\n",
              "      <th>Poblacion_Hombres</th>\n",
              "      <th>Poblacion_Mujeres</th>\n",
              "      <th>Poblacion_Total</th>\n",
              "      <th>Ocupados_Hombres</th>\n",
              "      <th>Ocupados_Mujeres</th>\n",
              "      <th>Ocupados_Total</th>\n",
              "      <th>Desocupados_Hombres</th>\n",
              "      <th>Desocupados_Mujeres</th>\n",
              "      <th>Desocupados_Total</th>\n",
              "      <th>Inactivos_Hombres</th>\n",
              "      <th>Inactivos_Mujeres</th>\n",
              "      <th>Inactivos_Total</th>\n",
              "    </tr>\n",
              "  </thead>\n",
              "  <tbody>\n",
              "    <tr>\n",
              "      <th>count</th>\n",
              "      <td>18.000000</td>\n",
              "      <td>18.000000</td>\n",
              "      <td>1.800000e+01</td>\n",
              "      <td>18.000000</td>\n",
              "      <td>18.000000</td>\n",
              "      <td>18.000000</td>\n",
              "      <td>18.000000</td>\n",
              "      <td>18.000000</td>\n",
              "      <td>18.000000</td>\n",
              "      <td>18.000000</td>\n",
              "      <td>18.000000</td>\n",
              "      <td>18.000000</td>\n",
              "    </tr>\n",
              "    <tr>\n",
              "      <th>mean</th>\n",
              "      <td>225129.111111</td>\n",
              "      <td>236191.888889</td>\n",
              "      <td>4.613210e+05</td>\n",
              "      <td>106700.333333</td>\n",
              "      <td>36419.722222</td>\n",
              "      <td>143120.055556</td>\n",
              "      <td>2567.166667</td>\n",
              "      <td>870.166667</td>\n",
              "      <td>3437.333333</td>\n",
              "      <td>88413.888889</td>\n",
              "      <td>172401.722222</td>\n",
              "      <td>260815.611111</td>\n",
              "    </tr>\n",
              "    <tr>\n",
              "      <th>std</th>\n",
              "      <td>199847.550474</td>\n",
              "      <td>218832.972509</td>\n",
              "      <td>4.186110e+05</td>\n",
              "      <td>91330.169777</td>\n",
              "      <td>51712.264575</td>\n",
              "      <td>141813.208457</td>\n",
              "      <td>3460.067192</td>\n",
              "      <td>1419.978593</td>\n",
              "      <td>4872.243088</td>\n",
              "      <td>82605.244524</td>\n",
              "      <td>145290.075728</td>\n",
              "      <td>227715.846771</td>\n",
              "    </tr>\n",
              "    <tr>\n",
              "      <th>min</th>\n",
              "      <td>30606.000000</td>\n",
              "      <td>31951.000000</td>\n",
              "      <td>6.255700e+04</td>\n",
              "      <td>13463.000000</td>\n",
              "      <td>6941.000000</td>\n",
              "      <td>20404.000000</td>\n",
              "      <td>385.000000</td>\n",
              "      <td>101.000000</td>\n",
              "      <td>486.000000</td>\n",
              "      <td>12583.000000</td>\n",
              "      <td>20824.000000</td>\n",
              "      <td>33407.000000</td>\n",
              "    </tr>\n",
              "    <tr>\n",
              "      <th>25%</th>\n",
              "      <td>101041.250000</td>\n",
              "      <td>106292.500000</td>\n",
              "      <td>2.073338e+05</td>\n",
              "      <td>51054.250000</td>\n",
              "      <td>10551.250000</td>\n",
              "      <td>63390.750000</td>\n",
              "      <td>674.250000</td>\n",
              "      <td>219.000000</td>\n",
              "      <td>823.250000</td>\n",
              "      <td>36286.500000</td>\n",
              "      <td>80743.750000</td>\n",
              "      <td>117030.250000</td>\n",
              "    </tr>\n",
              "    <tr>\n",
              "      <th>50%</th>\n",
              "      <td>197251.000000</td>\n",
              "      <td>197322.000000</td>\n",
              "      <td>3.961950e+05</td>\n",
              "      <td>93544.000000</td>\n",
              "      <td>21374.500000</td>\n",
              "      <td>121517.500000</td>\n",
              "      <td>1596.000000</td>\n",
              "      <td>406.500000</td>\n",
              "      <td>1932.000000</td>\n",
              "      <td>70524.500000</td>\n",
              "      <td>152171.500000</td>\n",
              "      <td>223412.500000</td>\n",
              "    </tr>\n",
              "    <tr>\n",
              "      <th>75%</th>\n",
              "      <td>236527.000000</td>\n",
              "      <td>245811.750000</td>\n",
              "      <td>4.812268e+05</td>\n",
              "      <td>117514.750000</td>\n",
              "      <td>30668.500000</td>\n",
              "      <td>147278.750000</td>\n",
              "      <td>2299.250000</td>\n",
              "      <td>584.250000</td>\n",
              "      <td>2875.250000</td>\n",
              "      <td>90666.750000</td>\n",
              "      <td>185175.500000</td>\n",
              "      <td>275358.250000</td>\n",
              "    </tr>\n",
              "    <tr>\n",
              "      <th>max</th>\n",
              "      <td>750811.000000</td>\n",
              "      <td>811586.000000</td>\n",
              "      <td>1.562397e+06</td>\n",
              "      <td>339512.000000</td>\n",
              "      <td>184065.000000</td>\n",
              "      <td>520171.000000</td>\n",
              "      <td>11948.000000</td>\n",
              "      <td>5001.000000</td>\n",
              "      <td>16949.000000</td>\n",
              "      <td>309483.000000</td>\n",
              "      <td>551686.000000</td>\n",
              "      <td>861169.000000</td>\n",
              "    </tr>\n",
              "  </tbody>\n",
              "</table>\n",
              "</div>"
            ],
            "text/plain": [
              "       Poblacion_Hombres  Poblacion_Mujeres  ...  Inactivos_Mujeres  Inactivos_Total\n",
              "count          18.000000          18.000000  ...          18.000000        18.000000\n",
              "mean       225129.111111      236191.888889  ...      172401.722222    260815.611111\n",
              "std        199847.550474      218832.972509  ...      145290.075728    227715.846771\n",
              "min         30606.000000       31951.000000  ...       20824.000000     33407.000000\n",
              "25%        101041.250000      106292.500000  ...       80743.750000    117030.250000\n",
              "50%        197251.000000      197322.000000  ...      152171.500000    223412.500000\n",
              "75%        236527.000000      245811.750000  ...      185175.500000    275358.250000\n",
              "max        750811.000000      811586.000000  ...      551686.000000    861169.000000\n",
              "\n",
              "[8 rows x 12 columns]"
            ]
          },
          "metadata": {
            "tags": []
          },
          "execution_count": 95
        }
      ]
    },
    {
      "cell_type": "code",
      "metadata": {
        "id": "WtM-DdhWpURx",
        "colab": {
          "base_uri": "https://localhost:8080/"
        },
        "outputId": "169d393c-e577-4ee2-aceb-c531358fb18e"
      },
      "source": [
        "columna = \"Ocupados_Hombres\"\n",
        "media = df[columna].sum()/df[columna].count()\n",
        "media"
      ],
      "execution_count": 96,
      "outputs": [
        {
          "output_type": "execute_result",
          "data": {
            "text/plain": [
              "106700.33333333333"
            ]
          },
          "metadata": {
            "tags": []
          },
          "execution_count": 96
        }
      ]
    },
    {
      "cell_type": "code",
      "metadata": {
        "colab": {
          "base_uri": "https://localhost:8080/"
        },
        "id": "lLsayGdrhSmu",
        "outputId": "2d50a3df-7fb1-42f1-dfa6-c09fa41c69d7"
      },
      "source": [
        "columna = \"Ocupados_Mujeres\"\n",
        "media = df[columna].sum()/df[columna].count()\n",
        "media"
      ],
      "execution_count": 97,
      "outputs": [
        {
          "output_type": "execute_result",
          "data": {
            "text/plain": [
              "36419.72222222222"
            ]
          },
          "metadata": {
            "tags": []
          },
          "execution_count": 97
        }
      ]
    },
    {
      "cell_type": "code",
      "metadata": {
        "colab": {
          "base_uri": "https://localhost:8080/"
        },
        "id": "TmWXFmaCOU9z",
        "outputId": "2dd76a90-f159-4557-a476-0d0de6300e47"
      },
      "source": [
        "varianza = (((df[columna]-media)*(df[columna]-media)).sum())/(df[columna].count()-1)\n",
        "varianza "
      ],
      "execution_count": 98,
      "outputs": [
        {
          "output_type": "execute_result",
          "data": {
            "text/plain": [
              "2674158307.5065355"
            ]
          },
          "metadata": {
            "tags": []
          },
          "execution_count": 98
        }
      ]
    },
    {
      "cell_type": "code",
      "metadata": {
        "id": "JjGiRLn_ixzG"
      },
      "source": [
        ""
      ],
      "execution_count": 98,
      "outputs": []
    },
    {
      "cell_type": "markdown",
      "metadata": {
        "id": "wkfsjd6MSmOf"
      },
      "source": [
        ""
      ]
    },
    {
      "cell_type": "code",
      "metadata": {
        "colab": {
          "base_uri": "https://localhost:8080/"
        },
        "id": "iE2qypGpOU91",
        "outputId": "9fc7a938-fe2a-40dc-ab20-ba65dfff86e5"
      },
      "source": [
        "columna = \"Ocupados_Mujeres\"\n",
        "media = df[columna].sum()/df[columna].count()\n",
        "media"
      ],
      "execution_count": 99,
      "outputs": [
        {
          "output_type": "execute_result",
          "data": {
            "text/plain": [
              "36419.72222222222"
            ]
          },
          "metadata": {
            "tags": []
          },
          "execution_count": 99
        }
      ]
    },
    {
      "cell_type": "markdown",
      "metadata": {
        "id": "d-NGsDbzSmit"
      },
      "source": [
        ""
      ]
    },
    {
      "cell_type": "code",
      "metadata": {
        "colab": {
          "base_uri": "https://localhost:8080/"
        },
        "id": "fL-J2ef7OU92",
        "outputId": "e1878bac-89ef-4d5b-edfb-1a41f73d219c"
      },
      "source": [
        "varianza = (((df[columna]-media)*(df[columna]-media)).sum())/(df[columna].count()-1)\n",
        "varianza"
      ],
      "execution_count": 100,
      "outputs": [
        {
          "output_type": "execute_result",
          "data": {
            "text/plain": [
              "2674158307.5065355"
            ]
          },
          "metadata": {
            "tags": []
          },
          "execution_count": 100
        }
      ]
    },
    {
      "cell_type": "code",
      "metadata": {
        "colab": {
          "base_uri": "https://localhost:8080/"
        },
        "id": "nal_29meOU93",
        "outputId": "29ab7c17-1103-43a7-cf12-3bb86fc99b6b"
      },
      "source": [
        "poblacion_activa = df[\"Ocupados_Total\"].sum() + df[\"Desocupados_Total\"].sum()\n",
        "poblacion_activa"
      ],
      "execution_count": 101,
      "outputs": [
        {
          "output_type": "execute_result",
          "data": {
            "text/plain": [
              "2638033"
            ]
          },
          "metadata": {
            "tags": []
          },
          "execution_count": 101
        }
      ]
    },
    {
      "cell_type": "code",
      "metadata": {
        "colab": {
          "base_uri": "https://localhost:8080/"
        },
        "id": "IHWD75hdOU94",
        "outputId": "f10f6e10-4976-4cbd-f73b-06c60c560fb5"
      },
      "source": [
        "PET = poblacion_activa + df[\"Inactivos_Total\"].sum()\n",
        "PET"
      ],
      "execution_count": 102,
      "outputs": [
        {
          "output_type": "execute_result",
          "data": {
            "text/plain": [
              "7332714"
            ]
          },
          "metadata": {
            "tags": []
          },
          "execution_count": 102
        }
      ]
    },
    {
      "cell_type": "code",
      "metadata": {
        "colab": {
          "base_uri": "https://localhost:8080/"
        },
        "id": "YG5RdKXSOU94",
        "outputId": "069625d4-1f41-4278-d5e7-8e7e77856bc3"
      },
      "source": [
        "tasa_actividad = (poblacion_activa/PET)*100\n",
        "tasa_actividad "
      ],
      "execution_count": 103,
      "outputs": [
        {
          "output_type": "execute_result",
          "data": {
            "text/plain": [
              "35.97621562766528"
            ]
          },
          "metadata": {
            "tags": []
          },
          "execution_count": 103
        }
      ]
    },
    {
      "cell_type": "code",
      "metadata": {
        "colab": {
          "base_uri": "https://localhost:8080/"
        },
        "id": "9C9P9fe9Oep3",
        "outputId": "f9bcc72c-4c10-4d84-e50f-13798449cb47"
      },
      "source": [
        "tasa_desempleo = (poblacion_desempleada/poblacion_activa)*100\n",
        "tasa_desempleo\n"
      ],
      "execution_count": 104,
      "outputs": [
        {
          "output_type": "execute_result",
          "data": {
            "text/plain": [
              "1.5036203110423563"
            ]
          },
          "metadata": {
            "tags": []
          },
          "execution_count": 104
        }
      ]
    },
    {
      "cell_type": "code",
      "metadata": {
        "colab": {
          "base_uri": "https://localhost:8080/"
        },
        "id": "KfO1DvlNfEr0",
        "outputId": "ea101d1a-f230-4e12-b64d-b74081bf6ebe"
      },
      "source": [
        "poblacion_ocupada = df[\"Ocupados_Total\"].sum()\n",
        "poblacion_ocupada"
      ],
      "execution_count": 105,
      "outputs": [
        {
          "output_type": "execute_result",
          "data": {
            "text/plain": [
              "2576161"
            ]
          },
          "metadata": {
            "tags": []
          },
          "execution_count": 105
        }
      ]
    },
    {
      "cell_type": "code",
      "metadata": {
        "colab": {
          "base_uri": "https://localhost:8080/"
        },
        "id": "ITLtFxTTeIGF",
        "outputId": "fdbb73f8-c65a-4dbc-8795-7e52b125db88"
      },
      "source": [
        "poblacion_desempleada = df[\"Desocupados_Total\"].sum()\n",
        "poblacion_desempleada "
      ],
      "execution_count": 106,
      "outputs": [
        {
          "output_type": "execute_result",
          "data": {
            "text/plain": [
              "61872"
            ]
          },
          "metadata": {
            "tags": []
          },
          "execution_count": 106
        }
      ]
    },
    {
      "cell_type": "code",
      "metadata": {
        "colab": {
          "base_uri": "https://localhost:8080/"
        },
        "id": "1K54ymzRfout",
        "outputId": "8992aed1-9ba2-4f3a-df4f-13b6665836fb"
      },
      "source": [
        "tasa_ocupacion = (poblacion_ocupada/poblacion_activa)*100\n",
        "tasa_ocupacion"
      ],
      "execution_count": 107,
      "outputs": [
        {
          "output_type": "execute_result",
          "data": {
            "text/plain": [
              "97.65461614771309"
            ]
          },
          "metadata": {
            "tags": []
          },
          "execution_count": 107
        }
      ]
    },
    {
      "cell_type": "code",
      "metadata": {
        "colab": {
          "base_uri": "https://localhost:8080/"
        },
        "id": "4yb0cc4BgGwN",
        "outputId": "9909757e-2058-4a0b-e01b-ab3c465a47e0"
      },
      "source": [
        "tasa_ocupacion + tasa_desempleo"
      ],
      "execution_count": 108,
      "outputs": [
        {
          "output_type": "execute_result",
          "data": {
            "text/plain": [
              "99.15823645875544"
            ]
          },
          "metadata": {
            "tags": []
          },
          "execution_count": 108
        }
      ]
    },
    {
      "cell_type": "code",
      "metadata": {
        "id": "_-Pujzp1GPWt"
      },
      "source": [
        ""
      ],
      "execution_count": null,
      "outputs": []
    }
  ]
}