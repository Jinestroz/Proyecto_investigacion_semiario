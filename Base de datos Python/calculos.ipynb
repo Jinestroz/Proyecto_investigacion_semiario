{
  "nbformat": 4,
  "nbformat_minor": 0,
  "metadata": {
    "colab": {
      "name": "datframe.ipynb",
      "provenance": [],
      "collapsed_sections": [],
      "include_colab_link": true
    },
    "kernelspec": {
      "display_name": "Python 3",
      "language": "python",
      "name": "python3"
    },
    "language_info": {
      "codemirror_mode": {
        "name": "ipython",
        "version": 3
      },
      "file_extension": ".py",
      "mimetype": "text/x-python",
      "name": "python",
      "nbconvert_exporter": "python",
      "pygments_lexer": "ipython3",
      "version": "3.8.3"
    }
  },
  "cells": [
    {
      "cell_type": "markdown",
      "metadata": {
        "id": "view-in-github",
        "colab_type": "text"
      },
      "source": [
        "<a href=\"https://colab.research.google.com/github/Jinestroz/Proyecto_investigacion_semiario/blob/main/Base%20de%20datos%20Python/calculos.ipynb\" target=\"_parent\"><img src=\"https://colab.research.google.com/assets/colab-badge.svg\" alt=\"Open In Colab\"/></a>"
      ]
    },
    {
      "cell_type": "code",
      "metadata": {
        "id": "utq1MmcDZbzN"
      },
      "source": [
        "import pandas as pd \n",
        "import numpy as np"
      ],
      "execution_count": 70,
      "outputs": []
    },
    {
      "cell_type": "code",
      "metadata": {
        "id": "rdDbh_ZgbOv3"
      },
      "source": [
        "# @title Dataframe desde archivo CVS\n",
        "# df1 = pd.read_csv(\"lista_personas - Hoja 1.csv\")\n",
        "# df1"
      ],
      "execution_count": 71,
      "outputs": []
    },
    {
      "cell_type": "markdown",
      "metadata": {
        "id": "2NU3E3TLFmxY"
      },
      "source": [
        "# Tratamiento de los datos como CSV\n",
        "### En construcción...\n"
      ]
    },
    {
      "cell_type": "code",
      "metadata": {
        "id": "t6YqLawUkAwy"
      },
      "source": [
        "df = pd.read_csv(\"https://docs.google.com/spreadsheets/d/1FBkNtj49IXmu7p750dE0n6V7ZArY0SQs/export?format=csv\")"
      ],
      "execution_count": 72,
      "outputs": []
    },
    {
      "cell_type": "code",
      "metadata": {
        "colab": {
          "base_uri": "https://localhost:8080/",
          "height": 695
        },
        "id": "j5q34vYIkX_6",
        "scrolled": true,
        "outputId": "5cfe471b-c330-4593-936e-7458cb527b5e"
      },
      "source": [
        "#@title datos muestra\n",
        "df"
      ],
      "execution_count": 73,
      "outputs": [
        {
          "output_type": "execute_result",
          "data": {
            "text/html": [
              "<div>\n",
              "<style scoped>\n",
              "    .dataframe tbody tr th:only-of-type {\n",
              "        vertical-align: middle;\n",
              "    }\n",
              "\n",
              "    .dataframe tbody tr th {\n",
              "        vertical-align: top;\n",
              "    }\n",
              "\n",
              "    .dataframe thead th {\n",
              "        text-align: right;\n",
              "    }\n",
              "</style>\n",
              "<table border=\"1\" class=\"dataframe\">\n",
              "  <thead>\n",
              "    <tr style=\"text-align: right;\">\n",
              "      <th></th>\n",
              "      <th>Departamento</th>\n",
              "      <th>Poblacion_Hombres</th>\n",
              "      <th>Poblacion_Mujeres</th>\n",
              "      <th>Poblacion_Total</th>\n",
              "      <th>Ocupados_Hombres</th>\n",
              "      <th>Ocupados_Mujeres</th>\n",
              "      <th>Ocupados_Total</th>\n",
              "      <th>Desocupados_Hombres</th>\n",
              "      <th>Desocupados_Mujeres</th>\n",
              "      <th>Desocupados_Total</th>\n",
              "      <th>Inactivos_Hombres</th>\n",
              "      <th>Inactivos_Mujeres</th>\n",
              "      <th>Inactivos_Total</th>\n",
              "    </tr>\n",
              "  </thead>\n",
              "  <tbody>\n",
              "    <tr>\n",
              "      <th>0</th>\n",
              "      <td>ATLANTIDA</td>\n",
              "      <td>155460</td>\n",
              "      <td>159581</td>\n",
              "      <td>315041</td>\n",
              "      <td>66929</td>\n",
              "      <td>21562</td>\n",
              "      <td>88491</td>\n",
              "      <td>1606</td>\n",
              "      <td>417</td>\n",
              "      <td>2023</td>\n",
              "      <td>56224</td>\n",
              "      <td>107446</td>\n",
              "      <td>163670</td>\n",
              "    </tr>\n",
              "    <tr>\n",
              "      <th>1</th>\n",
              "      <td>COLON</td>\n",
              "      <td>109611</td>\n",
              "      <td>108825</td>\n",
              "      <td>218436</td>\n",
              "      <td>47890</td>\n",
              "      <td>11327</td>\n",
              "      <td>59217</td>\n",
              "      <td>1008</td>\n",
              "      <td>385</td>\n",
              "      <td>1393</td>\n",
              "      <td>36644</td>\n",
              "      <td>73884</td>\n",
              "      <td>110528</td>\n",
              "    </tr>\n",
              "    <tr>\n",
              "      <th>2</th>\n",
              "      <td>COMAYAGUA</td>\n",
              "      <td>165967</td>\n",
              "      <td>166347</td>\n",
              "      <td>332314</td>\n",
              "      <td>77800</td>\n",
              "      <td>18450</td>\n",
              "      <td>96250</td>\n",
              "      <td>1714</td>\n",
              "      <td>306</td>\n",
              "      <td>2020</td>\n",
              "      <td>50272</td>\n",
              "      <td>112428</td>\n",
              "      <td>162700</td>\n",
              "    </tr>\n",
              "    <tr>\n",
              "      <th>3</th>\n",
              "      <td>COPAN</td>\n",
              "      <td>139009</td>\n",
              "      <td>137074</td>\n",
              "      <td>276083</td>\n",
              "      <td>69082</td>\n",
              "      <td>13920</td>\n",
              "      <td>83002</td>\n",
              "      <td>924</td>\n",
              "      <td>214</td>\n",
              "      <td>1138</td>\n",
              "      <td>37348</td>\n",
              "      <td>92839</td>\n",
              "      <td>130187</td>\n",
              "    </tr>\n",
              "    <tr>\n",
              "      <th>4</th>\n",
              "      <td>CORTES</td>\n",
              "      <td>524025</td>\n",
              "      <td>553513</td>\n",
              "      <td>1077538</td>\n",
              "      <td>237665</td>\n",
              "      <td>120118</td>\n",
              "      <td>357783</td>\n",
              "      <td>8385</td>\n",
              "      <td>2627</td>\n",
              "      <td>11012</td>\n",
              "      <td>173846</td>\n",
              "      <td>330431</td>\n",
              "      <td>504277</td>\n",
              "    </tr>\n",
              "    <tr>\n",
              "      <th>5</th>\n",
              "      <td>CHOLUTECA</td>\n",
              "      <td>181803</td>\n",
              "      <td>182881</td>\n",
              "      <td>364684</td>\n",
              "      <td>82135</td>\n",
              "      <td>19912</td>\n",
              "      <td>102047</td>\n",
              "      <td>2034</td>\n",
              "      <td>379</td>\n",
              "      <td>2413</td>\n",
              "      <td>59669</td>\n",
              "      <td>125835</td>\n",
              "      <td>185504</td>\n",
              "    </tr>\n",
              "    <tr>\n",
              "      <th>6</th>\n",
              "      <td>EL PARAISO</td>\n",
              "      <td>167606</td>\n",
              "      <td>163745</td>\n",
              "      <td>331351</td>\n",
              "      <td>82464</td>\n",
              "      <td>16329</td>\n",
              "      <td>98793</td>\n",
              "      <td>1458</td>\n",
              "      <td>279</td>\n",
              "      <td>1737</td>\n",
              "      <td>48428</td>\n",
              "      <td>112992</td>\n",
              "      <td>161420</td>\n",
              "    </tr>\n",
              "    <tr>\n",
              "      <th>7</th>\n",
              "      <td>FRANCISCO MORAZAN</td>\n",
              "      <td>534832</td>\n",
              "      <td>575068</td>\n",
              "      <td>1109900</td>\n",
              "      <td>249792</td>\n",
              "      <td>133254</td>\n",
              "      <td>383046</td>\n",
              "      <td>6970</td>\n",
              "      <td>2253</td>\n",
              "      <td>9223</td>\n",
              "      <td>181340</td>\n",
              "      <td>346597</td>\n",
              "      <td>527937</td>\n",
              "    </tr>\n",
              "    <tr>\n",
              "      <th>8</th>\n",
              "      <td>GRACIAS A DIOS</td>\n",
              "      <td>27833</td>\n",
              "      <td>28846</td>\n",
              "      <td>56679</td>\n",
              "      <td>10053</td>\n",
              "      <td>4467</td>\n",
              "      <td>14520</td>\n",
              "      <td>233</td>\n",
              "      <td>163</td>\n",
              "      <td>396</td>\n",
              "      <td>10647</td>\n",
              "      <td>17246</td>\n",
              "      <td>27893</td>\n",
              "    </tr>\n",
              "    <tr>\n",
              "      <th>9</th>\n",
              "      <td>INTIBUCA</td>\n",
              "      <td>87170</td>\n",
              "      <td>87937</td>\n",
              "      <td>175107</td>\n",
              "      <td>42869</td>\n",
              "      <td>8135</td>\n",
              "      <td>51004</td>\n",
              "      <td>369</td>\n",
              "      <td>79</td>\n",
              "      <td>448</td>\n",
              "      <td>22965</td>\n",
              "      <td>59150</td>\n",
              "      <td>82115</td>\n",
              "    </tr>\n",
              "    <tr>\n",
              "      <th>10</th>\n",
              "      <td>ISLAS DE LA BAHIA</td>\n",
              "      <td>15477</td>\n",
              "      <td>16075</td>\n",
              "      <td>31552</td>\n",
              "      <td>6466</td>\n",
              "      <td>2809</td>\n",
              "      <td>9275</td>\n",
              "      <td>280</td>\n",
              "      <td>66</td>\n",
              "      <td>346</td>\n",
              "      <td>5551</td>\n",
              "      <td>10065</td>\n",
              "      <td>15616</td>\n",
              "    </tr>\n",
              "    <tr>\n",
              "      <th>11</th>\n",
              "      <td>LA PAZ</td>\n",
              "      <td>72736</td>\n",
              "      <td>75051</td>\n",
              "      <td>147787</td>\n",
              "      <td>34039</td>\n",
              "      <td>7573</td>\n",
              "      <td>41612</td>\n",
              "      <td>465</td>\n",
              "      <td>94</td>\n",
              "      <td>559</td>\n",
              "      <td>21586</td>\n",
              "      <td>51174</td>\n",
              "      <td>72760</td>\n",
              "    </tr>\n",
              "    <tr>\n",
              "      <th>12</th>\n",
              "      <td>LEMPIRA</td>\n",
              "      <td>124278</td>\n",
              "      <td>119693</td>\n",
              "      <td>243971</td>\n",
              "      <td>66461</td>\n",
              "      <td>7671</td>\n",
              "      <td>74132</td>\n",
              "      <td>463</td>\n",
              "      <td>71</td>\n",
              "      <td>534</td>\n",
              "      <td>27669</td>\n",
              "      <td>83130</td>\n",
              "      <td>110799</td>\n",
              "    </tr>\n",
              "    <tr>\n",
              "      <th>13</th>\n",
              "      <td>OCOTEPEQUE</td>\n",
              "      <td>51128</td>\n",
              "      <td>51048</td>\n",
              "      <td>102176</td>\n",
              "      <td>27861</td>\n",
              "      <td>4606</td>\n",
              "      <td>32467</td>\n",
              "      <td>169</td>\n",
              "      <td>52</td>\n",
              "      <td>221</td>\n",
              "      <td>12251</td>\n",
              "      <td>35725</td>\n",
              "      <td>47976</td>\n",
              "    </tr>\n",
              "    <tr>\n",
              "      <th>14</th>\n",
              "      <td>OLANCHO</td>\n",
              "      <td>193686</td>\n",
              "      <td>191195</td>\n",
              "      <td>384881</td>\n",
              "      <td>92941</td>\n",
              "      <td>15311</td>\n",
              "      <td>108252</td>\n",
              "      <td>862</td>\n",
              "      <td>238</td>\n",
              "      <td>1100</td>\n",
              "      <td>56667</td>\n",
              "      <td>133718</td>\n",
              "      <td>190385</td>\n",
              "    </tr>\n",
              "    <tr>\n",
              "      <th>15</th>\n",
              "      <td>SANTA BARBARA</td>\n",
              "      <td>169595</td>\n",
              "      <td>157748</td>\n",
              "      <td>327343</td>\n",
              "      <td>78861</td>\n",
              "      <td>13827</td>\n",
              "      <td>92688</td>\n",
              "      <td>1580</td>\n",
              "      <td>287</td>\n",
              "      <td>1867</td>\n",
              "      <td>54441</td>\n",
              "      <td>110055</td>\n",
              "      <td>164496</td>\n",
              "    </tr>\n",
              "    <tr>\n",
              "      <th>16</th>\n",
              "      <td>VALLE</td>\n",
              "      <td>69802</td>\n",
              "      <td>72009</td>\n",
              "      <td>141811</td>\n",
              "      <td>29519</td>\n",
              "      <td>6647</td>\n",
              "      <td>36166</td>\n",
              "      <td>605</td>\n",
              "      <td>74</td>\n",
              "      <td>679</td>\n",
              "      <td>25598</td>\n",
              "      <td>51851</td>\n",
              "      <td>77449</td>\n",
              "    </tr>\n",
              "    <tr>\n",
              "      <th>17</th>\n",
              "      <td>YORO</td>\n",
              "      <td>218765</td>\n",
              "      <td>221466</td>\n",
              "      <td>440231</td>\n",
              "      <td>93908</td>\n",
              "      <td>24116</td>\n",
              "      <td>118024</td>\n",
              "      <td>2049</td>\n",
              "      <td>508</td>\n",
              "      <td>2557</td>\n",
              "      <td>75497</td>\n",
              "      <td>151272</td>\n",
              "      <td>226769</td>\n",
              "    </tr>\n",
              "  </tbody>\n",
              "</table>\n",
              "</div>"
            ],
            "text/plain": [
              "        Departamento   Poblacion_Hombres  ...  Inactivos_Mujeres  Inactivos_Total\n",
              "0           ATLANTIDA             155460  ...             107446           163670\n",
              "1               COLON             109611  ...              73884           110528\n",
              "2           COMAYAGUA             165967  ...             112428           162700\n",
              "3               COPAN             139009  ...              92839           130187\n",
              "4              CORTES             524025  ...             330431           504277\n",
              "5           CHOLUTECA             181803  ...             125835           185504\n",
              "6         EL PARAISO              167606  ...             112992           161420\n",
              "7   FRANCISCO MORAZAN             534832  ...             346597           527937\n",
              "8     GRACIAS A DIOS               27833  ...              17246            27893\n",
              "9            INTIBUCA              87170  ...              59150            82115\n",
              "10  ISLAS DE LA BAHIA              15477  ...              10065            15616\n",
              "11             LA PAZ              72736  ...              51174            72760\n",
              "12           LEMPIRA              124278  ...              83130           110799\n",
              "13         OCOTEPEQUE              51128  ...              35725            47976\n",
              "14           OLANCHO              193686  ...             133718           190385\n",
              "15      SANTA BARBARA             169595  ...             110055           164496\n",
              "16              VALLE              69802  ...              51851            77449\n",
              "17               YORO             218765  ...             151272           226769\n",
              "\n",
              "[18 rows x 13 columns]"
            ]
          },
          "metadata": {
            "tags": []
          },
          "execution_count": 73
        }
      ]
    },
    {
      "cell_type": "code",
      "metadata": {
        "colab": {
          "base_uri": "https://localhost:8080/",
          "height": 317
        },
        "id": "vD3j_RBXl2CZ",
        "outputId": "75f1f372-6f3b-4c1f-a4d6-94643112def4"
      },
      "source": [
        "#@title Estadística básica\n",
        "datos = df.describe()\n",
        "datos"
      ],
      "execution_count": 74,
      "outputs": [
        {
          "output_type": "execute_result",
          "data": {
            "text/html": [
              "<div>\n",
              "<style scoped>\n",
              "    .dataframe tbody tr th:only-of-type {\n",
              "        vertical-align: middle;\n",
              "    }\n",
              "\n",
              "    .dataframe tbody tr th {\n",
              "        vertical-align: top;\n",
              "    }\n",
              "\n",
              "    .dataframe thead th {\n",
              "        text-align: right;\n",
              "    }\n",
              "</style>\n",
              "<table border=\"1\" class=\"dataframe\">\n",
              "  <thead>\n",
              "    <tr style=\"text-align: right;\">\n",
              "      <th></th>\n",
              "      <th>Poblacion_Hombres</th>\n",
              "      <th>Poblacion_Mujeres</th>\n",
              "      <th>Poblacion_Total</th>\n",
              "      <th>Ocupados_Hombres</th>\n",
              "      <th>Ocupados_Mujeres</th>\n",
              "      <th>Ocupados_Total</th>\n",
              "      <th>Desocupados_Hombres</th>\n",
              "      <th>Desocupados_Mujeres</th>\n",
              "      <th>Desocupados_Total</th>\n",
              "      <th>Inactivos_Hombres</th>\n",
              "      <th>Inactivos_Mujeres</th>\n",
              "      <th>Inactivos_Total</th>\n",
              "    </tr>\n",
              "  </thead>\n",
              "  <tbody>\n",
              "    <tr>\n",
              "      <th>count</th>\n",
              "      <td>18.000000</td>\n",
              "      <td>18.000000</td>\n",
              "      <td>1.800000e+01</td>\n",
              "      <td>18.000000</td>\n",
              "      <td>18.000000</td>\n",
              "      <td>18.000000</td>\n",
              "      <td>18.000000</td>\n",
              "      <td>18.000000</td>\n",
              "      <td>18.000000</td>\n",
              "      <td>18.000000</td>\n",
              "      <td>18.000000</td>\n",
              "      <td>18.000000</td>\n",
              "    </tr>\n",
              "    <tr>\n",
              "      <th>mean</th>\n",
              "      <td>167154.611111</td>\n",
              "      <td>170450.111111</td>\n",
              "      <td>3.376047e+05</td>\n",
              "      <td>77596.388889</td>\n",
              "      <td>25001.888889</td>\n",
              "      <td>102598.277778</td>\n",
              "      <td>1731.888889</td>\n",
              "      <td>471.777778</td>\n",
              "      <td>2203.666667</td>\n",
              "      <td>53146.833333</td>\n",
              "      <td>111435.444444</td>\n",
              "      <td>164582.277778</td>\n",
              "    </tr>\n",
              "    <tr>\n",
              "      <th>std</th>\n",
              "      <td>144075.177565</td>\n",
              "      <td>154388.701484</td>\n",
              "      <td>2.983940e+05</td>\n",
              "      <td>66209.749485</td>\n",
              "      <td>37578.611994</td>\n",
              "      <td>102798.670500</td>\n",
              "      <td>2263.273108</td>\n",
              "      <td>732.045045</td>\n",
              "      <td>2990.023451</td>\n",
              "      <td>49216.816445</td>\n",
              "      <td>91691.423904</td>\n",
              "      <td>140732.975112</td>\n",
              "    </tr>\n",
              "    <tr>\n",
              "      <th>min</th>\n",
              "      <td>15477.000000</td>\n",
              "      <td>16075.000000</td>\n",
              "      <td>3.155200e+04</td>\n",
              "      <td>6466.000000</td>\n",
              "      <td>2809.000000</td>\n",
              "      <td>9275.000000</td>\n",
              "      <td>169.000000</td>\n",
              "      <td>52.000000</td>\n",
              "      <td>221.000000</td>\n",
              "      <td>5551.000000</td>\n",
              "      <td>10065.000000</td>\n",
              "      <td>15616.000000</td>\n",
              "    </tr>\n",
              "    <tr>\n",
              "      <th>25%</th>\n",
              "      <td>76344.500000</td>\n",
              "      <td>78272.500000</td>\n",
              "      <td>1.546170e+05</td>\n",
              "      <td>36246.500000</td>\n",
              "      <td>7597.500000</td>\n",
              "      <td>43960.000000</td>\n",
              "      <td>463.500000</td>\n",
              "      <td>82.750000</td>\n",
              "      <td>540.250000</td>\n",
              "      <td>23623.250000</td>\n",
              "      <td>53675.750000</td>\n",
              "      <td>78615.500000</td>\n",
              "    </tr>\n",
              "    <tr>\n",
              "      <th>50%</th>\n",
              "      <td>147234.500000</td>\n",
              "      <td>147411.000000</td>\n",
              "      <td>2.955620e+05</td>\n",
              "      <td>68005.500000</td>\n",
              "      <td>13873.500000</td>\n",
              "      <td>85746.500000</td>\n",
              "      <td>966.000000</td>\n",
              "      <td>258.500000</td>\n",
              "      <td>1265.500000</td>\n",
              "      <td>42888.000000</td>\n",
              "      <td>100142.500000</td>\n",
              "      <td>145803.500000</td>\n",
              "    </tr>\n",
              "    <tr>\n",
              "      <th>75%</th>\n",
              "      <td>178751.000000</td>\n",
              "      <td>178747.500000</td>\n",
              "      <td>3.565915e+05</td>\n",
              "      <td>82381.750000</td>\n",
              "      <td>19546.500000</td>\n",
              "      <td>101233.500000</td>\n",
              "      <td>1687.000000</td>\n",
              "      <td>383.500000</td>\n",
              "      <td>2022.250000</td>\n",
              "      <td>56556.250000</td>\n",
              "      <td>122624.250000</td>\n",
              "      <td>180252.000000</td>\n",
              "    </tr>\n",
              "    <tr>\n",
              "      <th>max</th>\n",
              "      <td>534832.000000</td>\n",
              "      <td>575068.000000</td>\n",
              "      <td>1.109900e+06</td>\n",
              "      <td>249792.000000</td>\n",
              "      <td>133254.000000</td>\n",
              "      <td>383046.000000</td>\n",
              "      <td>8385.000000</td>\n",
              "      <td>2627.000000</td>\n",
              "      <td>11012.000000</td>\n",
              "      <td>181340.000000</td>\n",
              "      <td>346597.000000</td>\n",
              "      <td>527937.000000</td>\n",
              "    </tr>\n",
              "  </tbody>\n",
              "</table>\n",
              "</div>"
            ],
            "text/plain": [
              "       Poblacion_Hombres  Poblacion_Mujeres  ...  Inactivos_Mujeres  Inactivos_Total\n",
              "count          18.000000          18.000000  ...          18.000000        18.000000\n",
              "mean       167154.611111      170450.111111  ...      111435.444444    164582.277778\n",
              "std        144075.177565      154388.701484  ...       91691.423904    140732.975112\n",
              "min         15477.000000       16075.000000  ...       10065.000000     15616.000000\n",
              "25%         76344.500000       78272.500000  ...       53675.750000     78615.500000\n",
              "50%        147234.500000      147411.000000  ...      100142.500000    145803.500000\n",
              "75%        178751.000000      178747.500000  ...      122624.250000    180252.000000\n",
              "max        534832.000000      575068.000000  ...      346597.000000    527937.000000\n",
              "\n",
              "[8 rows x 12 columns]"
            ]
          },
          "metadata": {
            "tags": []
          },
          "execution_count": 74
        }
      ]
    },
    {
      "cell_type": "code",
      "metadata": {
        "id": "WtM-DdhWpURx",
        "colab": {
          "base_uri": "https://localhost:8080/"
        },
        "outputId": "c81a4b2f-e013-415c-f937-9dc0217860fc"
      },
      "source": [
        "columna = \"Ocupados_Hombres\"\n",
        "media = df[columna].sum()/df[columna].count()\n",
        "media"
      ],
      "execution_count": 75,
      "outputs": [
        {
          "output_type": "execute_result",
          "data": {
            "text/plain": [
              "77596.38888888889"
            ]
          },
          "metadata": {
            "tags": []
          },
          "execution_count": 75
        }
      ]
    },
    {
      "cell_type": "code",
      "metadata": {
        "colab": {
          "base_uri": "https://localhost:8080/"
        },
        "id": "lLsayGdrhSmu",
        "outputId": "fc219561-33d1-473e-964d-f02c15b352b9"
      },
      "source": [
        "columna = \"Ocupados_Mujeres\"\n",
        "media = df[columna].sum()/df[columna].count()\n",
        "media"
      ],
      "execution_count": 77,
      "outputs": [
        {
          "output_type": "execute_result",
          "data": {
            "text/plain": [
              "25001.88888888889"
            ]
          },
          "metadata": {
            "tags": []
          },
          "execution_count": 77
        }
      ]
    },
    {
      "cell_type": "code",
      "metadata": {
        "colab": {
          "base_uri": "https://localhost:8080/"
        },
        "id": "TmWXFmaCOU9z",
        "outputId": "fff4b23f-aee5-4ad1-a1b6-f5b6bcd7603d"
      },
      "source": [
        "varianza = (((df[columna]-media)*(df[columna]-media)).sum())/(df[columna].count()-1)\n",
        "varianza "
      ],
      "execution_count": 78,
      "outputs": [
        {
          "output_type": "execute_result",
          "data": {
            "text/plain": [
              "1412152079.3986924"
            ]
          },
          "metadata": {
            "tags": []
          },
          "execution_count": 78
        }
      ]
    },
    {
      "cell_type": "code",
      "metadata": {
        "id": "JjGiRLn_ixzG"
      },
      "source": [
        ""
      ],
      "execution_count": 78,
      "outputs": []
    },
    {
      "cell_type": "markdown",
      "metadata": {
        "id": "wkfsjd6MSmOf"
      },
      "source": [
        ""
      ]
    },
    {
      "cell_type": "code",
      "metadata": {
        "colab": {
          "base_uri": "https://localhost:8080/"
        },
        "id": "iE2qypGpOU91",
        "outputId": "1da9a5db-0f88-4a8e-8db8-34b1cd394712"
      },
      "source": [
        "columna = \"Ocupados_Mujeres\"\n",
        "media = df[columna].sum()/df[columna].count()\n",
        "media"
      ],
      "execution_count": 79,
      "outputs": [
        {
          "output_type": "execute_result",
          "data": {
            "text/plain": [
              "25001.88888888889"
            ]
          },
          "metadata": {
            "tags": []
          },
          "execution_count": 79
        }
      ]
    },
    {
      "cell_type": "markdown",
      "metadata": {
        "id": "d-NGsDbzSmit"
      },
      "source": [
        ""
      ]
    },
    {
      "cell_type": "code",
      "metadata": {
        "colab": {
          "base_uri": "https://localhost:8080/"
        },
        "id": "fL-J2ef7OU92",
        "outputId": "0f9dd75d-32d0-4b05-d5d2-0f80ed6b07e0"
      },
      "source": [
        "varianza = (((df[columna]-media)*(df[columna]-media)).sum())/(df[columna].count()-1)\n",
        "varianza"
      ],
      "execution_count": 80,
      "outputs": [
        {
          "output_type": "execute_result",
          "data": {
            "text/plain": [
              "1412152079.3986924"
            ]
          },
          "metadata": {
            "tags": []
          },
          "execution_count": 80
        }
      ]
    },
    {
      "cell_type": "code",
      "metadata": {
        "colab": {
          "base_uri": "https://localhost:8080/"
        },
        "id": "nal_29meOU93",
        "outputId": "235ad736-c37f-4e16-8925-0aa3f6fa1ea6"
      },
      "source": [
        "poblacion_activa = df[\"Ocupados_Total\"].sum() + df[\"Desocupados_Total\"].sum()\n",
        "poblacion_activa"
      ],
      "execution_count": 81,
      "outputs": [
        {
          "output_type": "execute_result",
          "data": {
            "text/plain": [
              "1886435"
            ]
          },
          "metadata": {
            "tags": []
          },
          "execution_count": 81
        }
      ]
    },
    {
      "cell_type": "code",
      "metadata": {
        "colab": {
          "base_uri": "https://localhost:8080/"
        },
        "id": "IHWD75hdOU94",
        "outputId": "8e59ce88-e4eb-416a-9847-0b99b085e236"
      },
      "source": [
        "PET = poblacion_activa + df[\"Inactivos_Total\"].sum()\n",
        "PET"
      ],
      "execution_count": 82,
      "outputs": [
        {
          "output_type": "execute_result",
          "data": {
            "text/plain": [
              "4848916"
            ]
          },
          "metadata": {
            "tags": []
          },
          "execution_count": 82
        }
      ]
    },
    {
      "cell_type": "code",
      "metadata": {
        "colab": {
          "base_uri": "https://localhost:8080/"
        },
        "id": "YG5RdKXSOU94",
        "outputId": "47c50706-a02c-4598-eecd-ec206c9b7b3e"
      },
      "source": [
        "tasa_actividad = (poblacion_activa/PET)*100\n",
        "tasa_actividad "
      ],
      "execution_count": 83,
      "outputs": [
        {
          "output_type": "execute_result",
          "data": {
            "text/plain": [
              "38.90426231347377"
            ]
          },
          "metadata": {
            "tags": []
          },
          "execution_count": 83
        }
      ]
    },
    {
      "cell_type": "code",
      "metadata": {
        "colab": {
          "base_uri": "https://localhost:8080/"
        },
        "id": "9C9P9fe9Oep3",
        "outputId": "a696c57c-6619-47eb-fb3a-a799cc553a50"
      },
      "source": [
        "tasa_desempleo = (poblacion_desempleada/poblacion_activa)*100\n",
        "tasa_desempleo\n"
      ],
      "execution_count": 84,
      "outputs": [
        {
          "output_type": "execute_result",
          "data": {
            "text/plain": [
              "3.279837365188835"
            ]
          },
          "metadata": {
            "tags": []
          },
          "execution_count": 84
        }
      ]
    },
    {
      "cell_type": "code",
      "metadata": {
        "colab": {
          "base_uri": "https://localhost:8080/"
        },
        "id": "KfO1DvlNfEr0",
        "outputId": "f398ec77-cf30-42bb-cebe-a21334bb5c5f"
      },
      "source": [
        "poblacion_ocupada = df[\"Ocupados_Total\"].sum()\n",
        "poblacion_ocupada"
      ],
      "execution_count": 85,
      "outputs": [
        {
          "output_type": "execute_result",
          "data": {
            "text/plain": [
              "1846769"
            ]
          },
          "metadata": {
            "tags": []
          },
          "execution_count": 85
        }
      ]
    },
    {
      "cell_type": "code",
      "metadata": {
        "colab": {
          "base_uri": "https://localhost:8080/"
        },
        "id": "ITLtFxTTeIGF",
        "outputId": "81762792-5177-49d3-8fc3-358e673a04c8"
      },
      "source": [
        "poblacion_desempleada = df[\"Desocupados_Total\"].sum()\n",
        "poblacion_desempleada "
      ],
      "execution_count": 86,
      "outputs": [
        {
          "output_type": "execute_result",
          "data": {
            "text/plain": [
              "39666"
            ]
          },
          "metadata": {
            "tags": []
          },
          "execution_count": 86
        }
      ]
    },
    {
      "cell_type": "code",
      "metadata": {
        "colab": {
          "base_uri": "https://localhost:8080/"
        },
        "id": "1K54ymzRfout",
        "outputId": "05087b30-1fc0-4465-cc66-e40707c09abc"
      },
      "source": [
        "tasa_ocupacion = (poblacion_ocupada/poblacion_activa)*100\n",
        "tasa_ocupacion"
      ],
      "execution_count": 87,
      "outputs": [
        {
          "output_type": "execute_result",
          "data": {
            "text/plain": [
              "97.8973036441754"
            ]
          },
          "metadata": {
            "tags": []
          },
          "execution_count": 87
        }
      ]
    },
    {
      "cell_type": "code",
      "metadata": {
        "colab": {
          "base_uri": "https://localhost:8080/"
        },
        "id": "4yb0cc4BgGwN",
        "outputId": "40755805-7393-472e-8cc6-4e3aba3603ae"
      },
      "source": [
        "tasa_ocupacion + tasa_desempleo"
      ],
      "execution_count": 88,
      "outputs": [
        {
          "output_type": "execute_result",
          "data": {
            "text/plain": [
              "101.17714100936423"
            ]
          },
          "metadata": {
            "tags": []
          },
          "execution_count": 88
        }
      ]
    },
    {
      "cell_type": "code",
      "metadata": {
        "id": "_-Pujzp1GPWt"
      },
      "source": [
        ""
      ],
      "execution_count": null,
      "outputs": []
    }
  ]
}