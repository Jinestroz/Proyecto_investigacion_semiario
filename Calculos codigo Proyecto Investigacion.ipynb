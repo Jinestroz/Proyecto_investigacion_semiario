{
 "cells": [
  {
   "cell_type": "code",
   "execution_count": null,
   "metadata": {
    "colab": {
     "base_uri": "https://localhost:8080/",
     "height": 421
    },
    "id": "rdDbh_ZgbOv3",
    "outputId": "e716c0f1-c903-43a4-9391-785cef4b240f"
   },
   "outputs": [],
   "source": [
    "#tratamiento de datos\n",
    "import pandas as pd \n",
    "import numpy as np # funciones matematicas: algoritmos, matrices,algebra\n",
    "#graficos\n",
    "import matplotlib.pyplot as plt \n",
    "import statsmodels.api as sm # funciones de series temporales\n",
    "import statsmodels.api as sm\n",
    "from statsmodels.tsa.ar_model import AutoReg \n",
    "from datetime import timedelta\n",
    "from statsmodels.tsa.ar_model import AR \n",
    "from statsmodels.tsa.stattools import  adfuller\n",
    "from statsmodels.graphics.tsaplots import plot_pacf\n",
    "from statsmodels.graphics.tsaplots import plot_acf\n",
    "from statsmodels.tsa.stattools import pacf\n",
    "from sklearn.linear_model import LinearRegression\n",
    "from sklearn.metrics import mean_squared_error\n",
    "from time import time \n",
    "\n",
    "# @title Dataframe desde archivo CVS\n",
    "# df1 = pd.read_csv(\"lista_personas - Hoja 1.csv\")"
   ]
  },
  {
   "cell_type": "markdown",
   "metadata": {
    "id": "2NU3E3TLFmxY"
   },
   "source": [
    "# Tratamiento de los datos como CSV\n",
    "### En construcción...\n"
   ]
  },
  {
   "cell_type": "code",
   "execution_count": 2,
   "metadata": {
    "id": "t6YqLawUkAwy"
   },
   "outputs": [],
   "source": [
    "df = pd.read_csv(\"https://docs.google.com/spreadsheets/d/1fPlFOgW4QyzF2RcPA_HKgjAVj5muOCtN/export?format=csv\")"
   ]
  },
  {
   "cell_type": "code",
   "execution_count": 3,
   "metadata": {
    "colab": {
     "base_uri": "https://localhost:8080/",
     "height": 1000
    },
    "id": "j5q34vYIkX_6",
    "outputId": "7fa0e866-9793-46ed-9896-2a0a1b699d4f",
    "scrolled": true
   },
   "outputs": [
    {
     "data": {
      "text/html": [
       "<div>\n",
       "<style scoped>\n",
       "    .dataframe tbody tr th:only-of-type {\n",
       "        vertical-align: middle;\n",
       "    }\n",
       "\n",
       "    .dataframe tbody tr th {\n",
       "        vertical-align: top;\n",
       "    }\n",
       "\n",
       "    .dataframe thead th {\n",
       "        text-align: right;\n",
       "    }\n",
       "</style>\n",
       "<table border=\"1\" class=\"dataframe\">\n",
       "  <thead>\n",
       "    <tr style=\"text-align: right;\">\n",
       "      <th></th>\n",
       "      <th>Departamento</th>\n",
       "      <th>Año</th>\n",
       "      <th>Mes</th>\n",
       "      <th>Promedios_moviles_Ocupados_H</th>\n",
       "      <th>Promedios_Moviles_Ocupados_M</th>\n",
       "      <th>Promedios_Moviles_Ocupados_Total</th>\n",
       "      <th>Promedios_Moviles_Desocupados_H</th>\n",
       "      <th>Promedios_Moviles_Desocupados_M</th>\n",
       "      <th>Promedios_Moviles_Des_Total</th>\n",
       "      <th>Promedios_Moviles_Inac_H</th>\n",
       "      <th>Promedios_Moviles_Inac_M</th>\n",
       "      <th>Promedios_Moviles_Inac_T</th>\n",
       "    </tr>\n",
       "  </thead>\n",
       "  <tbody>\n",
       "    <tr>\n",
       "      <th>0</th>\n",
       "      <td>ATLANTIDA</td>\n",
       "      <td>2001</td>\n",
       "      <td>1/1/2001</td>\n",
       "      <td>66929</td>\n",
       "      <td>21562</td>\n",
       "      <td>88491</td>\n",
       "      <td>1606</td>\n",
       "      <td>417</td>\n",
       "      <td>2023</td>\n",
       "      <td>56224</td>\n",
       "      <td>107446</td>\n",
       "      <td>163670</td>\n",
       "    </tr>\n",
       "    <tr>\n",
       "      <th>1</th>\n",
       "      <td>COLON</td>\n",
       "      <td>2001</td>\n",
       "      <td>2/1/2001</td>\n",
       "      <td>47890</td>\n",
       "      <td>11327</td>\n",
       "      <td>59217</td>\n",
       "      <td>1008</td>\n",
       "      <td>385</td>\n",
       "      <td>1393</td>\n",
       "      <td>36644</td>\n",
       "      <td>73884</td>\n",
       "      <td>110528</td>\n",
       "    </tr>\n",
       "    <tr>\n",
       "      <th>2</th>\n",
       "      <td>COMAYAGUA</td>\n",
       "      <td>2001</td>\n",
       "      <td>3/1/2001</td>\n",
       "      <td>77800</td>\n",
       "      <td>18450</td>\n",
       "      <td>96250</td>\n",
       "      <td>1714</td>\n",
       "      <td>306</td>\n",
       "      <td>2020</td>\n",
       "      <td>50272</td>\n",
       "      <td>112428</td>\n",
       "      <td>162700</td>\n",
       "    </tr>\n",
       "    <tr>\n",
       "      <th>3</th>\n",
       "      <td>COPAN</td>\n",
       "      <td>2001</td>\n",
       "      <td>4/1/2001</td>\n",
       "      <td>64206</td>\n",
       "      <td>17113</td>\n",
       "      <td>81319</td>\n",
       "      <td>1443</td>\n",
       "      <td>369</td>\n",
       "      <td>1812</td>\n",
       "      <td>47713</td>\n",
       "      <td>97919</td>\n",
       "      <td>145633</td>\n",
       "    </tr>\n",
       "    <tr>\n",
       "      <th>4</th>\n",
       "      <td>CORTES</td>\n",
       "      <td>2001</td>\n",
       "      <td>5/1/2001</td>\n",
       "      <td>63299</td>\n",
       "      <td>15630</td>\n",
       "      <td>78929</td>\n",
       "      <td>1388</td>\n",
       "      <td>353</td>\n",
       "      <td>1742</td>\n",
       "      <td>44876</td>\n",
       "      <td>94744</td>\n",
       "      <td>139620</td>\n",
       "    </tr>\n",
       "    <tr>\n",
       "      <th>5</th>\n",
       "      <td>CHOLUTECA</td>\n",
       "      <td>2001</td>\n",
       "      <td>6/1/2001</td>\n",
       "      <td>68435</td>\n",
       "      <td>17064</td>\n",
       "      <td>85499</td>\n",
       "      <td>1515</td>\n",
       "      <td>343</td>\n",
       "      <td>1858</td>\n",
       "      <td>47621</td>\n",
       "      <td>101697</td>\n",
       "      <td>149318</td>\n",
       "    </tr>\n",
       "    <tr>\n",
       "      <th>6</th>\n",
       "      <td>EL PARAISO</td>\n",
       "      <td>2001</td>\n",
       "      <td>7/1/2001</td>\n",
       "      <td>65313</td>\n",
       "      <td>16602</td>\n",
       "      <td>81916</td>\n",
       "      <td>1449</td>\n",
       "      <td>355</td>\n",
       "      <td>1804</td>\n",
       "      <td>46737</td>\n",
       "      <td>98120</td>\n",
       "      <td>144857</td>\n",
       "    </tr>\n",
       "    <tr>\n",
       "      <th>7</th>\n",
       "      <td>FRANCISCO MORAZAN</td>\n",
       "      <td>2001</td>\n",
       "      <td>8/1/2001</td>\n",
       "      <td>65682</td>\n",
       "      <td>16432</td>\n",
       "      <td>82115</td>\n",
       "      <td>1451</td>\n",
       "      <td>351</td>\n",
       "      <td>1801</td>\n",
       "      <td>46411</td>\n",
       "      <td>98187</td>\n",
       "      <td>144598</td>\n",
       "    </tr>\n",
       "    <tr>\n",
       "      <th>8</th>\n",
       "      <td>GRACIAS A DIOS</td>\n",
       "      <td>2001</td>\n",
       "      <td>9/1/2001</td>\n",
       "      <td>66477</td>\n",
       "      <td>16700</td>\n",
       "      <td>83177</td>\n",
       "      <td>1471</td>\n",
       "      <td>350</td>\n",
       "      <td>1821</td>\n",
       "      <td>46923</td>\n",
       "      <td>99335</td>\n",
       "      <td>146258</td>\n",
       "    </tr>\n",
       "    <tr>\n",
       "      <th>9</th>\n",
       "      <td>INTIBUCA</td>\n",
       "      <td>2001</td>\n",
       "      <td>10/1/2001</td>\n",
       "      <td>65824</td>\n",
       "      <td>16578</td>\n",
       "      <td>82402</td>\n",
       "      <td>1457</td>\n",
       "      <td>352</td>\n",
       "      <td>1809</td>\n",
       "      <td>46690</td>\n",
       "      <td>98547</td>\n",
       "      <td>145238</td>\n",
       "    </tr>\n",
       "    <tr>\n",
       "      <th>10</th>\n",
       "      <td>ISLAS DE LA BAHIA</td>\n",
       "      <td>2001</td>\n",
       "      <td>11/1/2001</td>\n",
       "      <td>65995</td>\n",
       "      <td>16570</td>\n",
       "      <td>82565</td>\n",
       "      <td>1460</td>\n",
       "      <td>351</td>\n",
       "      <td>1810</td>\n",
       "      <td>46675</td>\n",
       "      <td>98690</td>\n",
       "      <td>145364</td>\n",
       "    </tr>\n",
       "    <tr>\n",
       "      <th>11</th>\n",
       "      <td>LA PAZ</td>\n",
       "      <td>2001</td>\n",
       "      <td>12/1/2001</td>\n",
       "      <td>66099</td>\n",
       "      <td>16616</td>\n",
       "      <td>82715</td>\n",
       "      <td>1463</td>\n",
       "      <td>351</td>\n",
       "      <td>1813</td>\n",
       "      <td>46763</td>\n",
       "      <td>98857</td>\n",
       "      <td>145620</td>\n",
       "    </tr>\n",
       "    <tr>\n",
       "      <th>12</th>\n",
       "      <td>LEMPIRA</td>\n",
       "      <td>2001</td>\n",
       "      <td>1/1/2001</td>\n",
       "      <td>65972</td>\n",
       "      <td>16588</td>\n",
       "      <td>82560</td>\n",
       "      <td>1460</td>\n",
       "      <td>351</td>\n",
       "      <td>1811</td>\n",
       "      <td>46709</td>\n",
       "      <td>98698</td>\n",
       "      <td>145407</td>\n",
       "    </tr>\n",
       "    <tr>\n",
       "      <th>13</th>\n",
       "      <td>OCOTEPEQUE</td>\n",
       "      <td>2001</td>\n",
       "      <td>2/1/2001</td>\n",
       "      <td>66022</td>\n",
       "      <td>16591</td>\n",
       "      <td>82613</td>\n",
       "      <td>1461</td>\n",
       "      <td>351</td>\n",
       "      <td>1811</td>\n",
       "      <td>46716</td>\n",
       "      <td>98748</td>\n",
       "      <td>145464</td>\n",
       "    </tr>\n",
       "    <tr>\n",
       "      <th>14</th>\n",
       "      <td>OLANCHO</td>\n",
       "      <td>2001</td>\n",
       "      <td>3/1/2001</td>\n",
       "      <td>66031</td>\n",
       "      <td>16598</td>\n",
       "      <td>82629</td>\n",
       "      <td>1461</td>\n",
       "      <td>351</td>\n",
       "      <td>1812</td>\n",
       "      <td>46729</td>\n",
       "      <td>98768</td>\n",
       "      <td>145497</td>\n",
       "    </tr>\n",
       "    <tr>\n",
       "      <th>15</th>\n",
       "      <td>SANTA BARBARA</td>\n",
       "      <td>2001</td>\n",
       "      <td>4/1/2001</td>\n",
       "      <td>66008</td>\n",
       "      <td>16593</td>\n",
       "      <td>82601</td>\n",
       "      <td>1460</td>\n",
       "      <td>351</td>\n",
       "      <td>1811</td>\n",
       "      <td>46718</td>\n",
       "      <td>98738</td>\n",
       "      <td>145456</td>\n",
       "    </tr>\n",
       "    <tr>\n",
       "      <th>16</th>\n",
       "      <td>VALLE</td>\n",
       "      <td>2001</td>\n",
       "      <td>5/1/2001</td>\n",
       "      <td>66020</td>\n",
       "      <td>16594</td>\n",
       "      <td>82615</td>\n",
       "      <td>1461</td>\n",
       "      <td>351</td>\n",
       "      <td>1812</td>\n",
       "      <td>46721</td>\n",
       "      <td>98751</td>\n",
       "      <td>145472</td>\n",
       "    </tr>\n",
       "    <tr>\n",
       "      <th>17</th>\n",
       "      <td>YORO</td>\n",
       "      <td>2001</td>\n",
       "      <td>6/1/2001</td>\n",
       "      <td>66020</td>\n",
       "      <td>16595</td>\n",
       "      <td>82615</td>\n",
       "      <td>1461</td>\n",
       "      <td>351</td>\n",
       "      <td>1812</td>\n",
       "      <td>46723</td>\n",
       "      <td>98752</td>\n",
       "      <td>145475</td>\n",
       "    </tr>\n",
       "    <tr>\n",
       "      <th>18</th>\n",
       "      <td>ATLANTIDA</td>\n",
       "      <td>2013</td>\n",
       "      <td>1/1/2013</td>\n",
       "      <td>66016</td>\n",
       "      <td>16594</td>\n",
       "      <td>82610</td>\n",
       "      <td>1461</td>\n",
       "      <td>351</td>\n",
       "      <td>1811</td>\n",
       "      <td>46721</td>\n",
       "      <td>98747</td>\n",
       "      <td>145468</td>\n",
       "    </tr>\n",
       "    <tr>\n",
       "      <th>19</th>\n",
       "      <td>COLON</td>\n",
       "      <td>2013</td>\n",
       "      <td>2/1/2013</td>\n",
       "      <td>66019</td>\n",
       "      <td>16594</td>\n",
       "      <td>82613</td>\n",
       "      <td>1461</td>\n",
       "      <td>351</td>\n",
       "      <td>1812</td>\n",
       "      <td>46721</td>\n",
       "      <td>98750</td>\n",
       "      <td>145472</td>\n",
       "    </tr>\n",
       "    <tr>\n",
       "      <th>20</th>\n",
       "      <td>COMAYAGUA</td>\n",
       "      <td>2013</td>\n",
       "      <td>3/1/2013</td>\n",
       "      <td>66018</td>\n",
       "      <td>16594</td>\n",
       "      <td>82613</td>\n",
       "      <td>1461</td>\n",
       "      <td>351</td>\n",
       "      <td>1812</td>\n",
       "      <td>46722</td>\n",
       "      <td>98750</td>\n",
       "      <td>145472</td>\n",
       "    </tr>\n",
       "    <tr>\n",
       "      <th>21</th>\n",
       "      <td>COPAN</td>\n",
       "      <td>2013</td>\n",
       "      <td>4/1/2013</td>\n",
       "      <td>66018</td>\n",
       "      <td>16594</td>\n",
       "      <td>82612</td>\n",
       "      <td>1461</td>\n",
       "      <td>351</td>\n",
       "      <td>1811</td>\n",
       "      <td>46721</td>\n",
       "      <td>98749</td>\n",
       "      <td>145470</td>\n",
       "    </tr>\n",
       "    <tr>\n",
       "      <th>22</th>\n",
       "      <td>CORTES</td>\n",
       "      <td>2013</td>\n",
       "      <td>5/1/2013</td>\n",
       "      <td>66018</td>\n",
       "      <td>16594</td>\n",
       "      <td>82613</td>\n",
       "      <td>1461</td>\n",
       "      <td>351</td>\n",
       "      <td>1812</td>\n",
       "      <td>46721</td>\n",
       "      <td>98750</td>\n",
       "      <td>145471</td>\n",
       "    </tr>\n",
       "    <tr>\n",
       "      <th>23</th>\n",
       "      <td>CHOLUTECA</td>\n",
       "      <td>2013</td>\n",
       "      <td>6/1/2013</td>\n",
       "      <td>66018</td>\n",
       "      <td>16594</td>\n",
       "      <td>82613</td>\n",
       "      <td>1461</td>\n",
       "      <td>351</td>\n",
       "      <td>1812</td>\n",
       "      <td>46721</td>\n",
       "      <td>98750</td>\n",
       "      <td>145471</td>\n",
       "    </tr>\n",
       "    <tr>\n",
       "      <th>24</th>\n",
       "      <td>EL PARAISO</td>\n",
       "      <td>2013</td>\n",
       "      <td>7/1/2013</td>\n",
       "      <td>66018</td>\n",
       "      <td>16594</td>\n",
       "      <td>82612</td>\n",
       "      <td>1461</td>\n",
       "      <td>351</td>\n",
       "      <td>1811</td>\n",
       "      <td>46721</td>\n",
       "      <td>98750</td>\n",
       "      <td>145471</td>\n",
       "    </tr>\n",
       "    <tr>\n",
       "      <th>25</th>\n",
       "      <td>FRANCISCO MORAZAN</td>\n",
       "      <td>2013</td>\n",
       "      <td>8/1/2013</td>\n",
       "      <td>66018</td>\n",
       "      <td>16594</td>\n",
       "      <td>82613</td>\n",
       "      <td>1461</td>\n",
       "      <td>351</td>\n",
       "      <td>1812</td>\n",
       "      <td>46721</td>\n",
       "      <td>98750</td>\n",
       "      <td>145471</td>\n",
       "    </tr>\n",
       "    <tr>\n",
       "      <th>26</th>\n",
       "      <td>GRACIAS A DIOS</td>\n",
       "      <td>2013</td>\n",
       "      <td>9/1/2013</td>\n",
       "      <td>66018</td>\n",
       "      <td>16594</td>\n",
       "      <td>82612</td>\n",
       "      <td>1461</td>\n",
       "      <td>351</td>\n",
       "      <td>1811</td>\n",
       "      <td>46721</td>\n",
       "      <td>98750</td>\n",
       "      <td>145471</td>\n",
       "    </tr>\n",
       "    <tr>\n",
       "      <th>27</th>\n",
       "      <td>INTIBUCA</td>\n",
       "      <td>2013</td>\n",
       "      <td>10/1/2013</td>\n",
       "      <td>66018</td>\n",
       "      <td>16594</td>\n",
       "      <td>82612</td>\n",
       "      <td>1461</td>\n",
       "      <td>351</td>\n",
       "      <td>1811</td>\n",
       "      <td>46721</td>\n",
       "      <td>98750</td>\n",
       "      <td>145471</td>\n",
       "    </tr>\n",
       "    <tr>\n",
       "      <th>28</th>\n",
       "      <td>ISLAS DE LA BAHIA</td>\n",
       "      <td>2013</td>\n",
       "      <td>11/1/2013</td>\n",
       "      <td>66018</td>\n",
       "      <td>16594</td>\n",
       "      <td>82613</td>\n",
       "      <td>1461</td>\n",
       "      <td>351</td>\n",
       "      <td>1812</td>\n",
       "      <td>46721</td>\n",
       "      <td>98750</td>\n",
       "      <td>145471</td>\n",
       "    </tr>\n",
       "    <tr>\n",
       "      <th>29</th>\n",
       "      <td>LA PAZ</td>\n",
       "      <td>2013</td>\n",
       "      <td>12/1/2013</td>\n",
       "      <td>66018</td>\n",
       "      <td>16594</td>\n",
       "      <td>82612</td>\n",
       "      <td>1461</td>\n",
       "      <td>351</td>\n",
       "      <td>1811</td>\n",
       "      <td>46721</td>\n",
       "      <td>98750</td>\n",
       "      <td>145471</td>\n",
       "    </tr>\n",
       "    <tr>\n",
       "      <th>30</th>\n",
       "      <td>LEMPIRA</td>\n",
       "      <td>2013</td>\n",
       "      <td>1/1/2013</td>\n",
       "      <td>66018</td>\n",
       "      <td>16594</td>\n",
       "      <td>82612</td>\n",
       "      <td>1461</td>\n",
       "      <td>351</td>\n",
       "      <td>1811</td>\n",
       "      <td>46721</td>\n",
       "      <td>98750</td>\n",
       "      <td>145471</td>\n",
       "    </tr>\n",
       "    <tr>\n",
       "      <th>31</th>\n",
       "      <td>OCOTEPEQUE</td>\n",
       "      <td>2013</td>\n",
       "      <td>2/1/2013</td>\n",
       "      <td>66018</td>\n",
       "      <td>16594</td>\n",
       "      <td>82613</td>\n",
       "      <td>1461</td>\n",
       "      <td>351</td>\n",
       "      <td>1812</td>\n",
       "      <td>46721</td>\n",
       "      <td>98750</td>\n",
       "      <td>145471</td>\n",
       "    </tr>\n",
       "    <tr>\n",
       "      <th>32</th>\n",
       "      <td>OLANCHO</td>\n",
       "      <td>2013</td>\n",
       "      <td>3/1/2013</td>\n",
       "      <td>66018</td>\n",
       "      <td>16594</td>\n",
       "      <td>82612</td>\n",
       "      <td>1461</td>\n",
       "      <td>351</td>\n",
       "      <td>1811</td>\n",
       "      <td>46721</td>\n",
       "      <td>98750</td>\n",
       "      <td>145471</td>\n",
       "    </tr>\n",
       "    <tr>\n",
       "      <th>33</th>\n",
       "      <td>SANTA BARBARA</td>\n",
       "      <td>2013</td>\n",
       "      <td>4/1/2013</td>\n",
       "      <td>66018</td>\n",
       "      <td>16594</td>\n",
       "      <td>82612</td>\n",
       "      <td>1461</td>\n",
       "      <td>351</td>\n",
       "      <td>1811</td>\n",
       "      <td>46721</td>\n",
       "      <td>98750</td>\n",
       "      <td>145471</td>\n",
       "    </tr>\n",
       "    <tr>\n",
       "      <th>34</th>\n",
       "      <td>VALLE</td>\n",
       "      <td>2013</td>\n",
       "      <td>5/1/2013</td>\n",
       "      <td>66018</td>\n",
       "      <td>16594</td>\n",
       "      <td>82613</td>\n",
       "      <td>1461</td>\n",
       "      <td>351</td>\n",
       "      <td>1812</td>\n",
       "      <td>46721</td>\n",
       "      <td>98750</td>\n",
       "      <td>145471</td>\n",
       "    </tr>\n",
       "    <tr>\n",
       "      <th>35</th>\n",
       "      <td>YORO</td>\n",
       "      <td>2013</td>\n",
       "      <td>6/1/2013</td>\n",
       "      <td>66018</td>\n",
       "      <td>16594</td>\n",
       "      <td>82612</td>\n",
       "      <td>1461</td>\n",
       "      <td>351</td>\n",
       "      <td>1811</td>\n",
       "      <td>46721</td>\n",
       "      <td>98750</td>\n",
       "      <td>145471</td>\n",
       "    </tr>\n",
       "  </tbody>\n",
       "</table>\n",
       "</div>"
      ],
      "text/plain": [
       "        Departamento   Año         Mes   Promedios_moviles_Ocupados_H   \\\n",
       "0           ATLANTIDA  2001   1/1/2001                           66929   \n",
       "1               COLON  2001   2/1/2001                           47890   \n",
       "2           COMAYAGUA  2001   3/1/2001                           77800   \n",
       "3               COPAN  2001   4/1/2001                           64206   \n",
       "4              CORTES  2001   5/1/2001                           63299   \n",
       "5           CHOLUTECA  2001   6/1/2001                           68435   \n",
       "6         EL PARAISO   2001   7/1/2001                           65313   \n",
       "7   FRANCISCO MORAZAN  2001   8/1/2001                           65682   \n",
       "8     GRACIAS A DIOS   2001   9/1/2001                           66477   \n",
       "9            INTIBUCA  2001  10/1/2001                           65824   \n",
       "10  ISLAS DE LA BAHIA  2001  11/1/2001                           65995   \n",
       "11             LA PAZ  2001  12/1/2001                           66099   \n",
       "12           LEMPIRA   2001   1/1/2001                           65972   \n",
       "13         OCOTEPEQUE  2001   2/1/2001                           66022   \n",
       "14           OLANCHO   2001   3/1/2001                           66031   \n",
       "15      SANTA BARBARA  2001   4/1/2001                           66008   \n",
       "16              VALLE  2001   5/1/2001                           66020   \n",
       "17               YORO  2001   6/1/2001                           66020   \n",
       "18          ATLANTIDA  2013   1/1/2013                           66016   \n",
       "19              COLON  2013   2/1/2013                           66019   \n",
       "20          COMAYAGUA  2013   3/1/2013                           66018   \n",
       "21              COPAN  2013   4/1/2013                           66018   \n",
       "22             CORTES  2013   5/1/2013                           66018   \n",
       "23          CHOLUTECA  2013   6/1/2013                           66018   \n",
       "24        EL PARAISO   2013   7/1/2013                           66018   \n",
       "25  FRANCISCO MORAZAN  2013   8/1/2013                           66018   \n",
       "26    GRACIAS A DIOS   2013   9/1/2013                           66018   \n",
       "27           INTIBUCA  2013  10/1/2013                           66018   \n",
       "28  ISLAS DE LA BAHIA  2013  11/1/2013                           66018   \n",
       "29             LA PAZ  2013  12/1/2013                           66018   \n",
       "30           LEMPIRA   2013   1/1/2013                           66018   \n",
       "31         OCOTEPEQUE  2013   2/1/2013                           66018   \n",
       "32           OLANCHO   2013   3/1/2013                           66018   \n",
       "33      SANTA BARBARA  2013   4/1/2013                           66018   \n",
       "34              VALLE  2013   5/1/2013                           66018   \n",
       "35               YORO  2013   6/1/2013                           66018   \n",
       "\n",
       "     Promedios_Moviles_Ocupados_M    Promedios_Moviles_Ocupados_Total   \\\n",
       "0                            21562                               88491   \n",
       "1                            11327                               59217   \n",
       "2                            18450                               96250   \n",
       "3                            17113                               81319   \n",
       "4                            15630                               78929   \n",
       "5                            17064                               85499   \n",
       "6                            16602                               81916   \n",
       "7                            16432                               82115   \n",
       "8                            16700                               83177   \n",
       "9                            16578                               82402   \n",
       "10                           16570                               82565   \n",
       "11                           16616                               82715   \n",
       "12                           16588                               82560   \n",
       "13                           16591                               82613   \n",
       "14                           16598                               82629   \n",
       "15                           16593                               82601   \n",
       "16                           16594                               82615   \n",
       "17                           16595                               82615   \n",
       "18                           16594                               82610   \n",
       "19                           16594                               82613   \n",
       "20                           16594                               82613   \n",
       "21                           16594                               82612   \n",
       "22                           16594                               82613   \n",
       "23                           16594                               82613   \n",
       "24                           16594                               82612   \n",
       "25                           16594                               82613   \n",
       "26                           16594                               82612   \n",
       "27                           16594                               82612   \n",
       "28                           16594                               82613   \n",
       "29                           16594                               82612   \n",
       "30                           16594                               82612   \n",
       "31                           16594                               82613   \n",
       "32                           16594                               82612   \n",
       "33                           16594                               82612   \n",
       "34                           16594                               82613   \n",
       "35                           16594                               82612   \n",
       "\n",
       "     Promedios_Moviles_Desocupados_H    Promedios_Moviles_Desocupados_M   \\\n",
       "0                                1606                                417   \n",
       "1                                1008                                385   \n",
       "2                                1714                                306   \n",
       "3                                1443                                369   \n",
       "4                                1388                                353   \n",
       "5                                1515                                343   \n",
       "6                                1449                                355   \n",
       "7                                1451                                351   \n",
       "8                                1471                                350   \n",
       "9                                1457                                352   \n",
       "10                               1460                                351   \n",
       "11                               1463                                351   \n",
       "12                               1460                                351   \n",
       "13                               1461                                351   \n",
       "14                               1461                                351   \n",
       "15                               1460                                351   \n",
       "16                               1461                                351   \n",
       "17                               1461                                351   \n",
       "18                               1461                                351   \n",
       "19                               1461                                351   \n",
       "20                               1461                                351   \n",
       "21                               1461                                351   \n",
       "22                               1461                                351   \n",
       "23                               1461                                351   \n",
       "24                               1461                                351   \n",
       "25                               1461                                351   \n",
       "26                               1461                                351   \n",
       "27                               1461                                351   \n",
       "28                               1461                                351   \n",
       "29                               1461                                351   \n",
       "30                               1461                                351   \n",
       "31                               1461                                351   \n",
       "32                               1461                                351   \n",
       "33                               1461                                351   \n",
       "34                               1461                                351   \n",
       "35                               1461                                351   \n",
       "\n",
       "     Promedios_Moviles_Des_Total    Promedios_Moviles_Inac_H   \\\n",
       "0                            2023                       56224   \n",
       "1                            1393                       36644   \n",
       "2                            2020                       50272   \n",
       "3                            1812                       47713   \n",
       "4                            1742                       44876   \n",
       "5                            1858                       47621   \n",
       "6                            1804                       46737   \n",
       "7                            1801                       46411   \n",
       "8                            1821                       46923   \n",
       "9                            1809                       46690   \n",
       "10                           1810                       46675   \n",
       "11                           1813                       46763   \n",
       "12                           1811                       46709   \n",
       "13                           1811                       46716   \n",
       "14                           1812                       46729   \n",
       "15                           1811                       46718   \n",
       "16                           1812                       46721   \n",
       "17                           1812                       46723   \n",
       "18                           1811                       46721   \n",
       "19                           1812                       46721   \n",
       "20                           1812                       46722   \n",
       "21                           1811                       46721   \n",
       "22                           1812                       46721   \n",
       "23                           1812                       46721   \n",
       "24                           1811                       46721   \n",
       "25                           1812                       46721   \n",
       "26                           1811                       46721   \n",
       "27                           1811                       46721   \n",
       "28                           1812                       46721   \n",
       "29                           1811                       46721   \n",
       "30                           1811                       46721   \n",
       "31                           1812                       46721   \n",
       "32                           1811                       46721   \n",
       "33                           1811                       46721   \n",
       "34                           1812                       46721   \n",
       "35                           1811                       46721   \n",
       "\n",
       "     Promedios_Moviles_Inac_M    Promedios_Moviles_Inac_T   \n",
       "0                       107446                      163670  \n",
       "1                        73884                      110528  \n",
       "2                       112428                      162700  \n",
       "3                        97919                      145633  \n",
       "4                        94744                      139620  \n",
       "5                       101697                      149318  \n",
       "6                        98120                      144857  \n",
       "7                        98187                      144598  \n",
       "8                        99335                      146258  \n",
       "9                        98547                      145238  \n",
       "10                       98690                      145364  \n",
       "11                       98857                      145620  \n",
       "12                       98698                      145407  \n",
       "13                       98748                      145464  \n",
       "14                       98768                      145497  \n",
       "15                       98738                      145456  \n",
       "16                       98751                      145472  \n",
       "17                       98752                      145475  \n",
       "18                       98747                      145468  \n",
       "19                       98750                      145472  \n",
       "20                       98750                      145472  \n",
       "21                       98749                      145470  \n",
       "22                       98750                      145471  \n",
       "23                       98750                      145471  \n",
       "24                       98750                      145471  \n",
       "25                       98750                      145471  \n",
       "26                       98750                      145471  \n",
       "27                       98750                      145471  \n",
       "28                       98750                      145471  \n",
       "29                       98750                      145471  \n",
       "30                       98750                      145471  \n",
       "31                       98750                      145471  \n",
       "32                       98750                      145471  \n",
       "33                       98750                      145471  \n",
       "34                       98750                      145471  \n",
       "35                       98750                      145471  "
      ]
     },
     "execution_count": 3,
     "metadata": {},
     "output_type": "execute_result"
    }
   ],
   "source": [
    "#@title datos muestra\n",
    "df"
   ]
  },
  {
   "cell_type": "code",
   "execution_count": 4,
   "metadata": {
    "colab": {
     "base_uri": "https://localhost:8080/",
     "height": 317
    },
    "id": "vD3j_RBXl2CZ",
    "outputId": "c45f691d-e9fc-4b24-b3b3-f5aa5374db81"
   },
   "outputs": [
    {
     "data": {
      "text/html": [
       "<div>\n",
       "<style scoped>\n",
       "    .dataframe tbody tr th:only-of-type {\n",
       "        vertical-align: middle;\n",
       "    }\n",
       "\n",
       "    .dataframe tbody tr th {\n",
       "        vertical-align: top;\n",
       "    }\n",
       "\n",
       "    .dataframe thead th {\n",
       "        text-align: right;\n",
       "    }\n",
       "</style>\n",
       "<table border=\"1\" class=\"dataframe\">\n",
       "  <thead>\n",
       "    <tr style=\"text-align: right;\">\n",
       "      <th></th>\n",
       "      <th>Año</th>\n",
       "      <th>Promedios_moviles_Ocupados_H</th>\n",
       "      <th>Promedios_Moviles_Ocupados_M</th>\n",
       "      <th>Promedios_Moviles_Ocupados_Total</th>\n",
       "      <th>Promedios_Moviles_Desocupados_H</th>\n",
       "      <th>Promedios_Moviles_Desocupados_M</th>\n",
       "      <th>Promedios_Moviles_Des_Total</th>\n",
       "      <th>Promedios_Moviles_Inac_H</th>\n",
       "      <th>Promedios_Moviles_Inac_M</th>\n",
       "      <th>Promedios_Moviles_Inac_T</th>\n",
       "    </tr>\n",
       "  </thead>\n",
       "  <tbody>\n",
       "    <tr>\n",
       "      <th>count</th>\n",
       "      <td>36.000000</td>\n",
       "      <td>36.000000</td>\n",
       "      <td>36.000000</td>\n",
       "      <td>36.000000</td>\n",
       "      <td>36.000000</td>\n",
       "      <td>36.000000</td>\n",
       "      <td>36.000000</td>\n",
       "      <td>36.000000</td>\n",
       "      <td>36.000000</td>\n",
       "      <td>36.000000</td>\n",
       "    </tr>\n",
       "    <tr>\n",
       "      <th>mean</th>\n",
       "      <td>2007.000000</td>\n",
       "      <td>65787.361111</td>\n",
       "      <td>16635.972222</td>\n",
       "      <td>82423.611111</td>\n",
       "      <td>1457.972222</td>\n",
       "      <td>352.972222</td>\n",
       "      <td>1810.583333</td>\n",
       "      <td>46801.222222</td>\n",
       "      <td>98605.694444</td>\n",
       "      <td>145406.972222</td>\n",
       "    </tr>\n",
       "    <tr>\n",
       "      <th>std</th>\n",
       "      <td>6.085111</td>\n",
       "      <td>3717.682728</td>\n",
       "      <td>1279.085711</td>\n",
       "      <td>4754.810726</td>\n",
       "      <td>92.404232</td>\n",
       "      <td>14.935071</td>\n",
       "      <td>87.925740</td>\n",
       "      <td>2446.987619</td>\n",
       "      <td>5090.089355</td>\n",
       "      <td>7367.533158</td>\n",
       "    </tr>\n",
       "    <tr>\n",
       "      <th>min</th>\n",
       "      <td>2001.000000</td>\n",
       "      <td>47890.000000</td>\n",
       "      <td>11327.000000</td>\n",
       "      <td>59217.000000</td>\n",
       "      <td>1008.000000</td>\n",
       "      <td>306.000000</td>\n",
       "      <td>1393.000000</td>\n",
       "      <td>36644.000000</td>\n",
       "      <td>73884.000000</td>\n",
       "      <td>110528.000000</td>\n",
       "    </tr>\n",
       "    <tr>\n",
       "      <th>25%</th>\n",
       "      <td>2001.000000</td>\n",
       "      <td>66014.000000</td>\n",
       "      <td>16594.000000</td>\n",
       "      <td>82607.750000</td>\n",
       "      <td>1460.750000</td>\n",
       "      <td>351.000000</td>\n",
       "      <td>1811.000000</td>\n",
       "      <td>46721.000000</td>\n",
       "      <td>98744.750000</td>\n",
       "      <td>145467.000000</td>\n",
       "    </tr>\n",
       "    <tr>\n",
       "      <th>50%</th>\n",
       "      <td>2007.000000</td>\n",
       "      <td>66018.000000</td>\n",
       "      <td>16594.000000</td>\n",
       "      <td>82612.000000</td>\n",
       "      <td>1461.000000</td>\n",
       "      <td>351.000000</td>\n",
       "      <td>1811.000000</td>\n",
       "      <td>46721.000000</td>\n",
       "      <td>98750.000000</td>\n",
       "      <td>145471.000000</td>\n",
       "    </tr>\n",
       "    <tr>\n",
       "      <th>75%</th>\n",
       "      <td>2013.000000</td>\n",
       "      <td>66019.250000</td>\n",
       "      <td>16594.250000</td>\n",
       "      <td>82613.000000</td>\n",
       "      <td>1461.000000</td>\n",
       "      <td>351.000000</td>\n",
       "      <td>1812.000000</td>\n",
       "      <td>46722.250000</td>\n",
       "      <td>98750.000000</td>\n",
       "      <td>145472.000000</td>\n",
       "    </tr>\n",
       "    <tr>\n",
       "      <th>max</th>\n",
       "      <td>2013.000000</td>\n",
       "      <td>77800.000000</td>\n",
       "      <td>21562.000000</td>\n",
       "      <td>96250.000000</td>\n",
       "      <td>1714.000000</td>\n",
       "      <td>417.000000</td>\n",
       "      <td>2023.000000</td>\n",
       "      <td>56224.000000</td>\n",
       "      <td>112428.000000</td>\n",
       "      <td>163670.000000</td>\n",
       "    </tr>\n",
       "  </tbody>\n",
       "</table>\n",
       "</div>"
      ],
      "text/plain": [
       "              Año    Promedios_moviles_Ocupados_H   \\\n",
       "count    36.000000                       36.000000   \n",
       "mean   2007.000000                    65787.361111   \n",
       "std       6.085111                     3717.682728   \n",
       "min    2001.000000                    47890.000000   \n",
       "25%    2001.000000                    66014.000000   \n",
       "50%    2007.000000                    66018.000000   \n",
       "75%    2013.000000                    66019.250000   \n",
       "max    2013.000000                    77800.000000   \n",
       "\n",
       "        Promedios_Moviles_Ocupados_M    Promedios_Moviles_Ocupados_Total   \\\n",
       "count                       36.000000                           36.000000   \n",
       "mean                     16635.972222                        82423.611111   \n",
       "std                       1279.085711                         4754.810726   \n",
       "min                      11327.000000                        59217.000000   \n",
       "25%                      16594.000000                        82607.750000   \n",
       "50%                      16594.000000                        82612.000000   \n",
       "75%                      16594.250000                        82613.000000   \n",
       "max                      21562.000000                        96250.000000   \n",
       "\n",
       "        Promedios_Moviles_Desocupados_H    Promedios_Moviles_Desocupados_M   \\\n",
       "count                          36.000000                          36.000000   \n",
       "mean                         1457.972222                         352.972222   \n",
       "std                            92.404232                          14.935071   \n",
       "min                          1008.000000                         306.000000   \n",
       "25%                          1460.750000                         351.000000   \n",
       "50%                          1461.000000                         351.000000   \n",
       "75%                          1461.000000                         351.000000   \n",
       "max                          1714.000000                         417.000000   \n",
       "\n",
       "        Promedios_Moviles_Des_Total    Promedios_Moviles_Inac_H   \\\n",
       "count                      36.000000                   36.000000   \n",
       "mean                     1810.583333                46801.222222   \n",
       "std                        87.925740                 2446.987619   \n",
       "min                      1393.000000                36644.000000   \n",
       "25%                      1811.000000                46721.000000   \n",
       "50%                      1811.000000                46721.000000   \n",
       "75%                      1812.000000                46722.250000   \n",
       "max                      2023.000000                56224.000000   \n",
       "\n",
       "        Promedios_Moviles_Inac_M    Promedios_Moviles_Inac_T   \n",
       "count                   36.000000                   36.000000  \n",
       "mean                 98605.694444               145406.972222  \n",
       "std                   5090.089355                 7367.533158  \n",
       "min                  73884.000000               110528.000000  \n",
       "25%                  98744.750000               145467.000000  \n",
       "50%                  98750.000000               145471.000000  \n",
       "75%                  98750.000000               145472.000000  \n",
       "max                 112428.000000               163670.000000  "
      ]
     },
     "execution_count": 4,
     "metadata": {},
     "output_type": "execute_result"
    }
   ],
   "source": [
    "#@title Estadística básica\n",
    "datos = df.describe()\n",
    "datos"
   ]
  },
  {
   "cell_type": "code",
   "execution_count": null,
   "metadata": {},
   "outputs": [],
   "source": [
    "df1 = pd.read_csv(\"https://docs.google.com/spreadsheets/d/1YeKAUkaCAKrohKwuK9UJF-oK4d7H-ZCnCEw7FFltZkw/export?format=csv\")"
   ]
  },
  {
   "cell_type": "code",
   "execution_count": 6,
   "metadata": {},
   "outputs": [
    {
     "data": {
      "text/html": [
       "<div>\n",
       "<style scoped>\n",
       "    .dataframe tbody tr th:only-of-type {\n",
       "        vertical-align: middle;\n",
       "    }\n",
       "\n",
       "    .dataframe tbody tr th {\n",
       "        vertical-align: top;\n",
       "    }\n",
       "\n",
       "    .dataframe thead th {\n",
       "        text-align: right;\n",
       "    }\n",
       "</style>\n",
       "<table border=\"1\" class=\"dataframe\">\n",
       "  <thead>\n",
       "    <tr style=\"text-align: right;\">\n",
       "      <th></th>\n",
       "      <th>Departamento</th>\n",
       "      <th>Año</th>\n",
       "      <th>Mes</th>\n",
       "      <th>Promedios_moviles_Ocupados_H</th>\n",
       "      <th>Promedios_Moviles_Ocupados_M</th>\n",
       "      <th>Promedios_Moviles_Ocupados_Total</th>\n",
       "      <th>Promedios_Moviles_Desocupados_H</th>\n",
       "      <th>Promedios_Moviles_Desocupados_M</th>\n",
       "      <th>Promedios_Moviles_Des_Total</th>\n",
       "      <th>Promedios_Moviles_Inac_H</th>\n",
       "      <th>Promedios_Moviles_Inac_M</th>\n",
       "      <th>Promedios_Moviles_Inac_T</th>\n",
       "    </tr>\n",
       "  </thead>\n",
       "  <tbody>\n",
       "    <tr>\n",
       "      <th>0</th>\n",
       "      <td>ATLANTIDA</td>\n",
       "      <td>2001</td>\n",
       "      <td>1/1/2001</td>\n",
       "      <td>66,929.00</td>\n",
       "      <td>21,562.00</td>\n",
       "      <td>88,491.00</td>\n",
       "      <td>1,606.00</td>\n",
       "      <td>417.00</td>\n",
       "      <td>2,023.00</td>\n",
       "      <td>56,224.00</td>\n",
       "      <td>107,446.00</td>\n",
       "      <td>163,670.00</td>\n",
       "    </tr>\n",
       "    <tr>\n",
       "      <th>1</th>\n",
       "      <td>COLON</td>\n",
       "      <td>2001</td>\n",
       "      <td>1/2/2001</td>\n",
       "      <td>47,890.00</td>\n",
       "      <td>11,327.00</td>\n",
       "      <td>59,217.00</td>\n",
       "      <td>1,008.00</td>\n",
       "      <td>385.00</td>\n",
       "      <td>1,393.00</td>\n",
       "      <td>36,644.00</td>\n",
       "      <td>73,884.00</td>\n",
       "      <td>110,528.00</td>\n",
       "    </tr>\n",
       "    <tr>\n",
       "      <th>2</th>\n",
       "      <td>COMAYAGUA</td>\n",
       "      <td>2001</td>\n",
       "      <td>1/3/2001</td>\n",
       "      <td>77,800.00</td>\n",
       "      <td>18,450.00</td>\n",
       "      <td>96,250.00</td>\n",
       "      <td>1,714.00</td>\n",
       "      <td>306.00</td>\n",
       "      <td>2,020.00</td>\n",
       "      <td>50,272.00</td>\n",
       "      <td>112,428.00</td>\n",
       "      <td>162,700.00</td>\n",
       "    </tr>\n",
       "    <tr>\n",
       "      <th>3</th>\n",
       "      <td>COPAN</td>\n",
       "      <td>2001</td>\n",
       "      <td>1/4/2001</td>\n",
       "      <td>64,206.33</td>\n",
       "      <td>17,113.00</td>\n",
       "      <td>81,319.33</td>\n",
       "      <td>1,442.67</td>\n",
       "      <td>369.33</td>\n",
       "      <td>1,812.00</td>\n",
       "      <td>47,713.33</td>\n",
       "      <td>97,919.33</td>\n",
       "      <td>145,632.67</td>\n",
       "    </tr>\n",
       "    <tr>\n",
       "      <th>4</th>\n",
       "      <td>CORTES</td>\n",
       "      <td>2001</td>\n",
       "      <td>1/5/2001</td>\n",
       "      <td>63,298.78</td>\n",
       "      <td>15,630.00</td>\n",
       "      <td>78,928.78</td>\n",
       "      <td>1,388.22</td>\n",
       "      <td>353.44</td>\n",
       "      <td>1,741.67</td>\n",
       "      <td>44,876.44</td>\n",
       "      <td>94,743.78</td>\n",
       "      <td>139,620.22</td>\n",
       "    </tr>\n",
       "    <tr>\n",
       "      <th>5</th>\n",
       "      <td>CHOLUTECA</td>\n",
       "      <td>2001</td>\n",
       "      <td>1/6/2001</td>\n",
       "      <td>68,435.04</td>\n",
       "      <td>17,064.33</td>\n",
       "      <td>85,499.37</td>\n",
       "      <td>1,514.96</td>\n",
       "      <td>342.93</td>\n",
       "      <td>1,857.89</td>\n",
       "      <td>47,620.59</td>\n",
       "      <td>101,697.04</td>\n",
       "      <td>149,317.63</td>\n",
       "    </tr>\n",
       "    <tr>\n",
       "      <th>6</th>\n",
       "      <td>EL PARAISO</td>\n",
       "      <td>2001</td>\n",
       "      <td>1/7/2001</td>\n",
       "      <td>65,313.38</td>\n",
       "      <td>16,602.44</td>\n",
       "      <td>81,915.83</td>\n",
       "      <td>1,448.62</td>\n",
       "      <td>355.23</td>\n",
       "      <td>1,803.85</td>\n",
       "      <td>46,736.79</td>\n",
       "      <td>98,120.05</td>\n",
       "      <td>144,856.84</td>\n",
       "    </tr>\n",
       "    <tr>\n",
       "      <th>7</th>\n",
       "      <td>FRANCISCO MORAZAN</td>\n",
       "      <td>2001</td>\n",
       "      <td>1/8/2001</td>\n",
       "      <td>65,682.40</td>\n",
       "      <td>16,432.26</td>\n",
       "      <td>82,114.66</td>\n",
       "      <td>1,450.60</td>\n",
       "      <td>350.53</td>\n",
       "      <td>1,801.14</td>\n",
       "      <td>46,411.28</td>\n",
       "      <td>98,186.95</td>\n",
       "      <td>144,598.23</td>\n",
       "    </tr>\n",
       "    <tr>\n",
       "      <th>8</th>\n",
       "      <td>GRACIAS A DIOS</td>\n",
       "      <td>2001</td>\n",
       "      <td>1/9/2001</td>\n",
       "      <td>66,476.94</td>\n",
       "      <td>16,699.68</td>\n",
       "      <td>83,176.62</td>\n",
       "      <td>1,471.39</td>\n",
       "      <td>349.57</td>\n",
       "      <td>1,820.96</td>\n",
       "      <td>46,922.89</td>\n",
       "      <td>99,334.68</td>\n",
       "      <td>146,257.57</td>\n",
       "    </tr>\n",
       "    <tr>\n",
       "      <th>9</th>\n",
       "      <td>INTIBUCA</td>\n",
       "      <td>2001</td>\n",
       "      <td>1/10/2001</td>\n",
       "      <td>65,824.24</td>\n",
       "      <td>16,578.13</td>\n",
       "      <td>82,402.37</td>\n",
       "      <td>1,456.87</td>\n",
       "      <td>351.78</td>\n",
       "      <td>1,808.65</td>\n",
       "      <td>46,690.32</td>\n",
       "      <td>98,547.23</td>\n",
       "      <td>145,237.55</td>\n",
       "    </tr>\n",
       "    <tr>\n",
       "      <th>10</th>\n",
       "      <td>ISLAS DE LA BAHIA</td>\n",
       "      <td>2001</td>\n",
       "      <td>1/11/2001</td>\n",
       "      <td>65,994.53</td>\n",
       "      <td>16,570.02</td>\n",
       "      <td>82,564.55</td>\n",
       "      <td>1,459.62</td>\n",
       "      <td>350.63</td>\n",
       "      <td>1,810.25</td>\n",
       "      <td>46,674.83</td>\n",
       "      <td>98,689.62</td>\n",
       "      <td>145,364.45</td>\n",
       "    </tr>\n",
       "    <tr>\n",
       "      <th>11</th>\n",
       "      <td>LA PAZ</td>\n",
       "      <td>2001</td>\n",
       "      <td>1/12/2001</td>\n",
       "      <td>66,098.57</td>\n",
       "      <td>16,615.94</td>\n",
       "      <td>82,714.51</td>\n",
       "      <td>1,462.63</td>\n",
       "      <td>350.66</td>\n",
       "      <td>1,813.29</td>\n",
       "      <td>46,762.68</td>\n",
       "      <td>98,857.18</td>\n",
       "      <td>145,619.85</td>\n",
       "    </tr>\n",
       "    <tr>\n",
       "      <th>12</th>\n",
       "      <td>LEMPIRA</td>\n",
       "      <td>2001</td>\n",
       "      <td>1/1/2001</td>\n",
       "      <td>65,972.45</td>\n",
       "      <td>16,588.03</td>\n",
       "      <td>82,560.48</td>\n",
       "      <td>1,459.71</td>\n",
       "      <td>351.02</td>\n",
       "      <td>1,810.73</td>\n",
       "      <td>46,709.27</td>\n",
       "      <td>98,698.01</td>\n",
       "      <td>145,407.28</td>\n",
       "    </tr>\n",
       "    <tr>\n",
       "      <th>13</th>\n",
       "      <td>OCOTEPEQUE</td>\n",
       "      <td>2001</td>\n",
       "      <td>1/2/2001</td>\n",
       "      <td>66,021.85</td>\n",
       "      <td>16,591.33</td>\n",
       "      <td>82,613.18</td>\n",
       "      <td>1,460.65</td>\n",
       "      <td>350.77</td>\n",
       "      <td>1,811.42</td>\n",
       "      <td>46,715.59</td>\n",
       "      <td>98,748.27</td>\n",
       "      <td>145,463.86</td>\n",
       "    </tr>\n",
       "    <tr>\n",
       "      <th>14</th>\n",
       "      <td>OLANCHO</td>\n",
       "      <td>2001</td>\n",
       "      <td>1/3/2001</td>\n",
       "      <td>66,030.95</td>\n",
       "      <td>16,598.44</td>\n",
       "      <td>82,629.39</td>\n",
       "      <td>1,461.00</td>\n",
       "      <td>350.81</td>\n",
       "      <td>1,811.81</td>\n",
       "      <td>46,729.18</td>\n",
       "      <td>98,767.82</td>\n",
       "      <td>145,497.00</td>\n",
       "    </tr>\n",
       "    <tr>\n",
       "      <th>15</th>\n",
       "      <td>SANTA BARBARA</td>\n",
       "      <td>2001</td>\n",
       "      <td>1/4/2001</td>\n",
       "      <td>66,008.42</td>\n",
       "      <td>16,592.60</td>\n",
       "      <td>82,601.01</td>\n",
       "      <td>1,460.45</td>\n",
       "      <td>350.87</td>\n",
       "      <td>1,811.32</td>\n",
       "      <td>46,718.02</td>\n",
       "      <td>98,738.03</td>\n",
       "      <td>145,456.05</td>\n",
       "    </tr>\n",
       "    <tr>\n",
       "      <th>16</th>\n",
       "      <td>VALLE</td>\n",
       "      <td>2001</td>\n",
       "      <td>1/5/2001</td>\n",
       "      <td>66,020.41</td>\n",
       "      <td>16,594.12</td>\n",
       "      <td>82,614.53</td>\n",
       "      <td>1,460.70</td>\n",
       "      <td>350.82</td>\n",
       "      <td>1,811.52</td>\n",
       "      <td>46,720.93</td>\n",
       "      <td>98,751.37</td>\n",
       "      <td>145,472.30</td>\n",
       "    </tr>\n",
       "    <tr>\n",
       "      <th>17</th>\n",
       "      <td>YORO</td>\n",
       "      <td>2001</td>\n",
       "      <td>1/6/2001</td>\n",
       "      <td>66,019.92</td>\n",
       "      <td>16,595.05</td>\n",
       "      <td>82,614.98</td>\n",
       "      <td>1,460.72</td>\n",
       "      <td>350.83</td>\n",
       "      <td>1,811.55</td>\n",
       "      <td>46,722.71</td>\n",
       "      <td>98,752.41</td>\n",
       "      <td>145,475.12</td>\n",
       "    </tr>\n",
       "  </tbody>\n",
       "</table>\n",
       "</div>"
      ],
      "text/plain": [
       "         Departamento   Año        Mes Promedios_moviles_Ocupados_H  \\\n",
       "0           ATLANTIDA  2001   1/1/2001                   66,929.00    \n",
       "1               COLON  2001   1/2/2001                   47,890.00    \n",
       "2           COMAYAGUA  2001   1/3/2001                   77,800.00    \n",
       "3               COPAN  2001   1/4/2001                   64,206.33    \n",
       "4              CORTES  2001   1/5/2001                   63,298.78    \n",
       "5           CHOLUTECA  2001   1/6/2001                   68,435.04    \n",
       "6          EL PARAISO  2001   1/7/2001                   65,313.38    \n",
       "7   FRANCISCO MORAZAN  2001   1/8/2001                   65,682.40    \n",
       "8      GRACIAS A DIOS  2001   1/9/2001                   66,476.94    \n",
       "9            INTIBUCA  2001  1/10/2001                   65,824.24    \n",
       "10  ISLAS DE LA BAHIA  2001  1/11/2001                   65,994.53    \n",
       "11             LA PAZ  2001  1/12/2001                   66,098.57    \n",
       "12            LEMPIRA  2001   1/1/2001                   65,972.45    \n",
       "13         OCOTEPEQUE  2001   1/2/2001                   66,021.85    \n",
       "14            OLANCHO  2001   1/3/2001                   66,030.95    \n",
       "15      SANTA BARBARA  2001   1/4/2001                   66,008.42    \n",
       "16              VALLE  2001   1/5/2001                   66,020.41    \n",
       "17               YORO  2001   1/6/2001                   66,019.92    \n",
       "\n",
       "   Promedios_Moviles_Ocupados_M Promedios_Moviles_Ocupados_Total  \\\n",
       "0                    21,562.00                        88,491.00    \n",
       "1                    11,327.00                        59,217.00    \n",
       "2                    18,450.00                        96,250.00    \n",
       "3                    17,113.00                        81,319.33    \n",
       "4                    15,630.00                        78,928.78    \n",
       "5                    17,064.33                        85,499.37    \n",
       "6                    16,602.44                        81,915.83    \n",
       "7                    16,432.26                        82,114.66    \n",
       "8                    16,699.68                        83,176.62    \n",
       "9                    16,578.13                        82,402.37    \n",
       "10                   16,570.02                        82,564.55    \n",
       "11                   16,615.94                        82,714.51    \n",
       "12                   16,588.03                        82,560.48    \n",
       "13                   16,591.33                        82,613.18    \n",
       "14                   16,598.44                        82,629.39    \n",
       "15                   16,592.60                        82,601.01    \n",
       "16                   16,594.12                        82,614.53    \n",
       "17                   16,595.05                        82,614.98    \n",
       "\n",
       "   Promedios_Moviles_Desocupados_H  Promedios_Moviles_Desocupados_M  \\\n",
       "0                        1,606.00                            417.00   \n",
       "1                        1,008.00                            385.00   \n",
       "2                        1,714.00                            306.00   \n",
       "3                        1,442.67                            369.33   \n",
       "4                        1,388.22                            353.44   \n",
       "5                        1,514.96                            342.93   \n",
       "6                        1,448.62                            355.23   \n",
       "7                        1,450.60                            350.53   \n",
       "8                        1,471.39                            349.57   \n",
       "9                        1,456.87                            351.78   \n",
       "10                       1,459.62                            350.63   \n",
       "11                       1,462.63                            350.66   \n",
       "12                       1,459.71                            351.02   \n",
       "13                       1,460.65                            350.77   \n",
       "14                       1,461.00                            350.81   \n",
       "15                       1,460.45                            350.87   \n",
       "16                       1,460.70                            350.82   \n",
       "17                       1,460.72                            350.83   \n",
       "\n",
       "   Promedios_Moviles_Des_Total Promedios_Moviles_Inac_H  \\\n",
       "0                    2,023.00                56,224.00    \n",
       "1                    1,393.00                36,644.00    \n",
       "2                    2,020.00                50,272.00    \n",
       "3                    1,812.00                47,713.33    \n",
       "4                    1,741.67                44,876.44    \n",
       "5                    1,857.89                47,620.59    \n",
       "6                    1,803.85                46,736.79    \n",
       "7                    1,801.14                46,411.28    \n",
       "8                    1,820.96                46,922.89    \n",
       "9                    1,808.65                46,690.32    \n",
       "10                   1,810.25                46,674.83    \n",
       "11                   1,813.29                46,762.68    \n",
       "12                   1,810.73                46,709.27    \n",
       "13                   1,811.42                46,715.59    \n",
       "14                   1,811.81                46,729.18    \n",
       "15                   1,811.32                46,718.02    \n",
       "16                   1,811.52                46,720.93    \n",
       "17                   1,811.55                46,722.71    \n",
       "\n",
       "   Promedios_Moviles_Inac_M Promedios_Moviles_Inac_T  \n",
       "0               107,446.00               163,670.00   \n",
       "1                73,884.00               110,528.00   \n",
       "2               112,428.00               162,700.00   \n",
       "3                97,919.33               145,632.67   \n",
       "4                94,743.78               139,620.22   \n",
       "5               101,697.04               149,317.63   \n",
       "6                98,120.05               144,856.84   \n",
       "7                98,186.95               144,598.23   \n",
       "8                99,334.68               146,257.57   \n",
       "9                98,547.23               145,237.55   \n",
       "10               98,689.62               145,364.45   \n",
       "11               98,857.18               145,619.85   \n",
       "12               98,698.01               145,407.28   \n",
       "13               98,748.27               145,463.86   \n",
       "14               98,767.82               145,497.00   \n",
       "15               98,738.03               145,456.05   \n",
       "16               98,751.37               145,472.30   \n",
       "17               98,752.41               145,475.12   "
      ]
     },
     "execution_count": 6,
     "metadata": {},
     "output_type": "execute_result"
    }
   ],
   "source": [
    "#@title datos muestra 2001 \n",
    "df1"
   ]
  },
  {
   "cell_type": "code",
   "execution_count": 7,
   "metadata": {
    "id": "GVeiPIvazFUL"
   },
   "outputs": [
    {
     "data": {
      "text/plain": [
       "0     2475454\n",
       "1     1790050\n",
       "2     2866810\n",
       "3     2377426\n",
       "4     2344774\n",
       "5     2529670\n",
       "6     2417278\n",
       "7     2430562\n",
       "8     2459182\n",
       "9     2435674\n",
       "10    2441830\n",
       "11    2445574\n",
       "12    2441002\n",
       "13    2442802\n",
       "14    2443126\n",
       "15    2442298\n",
       "16    2442730\n",
       "17    2442730\n",
       "18    2442586\n",
       "19    2442694\n",
       "20    2442658\n",
       "21    2442658\n",
       "22    2442658\n",
       "23    2442658\n",
       "24    2442658\n",
       "25    2442658\n",
       "26    2442658\n",
       "27    2442658\n",
       "28    2442658\n",
       "29    2442658\n",
       "30    2442658\n",
       "31    2442658\n",
       "32    2442658\n",
       "33    2442658\n",
       "34    2442658\n",
       "35    2442658\n",
       "Name:  Promedios_moviles_Ocupados_H , dtype: int64"
      ]
     },
     "execution_count": 7,
     "metadata": {},
     "output_type": "execute_result"
    }
   ],
   "source": [
    "c=66010\n",
    "AR1=36\n",
    "Modelo = c+(AR1*df[' Promedios_moviles_Ocupados_H '])\n",
    "Modelo "
   ]
  },
  {
   "cell_type": "code",
   "execution_count": 8,
   "metadata": {
    "id": "v6qDZ6u8VWcU"
   },
   "outputs": [
    {
     "name": "stderr",
     "output_type": "stream",
     "text": [
      "C:\\ProgramData\\Anaconda3\\lib\\site-packages\\statsmodels\\tsa\\ar_model.py:791: FutureWarning: \n",
      "statsmodels.tsa.AR has been deprecated in favor of statsmodels.tsa.AutoReg and\n",
      "statsmodels.tsa.SARIMAX.\n",
      "\n",
      "AutoReg adds the ability to specify exogenous variables, include time trends,\n",
      "and add seasonal dummies. The AutoReg API differs from AR since the model is\n",
      "treated as immutable, and so the entire specification including the lag\n",
      "length must be specified when creating the model. This change is too\n",
      "substantial to incorporate into the existing AR api. The function\n",
      "ar_select_order performs lag length selection for AutoReg models.\n",
      "\n",
      "AutoReg only estimates parameters using conditional MLE (OLS). Use SARIMAX to\n",
      "estimate ARX and related models using full MLE via the Kalman Filter.\n",
      "\n",
      "To silence this warning and continue using AR until it is removed, use:\n",
      "\n",
      "import warnings\n",
      "warnings.filterwarnings('ignore', 'statsmodels.tsa.ar_model.AR', FutureWarning)\n",
      "\n",
      "  warnings.warn(AR_DEPRECATION_WARN, FutureWarning)\n"
     ]
    },
    {
     "data": {
      "image/png": "[encoded data removed]",
      "text/plain": [
       "<Figure size 1296x144 with 1 Axes>"
      ]
     },
     "metadata": {
      "needs_background": "light"
     },
     "output_type": "display_data"
    }
   ],
   "source": [
    "#paso 3: Aplicacion del modelo AR sobre los datos\n",
    "modelo= sm.tsa.AR(df[' Promedios_moviles_Ocupados_H '].iloc[1:]) #Aplicacion del Modelo\n",
    "resultados = modelo.fit(disp=-2)\n",
    "df['pronostico'] = resultados.fittedvalues\n",
    "plot = df[[' Promedios_moviles_Ocupados_H ', 'pronostico']].plot(figsize=(18,2))"
   ]
  },
  {
   "cell_type": "code",
   "execution_count": 9,
   "metadata": {},
   "outputs": [
    {
     "name": "stdout",
     "output_type": "stream",
     "text": [
      "ADF Statistic: -1.311958\n",
      "p-value: 0.623684\n",
      "Critical Values:\n",
      "\t1%: -3.711\n",
      "\t5%: -2.981\n",
      "\t10%: -2.630\n",
      "failed to Reject Ho - Time series is Non-Stationary\n"
     ]
    }
   ],
   "source": [
    "X = df[\" Promedios_moviles_Ocupados_H \"].values # con los datos de los dos años 2001 y 2013\n",
    "result = adfuller(X) # ADF Prueba de Dickey-Fuller aumentada es una prueba de raiz unitaria para una muestra de una serie de tiempo\n",
    "print('ADF Statistic: %f' % result[0])\n",
    "print('p-value: %f' % result[1])\n",
    "print('Critical Values:') # Impresion de valores criticos\n",
    "for key, value in result[4].items():\n",
    "  print('\\t%s: %.3f' %  (key, value))\n",
    "\n",
    "if result[0] < result[4][\"5%\"]: # para un nivel del 5 % de confianza \n",
    "  print (\"Rejet Ho - Time series is Stationary\") # Rechazamos H0 y la serie de tiempo es estacionaria \n",
    "else: \n",
    "  print (\"failed to Reject Ho - Time series is Non-Stationary\") # No rechazamos H0 y la serie de tiempo es no-estacionaria."
   ]
  },
  {
   "cell_type": "code",
   "execution_count": 10,
   "metadata": {},
   "outputs": [
    {
     "name": "stdout",
     "output_type": "stream",
     "text": [
      "ADF Statistic: -0.774884\n",
      "p-value: 0.826388\n",
      "Critical Values:\n",
      "\t1%: -3.711\n",
      "\t5%: -2.981\n",
      "\t10%: -2.630\n",
      "failed to Reject Ho - Time series is Non-Stationary\n"
     ]
    }
   ],
   "source": [
    "X = df[\" Promedios_Moviles_Ocupados_M \"].values # con los datos de los dos años 2001 y 2013\n",
    "result = adfuller(X) # ADF Prueba de Dickey-Fuller aumentada es una prueba de raiz unitaria para una muestra de una serie de tiempo\n",
    "print('ADF Statistic: %f' % result[0])\n",
    "print('p-value: %f' % result[1])\n",
    "print('Critical Values:') # Impresion de valores criticos\n",
    "for key, value in result[4].items():\n",
    "  print('\\t%s: %.3f' %  (key, value))\n",
    "\n",
    "if result[0] < result[4][\"5%\"]: # para un nivel del 5 % de confianza \n",
    "  print (\"Rejet Ho - Time series is Stationary\") # Rechazamos H0 y la serie de tiempo es estacionaria \n",
    "else: \n",
    "  print (\"failed to Reject Ho - Time series is Non-Stationary\") # No rechazamos H0 y la serie de tiempo es no-estacionaria."
   ]
  },
  {
   "cell_type": "code",
   "execution_count": 11,
   "metadata": {},
   "outputs": [
    {
     "name": "stdout",
     "output_type": "stream",
     "text": [
      "ADF Statistic: -1.488932\n",
      "p-value: 0.538979\n",
      "Critical Values:\n",
      "\t1%: -3.679\n",
      "\t5%: -2.968\n",
      "\t10%: -2.623\n",
      "failed to Reject Ho - Time series is Non-Stationary\n"
     ]
    }
   ],
   "source": [
    "X = df[\" Promedios_Moviles_Ocupados_Total \"].values # con los datos de los dos años 2001 y 2013\n",
    "result = adfuller(X) # ADF Prueba de Dickey-Fuller aumentada es una prueba de raiz unitaria para una muestra de una serie de tiempo\n",
    "print('ADF Statistic: %f' % result[0])\n",
    "print('p-value: %f' % result[1])\n",
    "print('Critical Values:') # Impresion de valores criticos\n",
    "for key, value in result[4].items():\n",
    "  print('\\t%s: %.3f' %  (key, value))\n",
    "\n",
    "if result[0] < result[4][\"5%\"]: # para un nivel del 5 % de confianza \n",
    "  print (\"Rejet Ho - Time series is Stationary\") # Rechazamos H0 y la serie de tiempo es estacionaria \n",
    "else: \n",
    "  print (\"failed to Reject Ho - Time series is Non-Stationary\") # No rechazamos H0 y la serie de tiempo es no-estacionaria."
   ]
  },
  {
   "cell_type": "code",
   "execution_count": 12,
   "metadata": {},
   "outputs": [
    {
     "name": "stdout",
     "output_type": "stream",
     "text": [
      "ADF Statistic: -0.686844\n",
      "p-value: 0.850128\n",
      "Critical Values:\n",
      "\t1%: -3.724\n",
      "\t5%: -2.986\n",
      "\t10%: -2.633\n",
      "failed to Reject Ho - Time series is Non-Stationary\n"
     ]
    }
   ],
   "source": [
    "X = df[\" Promedios_Moviles_Desocupados_H \"].values # con los datos de los dos años 2001 y 2013\n",
    "result = adfuller(X) # ADF Prueba de Dickey-Fuller aumentada es una prueba de raiz unitaria para una muestra de una serie de tiempo\n",
    "print('ADF Statistic: %f' % result[0])\n",
    "print('p-value: %f' % result[1])\n",
    "print('Critical Values:') # Impresion de valores criticos\n",
    "for key, value in result[4].items():\n",
    "  print('\\t%s: %.3f' %  (key, value))\n",
    "\n",
    "if result[0] < result[4][\"5%\"]: # para un nivel del 5 % de confianza \n",
    "  print (\"Rejet Ho - Time series is Stationary\") # Rechazamos H0 y la serie de tiempo es estacionaria \n",
    "else: \n",
    "  print (\"failed to Reject Ho - Time series is Non-Stationary\") # No rechazamos H0 y la serie de tiempo es no-estacionaria."
   ]
  },
  {
   "cell_type": "code",
   "execution_count": 13,
   "metadata": {},
   "outputs": [
    {
     "name": "stdout",
     "output_type": "stream",
     "text": [
      "ADF Statistic: -8.600300\n",
      "p-value: 0.000000\n",
      "Critical Values:\n",
      "\t1%: -3.633\n",
      "\t5%: -2.949\n",
      "\t10%: -2.613\n",
      "Rejet Ho - Time series is Stationary\n"
     ]
    },
    {
     "name": "stderr",
     "output_type": "stream",
     "text": [
      "C:\\ProgramData\\Anaconda3\\lib\\site-packages\\statsmodels\\regression\\linear_model.py:903: RuntimeWarning: divide by zero encountered in log\n",
      "  llf = -nobs2*np.log(2*np.pi) - nobs2*np.log(ssr / nobs) - nobs2\n"
     ]
    }
   ],
   "source": [
    "X = df[\" Promedios_Moviles_Desocupados_M \"].values # con los datos de los dos años 2001 y 2013\n",
    "result = adfuller(X) # ADF Prueba de Dickey-Fuller aumentada es una prueba de raiz unitaria para una muestra de una serie de tiempo\n",
    "print('ADF Statistic: %f' % result[0])\n",
    "print('p-value: %f' % result[1])\n",
    "print('Critical Values:') # Impresion de valores criticos\n",
    "for key, value in result[4].items():\n",
    "  print('\\t%s: %.3f' %  (key, value))\n",
    "\n",
    "if result[0] < result[4][\"5%\"]: # para un nivel del 5 % de confianza \n",
    "  print (\"Rejet Ho - Time series is Stationary\") # Rechazamos H0 y la serie de tiempo es estacionaria \n",
    "else: \n",
    "  print (\"failed to Reject Ho - Time series is Non-Stationary\") # No rechazamos H0 y la serie de tiempo es no-estacionaria."
   ]
  },
  {
   "cell_type": "code",
   "execution_count": 14,
   "metadata": {},
   "outputs": [
    {
     "name": "stdout",
     "output_type": "stream",
     "text": [
      "ADF Statistic: -1.724134\n",
      "p-value: 0.418723\n",
      "Critical Values:\n",
      "\t1%: -3.670\n",
      "\t5%: -2.964\n",
      "\t10%: -2.621\n",
      "failed to Reject Ho - Time series is Non-Stationary\n"
     ]
    }
   ],
   "source": [
    "X = df[\" Promedios_Moviles_Des_Total \"].values # con los datos de los dos años 2001 y 2013\n",
    "result = adfuller(X) # ADF Prueba de Dickey-Fuller aumentada es una prueba de raiz unitaria para una muestra de una serie de tiempo\n",
    "print('ADF Statistic: %f' % result[0])\n",
    "print('p-value: %f' % result[1])\n",
    "print('Critical Values:') # Impresion de valores criticos\n",
    "for key, value in result[4].items():\n",
    "  print('\\t%s: %.3f' %  (key, value))\n",
    "\n",
    "if result[0] < result[4][\"5%\"]: # para un nivel del 5 % de confianza \n",
    "  print (\"Rejet Ho - Time series is Stationary\") # Rechazamos H0 y la serie de tiempo es estacionaria \n",
    "else: \n",
    "  print (\"failed to Reject Ho - Time series is Non-Stationary\") # No rechazamos H0 y la serie de tiempo es no-estacionaria."
   ]
  },
  {
   "cell_type": "code",
   "execution_count": 15,
   "metadata": {},
   "outputs": [
    {
     "name": "stdout",
     "output_type": "stream",
     "text": [
      "ADF Statistic: -1.685971\n",
      "p-value: 0.438355\n",
      "Critical Values:\n",
      "\t1%: -3.646\n",
      "\t5%: -2.954\n",
      "\t10%: -2.616\n",
      "failed to Reject Ho - Time series is Non-Stationary\n"
     ]
    }
   ],
   "source": [
    "X = df[\" Promedios_Moviles_Inac_H \"].values # con los datos de los dos años 2001 y 2013\n",
    "result = adfuller(X) # ADF Prueba de Dickey-Fuller aumentada es una prueba de raiz unitaria para una muestra de una serie de tiempo\n",
    "print('ADF Statistic: %f' % result[0])\n",
    "print('p-value: %f' % result[1])\n",
    "print('Critical Values:') # Impresion de valores criticos\n",
    "for key, value in result[4].items():\n",
    "  print('\\t%s: %.3f' %  (key, value))\n",
    "\n",
    "if result[0] < result[4][\"5%\"]: # para un nivel del 5 % de confianza \n",
    "  print (\"Rejet Ho - Time series is Stationary\") # Rechazamos H0 y la serie de tiempo es estacionaria \n",
    "else: \n",
    "  print (\"failed to Reject Ho - Time series is Non-Stationary\") # No rechazamos H0 y la serie de tiempo es no-estacionaria."
   ]
  },
  {
   "cell_type": "code",
   "execution_count": 16,
   "metadata": {},
   "outputs": [
    {
     "name": "stdout",
     "output_type": "stream",
     "text": [
      "ADF Statistic: -1.371974\n",
      "p-value: 0.595636\n",
      "Critical Values:\n",
      "\t1%: -3.679\n",
      "\t5%: -2.968\n",
      "\t10%: -2.623\n",
      "failed to Reject Ho - Time series is Non-Stationary\n"
     ]
    }
   ],
   "source": [
    "X = df[\" Promedios_Moviles_Inac_M \"].values # con los datos de los dos años 2001 y 2013\n",
    "result = adfuller(X) # ADF Prueba de Dickey-Fuller aumentada es una prueba de raiz unitaria para una muestra de una serie de tiempo\n",
    "print('ADF Statistic: %f' % result[0])\n",
    "print('p-value: %f' % result[1])\n",
    "print('Critical Values:') # Impresion de valores criticos\n",
    "for key, value in result[4].items():\n",
    "  print('\\t%s: %.3f' %  (key, value))\n",
    "\n",
    "if result[0] < result[4][\"5%\"]: # para un nivel del 5 % de confianza \n",
    "  print (\"Rejet Ho - Time series is Stationary\") # Rechazamos H0 y la serie de tiempo es estacionaria \n",
    "else: \n",
    "  print (\"failed to Reject Ho - Time series is Non-Stationary\") # No rechazamos H0 y la serie de tiempo es no-estacionaria."
   ]
  },
  {
   "cell_type": "code",
   "execution_count": 17,
   "metadata": {},
   "outputs": [
    {
     "name": "stdout",
     "output_type": "stream",
     "text": [
      "ADF Statistic: -3.840736\n",
      "p-value: 0.002517\n",
      "Critical Values:\n",
      "\t1%: -3.689\n",
      "\t5%: -2.972\n",
      "\t10%: -2.625\n",
      "Rejet Ho - Time series is Stationary\n"
     ]
    }
   ],
   "source": [
    "X = df[\" Promedios_Moviles_Inac_T \"].values # con los datos de los dos años 2001 y 2013\n",
    "result = adfuller(X) # ADF Prueba de Dickey-Fuller aumentada es una prueba de raiz unitaria para una muestra de una serie de tiempo\n",
    "print('ADF Statistic: %f' % result[0])\n",
    "print('p-value: %f' % result[1])\n",
    "print('Critical Values:') # Impresion de valores criticos\n",
    "for key, value in result[4].items():\n",
    "  print('\\t%s: %.3f' %  (key, value))\n",
    "\n",
    "if result[0] < result[4][\"5%\"]: # para un nivel del 5 % de confianza \n",
    "  print (\"Rejet Ho - Time series is Stationary\") # Rechazamos H0 y la serie de tiempo es estacionaria \n",
    "else: \n",
    "  print (\"failed to Reject Ho - Time series is Non-Stationary\") # No rechazamos H0 y la serie de tiempo es no-estacionaria."
   ]
  },
  {
   "cell_type": "code",
   "execution_count": 18,
   "metadata": {},
   "outputs": [
    {
     "data": {
      "text/plain": [
       "65787.36111111111"
      ]
     },
     "execution_count": 18,
     "metadata": {},
     "output_type": "execute_result"
    }
   ],
   "source": [
    "columna = \" Promedios_moviles_Ocupados_H \"\n",
    "media = df[columna].sum()/df[columna].count()\n",
    "media"
   ]
  },
  {
   "cell_type": "code",
   "execution_count": 19,
   "metadata": {},
   "outputs": [
    {
     "data": {
      "text/plain": [
       "13821164.865873015"
      ]
     },
     "execution_count": 19,
     "metadata": {},
     "output_type": "execute_result"
    }
   ],
   "source": [
    "varianza = (((df[columna]-media)*(df[columna]-media)).sum())/(df[columna].count()-1)\n",
    "varianza "
   ]
  },
  {
   "cell_type": "code",
   "execution_count": 20,
   "metadata": {},
   "outputs": [
    {
     "data": {
      "text/plain": [
       "<matplotlib.legend.Legend at 0x168e918dd30>"
      ]
     },
     "execution_count": 20,
     "metadata": {},
     "output_type": "execute_result"
    },
    {
     "data": {
      "image/png": "[encoded data removed]",
      "text/plain": [
       "<Figure size 432x288 with 1 Axes>"
      ]
     },
     "metadata": {
      "needs_background": "light"
     },
     "output_type": "display_data"
    }
   ],
   "source": [
    "fig, ax = plt.subplots()  \n",
    "ax.plot(df[\" Promedios_moviles_Ocupados_H \"], label='Ocupados_H 2001 y 2013')\n",
    "\n",
    "ax.set_xlabel('Departamentos')\n",
    "ax.set_ylabel('Personas')\n",
    "ax.set_title(\"Oupados_H 2001_2013\")\n",
    "ax.legend()"
   ]
  },
  {
   "cell_type": "code",
   "execution_count": 21,
   "metadata": {},
   "outputs": [
    {
     "data": {
      "text/plain": [
       "65787.36111111111"
      ]
     },
     "execution_count": 21,
     "metadata": {},
     "output_type": "execute_result"
    }
   ],
   "source": [
    "columna = \" Promedios_moviles_Ocupados_H \"\n",
    "media = df[columna].sum()/df[columna].count()\n",
    "media"
   ]
  },
  {
   "cell_type": "code",
   "execution_count": 22,
   "metadata": {},
   "outputs": [
    {
     "data": {
      "text/plain": [
       "13821164.865873015"
      ]
     },
     "execution_count": 22,
     "metadata": {},
     "output_type": "execute_result"
    }
   ],
   "source": [
    "varianza = (((df[columna]-media)*(df[columna]-media)).sum())/(df[columna].count()-1)\n",
    "varianza "
   ]
  },
  {
   "cell_type": "code",
   "execution_count": 23,
   "metadata": {},
   "outputs": [
    {
     "data": {
      "text/plain": [
       "16635.972222222223"
      ]
     },
     "execution_count": 23,
     "metadata": {},
     "output_type": "execute_result"
    }
   ],
   "source": [
    "columna = \" Promedios_Moviles_Ocupados_M \"\n",
    "media = df[columna].sum()/df[columna].count()\n",
    "media"
   ]
  },
  {
   "cell_type": "code",
   "execution_count": 24,
   "metadata": {},
   "outputs": [
    {
     "data": {
      "text/plain": [
       "1636060.2563492064"
      ]
     },
     "execution_count": 24,
     "metadata": {},
     "output_type": "execute_result"
    }
   ],
   "source": [
    "varianza = (((df[columna]-media)*(df[columna]-media)).sum())/(df[columna].count()-1)\n",
    "varianza "
   ]
  },
  {
   "cell_type": "code",
   "execution_count": 25,
   "metadata": {},
   "outputs": [
    {
     "data": {
      "text/plain": [
       "82423.61111111111"
      ]
     },
     "execution_count": 25,
     "metadata": {},
     "output_type": "execute_result"
    }
   ],
   "source": [
    "columna = \" Promedios_Moviles_Ocupados_Total \"\n",
    "media = df[columna].sum()/df[columna].count()\n",
    "media"
   ]
  },
  {
   "cell_type": "code",
   "execution_count": 26,
   "metadata": {},
   "outputs": [
    {
     "data": {
      "text/plain": [
       "22608225.044444446"
      ]
     },
     "execution_count": 26,
     "metadata": {},
     "output_type": "execute_result"
    }
   ],
   "source": [
    "varianza = (((df[columna]-media)*(df[columna]-media)).sum())/(df[columna].count()-1)\n",
    "varianza "
   ]
  },
  {
   "cell_type": "code",
   "execution_count": 27,
   "metadata": {},
   "outputs": [
    {
     "data": {
      "text/plain": [
       "1457.9722222222222"
      ]
     },
     "execution_count": 27,
     "metadata": {},
     "output_type": "execute_result"
    }
   ],
   "source": [
    "columna = \" Promedios_Moviles_Desocupados_H \"\n",
    "media = df[columna].sum()/df[columna].count()\n",
    "media"
   ]
  },
  {
   "cell_type": "code",
   "execution_count": 28,
   "metadata": {},
   "outputs": [
    {
     "data": {
      "text/plain": [
       "8538.542063492067"
      ]
     },
     "execution_count": 28,
     "metadata": {},
     "output_type": "execute_result"
    }
   ],
   "source": [
    "varianza = (((df[columna]-media)*(df[columna]-media)).sum())/(df[columna].count()-1)\n",
    "varianza "
   ]
  },
  {
   "cell_type": "code",
   "execution_count": 29,
   "metadata": {},
   "outputs": [
    {
     "data": {
      "text/plain": [
       "352.97222222222223"
      ]
     },
     "execution_count": 29,
     "metadata": {},
     "output_type": "execute_result"
    }
   ],
   "source": [
    "columna = \" Promedios_Moviles_Desocupados_M \"\n",
    "media = df[columna].sum()/df[columna].count()\n",
    "media"
   ]
  },
  {
   "cell_type": "code",
   "execution_count": 30,
   "metadata": {},
   "outputs": [
    {
     "data": {
      "text/plain": [
       "223.05634920634924"
      ]
     },
     "execution_count": 30,
     "metadata": {},
     "output_type": "execute_result"
    }
   ],
   "source": [
    "varianza = (((df[columna]-media)*(df[columna]-media)).sum())/(df[columna].count()-1)\n",
    "varianza "
   ]
  },
  {
   "cell_type": "code",
   "execution_count": 31,
   "metadata": {},
   "outputs": [
    {
     "data": {
      "text/plain": [
       "1810.5833333333333"
      ]
     },
     "execution_count": 31,
     "metadata": {},
     "output_type": "execute_result"
    }
   ],
   "source": [
    "columna = \" Promedios_Moviles_Des_Total \"\n",
    "media = df[columna].sum()/df[columna].count()\n",
    "media"
   ]
  },
  {
   "cell_type": "code",
   "execution_count": 32,
   "metadata": {},
   "outputs": [
    {
     "data": {
      "text/plain": [
       "7730.935714285714"
      ]
     },
     "execution_count": 32,
     "metadata": {},
     "output_type": "execute_result"
    }
   ],
   "source": [
    "varianza = (((df[columna]-media)*(df[columna]-media)).sum())/(df[columna].count()-1)\n",
    "varianza "
   ]
  },
  {
   "cell_type": "code",
   "execution_count": 33,
   "metadata": {},
   "outputs": [
    {
     "data": {
      "text/plain": [
       "46801.22222222222"
      ]
     },
     "execution_count": 33,
     "metadata": {},
     "output_type": "execute_result"
    }
   ],
   "source": [
    "columna = \" Promedios_Moviles_Inac_H \"\n",
    "media = df[columna].sum()/df[columna].count()\n",
    "media"
   ]
  },
  {
   "cell_type": "code",
   "execution_count": 34,
   "metadata": {},
   "outputs": [
    {
     "data": {
      "text/plain": [
       "5987748.406349205"
      ]
     },
     "execution_count": 34,
     "metadata": {},
     "output_type": "execute_result"
    }
   ],
   "source": [
    "varianza = (((df[columna]-media)*(df[columna]-media)).sum())/(df[columna].count()-1)\n",
    "varianza "
   ]
  },
  {
   "cell_type": "code",
   "execution_count": 35,
   "metadata": {},
   "outputs": [
    {
     "data": {
      "text/plain": [
       "98605.69444444444"
      ]
     },
     "execution_count": 35,
     "metadata": {},
     "output_type": "execute_result"
    }
   ],
   "source": [
    "columna = \" Promedios_Moviles_Inac_M \"\n",
    "media = df[columna].sum()/df[columna].count()\n",
    "media"
   ]
  },
  {
   "cell_type": "code",
   "execution_count": 36,
   "metadata": {},
   "outputs": [
    {
     "data": {
      "text/plain": [
       "25909009.646825407"
      ]
     },
     "execution_count": 36,
     "metadata": {},
     "output_type": "execute_result"
    }
   ],
   "source": [
    "varianza = (((df[columna]-media)*(df[columna]-media)).sum())/(df[columna].count()-1)\n",
    "varianza "
   ]
  },
  {
   "cell_type": "code",
   "execution_count": 37,
   "metadata": {},
   "outputs": [
    {
     "data": {
      "text/plain": [
       "145406.97222222222"
      ]
     },
     "execution_count": 37,
     "metadata": {},
     "output_type": "execute_result"
    }
   ],
   "source": [
    "columna = \" Promedios_Moviles_Inac_T \"\n",
    "media = df[columna].sum()/df[columna].count()\n",
    "media"
   ]
  },
  {
   "cell_type": "code",
   "execution_count": 38,
   "metadata": {},
   "outputs": [
    {
     "data": {
      "text/plain": [
       "54280544.827777766"
      ]
     },
     "execution_count": 38,
     "metadata": {},
     "output_type": "execute_result"
    }
   ],
   "source": [
    "varianza = (((df[columna]-media)*(df[columna]-media)).sum())/(df[columna].count()-1)\n",
    "varianza "
   ]
  },
  {
   "cell_type": "code",
   "execution_count": 39,
   "metadata": {},
   "outputs": [
    {
     "name": "stderr",
     "output_type": "stream",
     "text": [
      "C:\\ProgramData\\Anaconda3\\lib\\site-packages\\statsmodels\\tsa\\ar_model.py:248: FutureWarning: The parameter names will change after 0.12 is released. Set old_names to False to use the new names now. Set old_names to True to use the old names. \n",
      "  warnings.warn(\n"
     ]
    },
    {
     "name": "stdout",
     "output_type": "stream",
     "text": [
      "                                  AutoReg Model Results                                   \n",
      "==========================================================================================\n",
      "Dep. Variable:      Promedios_moviles_Ocupados_H    No. Observations:                   36\n",
      "Model:                                 AutoReg(1)   Log Likelihood                -331.521\n",
      "Method:                           Conditional MLE   S.D. of innovations           3143.506\n",
      "Date:                            Fri, 13 Aug 2021   AIC                             16.278\n",
      "Time:                                    15:02:48   BIC                             16.411\n",
      "Sample:                                         1   HQIC                            16.324\n",
      "                                               36                                         \n",
      "=====================================================================================================\n",
      "                                        coef    std err          z      P>|z|      [0.025      0.975]\n",
      "-----------------------------------------------------------------------------------------------------\n",
      "intercept                          1.007e+05   9417.245     10.694      0.000    8.22e+04    1.19e+05\n",
      " Promedios_moviles_Ocupados_H .L1    -0.5313      0.143     -3.717      0.000      -0.811      -0.251\n",
      "                                    Roots                                    \n",
      "=============================================================================\n",
      "                  Real          Imaginary           Modulus         Frequency\n",
      "-----------------------------------------------------------------------------\n",
      "AR.1           -1.8821           +0.0000j            1.8821            0.5000\n",
      "-----------------------------------------------------------------------------\n"
     ]
    }
   ],
   "source": [
    "# % Modelo AR.1 Ocupados Hombres\n",
    "ar_model = AutoReg(df[' Promedios_moviles_Ocupados_H '], lags=1).fit()\n",
    "#\n",
    "# Print Summary\n",
    "#\n",
    "print(ar_model.summary())"
   ]
  },
  {
   "cell_type": "code",
   "execution_count": 40,
   "metadata": {},
   "outputs": [
    {
     "name": "stdout",
     "output_type": "stream",
     "text": [
      "                                  AutoReg Model Results                                   \n",
      "==========================================================================================\n",
      "Dep. Variable:      Promedios_moviles_Ocupados_H    No. Observations:                   36\n",
      "Model:                                 AutoReg(2)   Log Likelihood                  -0.690\n",
      "Method:                           Conditional MLE   S.D. of innovations              0.247\n",
      "Date:                            Fri, 13 Aug 2021   AIC                             -2.562\n",
      "Time:                                    15:02:48   BIC                             -2.382\n",
      "Sample:                                         2   HQIC                            -2.501\n",
      "                                               36                                         \n",
      "=====================================================================================================\n",
      "                                        coef    std err          z      P>|z|      [0.025      0.975]\n",
      "-----------------------------------------------------------------------------------------------------\n",
      "intercept                           1.32e+05      1.528   8.64e+04      0.000    1.32e+05    1.32e+05\n",
      " Promedios_moviles_Ocupados_H .L1    -0.6667   1.33e-05  -5.02e+04      0.000      -0.667      -0.667\n",
      " Promedios_moviles_Ocupados_H .L2    -0.3333   1.33e-05  -2.51e+04      0.000      -0.333      -0.333\n",
      "                                    Roots                                    \n",
      "=============================================================================\n",
      "                  Real          Imaginary           Modulus         Frequency\n",
      "-----------------------------------------------------------------------------\n",
      "AR.1           -1.0000           -1.4142j            1.7321           -0.3480\n",
      "AR.2           -1.0000           +1.4142j            1.7321            0.3480\n",
      "-----------------------------------------------------------------------------\n"
     ]
    },
    {
     "name": "stderr",
     "output_type": "stream",
     "text": [
      "C:\\ProgramData\\Anaconda3\\lib\\site-packages\\statsmodels\\tsa\\ar_model.py:248: FutureWarning: The parameter names will change after 0.12 is released. Set old_names to False to use the new names now. Set old_names to True to use the old names. \n",
      "  warnings.warn(\n"
     ]
    }
   ],
   "source": [
    "# % Modelo AR.2 Ocupados Hombres\n",
    "ar_model = AutoReg(df[' Promedios_moviles_Ocupados_H '], lags=2).fit()\n",
    "#\n",
    "# Print Summary\n",
    "#\n",
    "print(ar_model.summary())"
   ]
  },
  {
   "cell_type": "code",
   "execution_count": 41,
   "metadata": {},
   "outputs": [
    {
     "name": "stderr",
     "output_type": "stream",
     "text": [
      "C:\\ProgramData\\Anaconda3\\lib\\site-packages\\statsmodels\\tsa\\ar_model.py:248: FutureWarning: The parameter names will change after 0.12 is released. Set old_names to False to use the new names now. Set old_names to True to use the old names. \n",
      "  warnings.warn(\n"
     ]
    },
    {
     "name": "stdout",
     "output_type": "stream",
     "text": [
      "                                  AutoReg Model Results                                   \n",
      "==========================================================================================\n",
      "Dep. Variable:      Promedios_Moviles_Ocupados_M    No. Observations:                   36\n",
      "Model:                                 AutoReg(1)   Log Likelihood                -269.372\n",
      "Method:                           Conditional MLE   S.D. of innovations            532.404\n",
      "Date:                            Fri, 13 Aug 2021   AIC                             12.726\n",
      "Time:                                    15:02:49   BIC                             12.860\n",
      "Sample:                                         1   HQIC                            12.772\n",
      "                                               36                                         \n",
      "=====================================================================================================\n",
      "                                        coef    std err          z      P>|z|      [0.025      0.975]\n",
      "-----------------------------------------------------------------------------------------------------\n",
      "intercept                           2.69e+04   1174.015     22.910      0.000    2.46e+04    2.92e+04\n",
      " Promedios_Moviles_Ocupados_M .L1    -0.6252      0.070     -8.886      0.000      -0.763      -0.487\n",
      "                                    Roots                                    \n",
      "=============================================================================\n",
      "                  Real          Imaginary           Modulus         Frequency\n",
      "-----------------------------------------------------------------------------\n",
      "AR.1           -1.5995           +0.0000j            1.5995            0.5000\n",
      "-----------------------------------------------------------------------------\n"
     ]
    }
   ],
   "source": [
    "# % Modelo AR.1 Ocupados Mujeres\n",
    "ar_model = AutoReg(df[' Promedios_Moviles_Ocupados_M '], lags=1).fit()\n",
    "#\n",
    "# Print Summary\n",
    "#\n",
    "print(ar_model.summary())"
   ]
  },
  {
   "cell_type": "code",
   "execution_count": 84,
   "metadata": {},
   "outputs": [
    {
     "name": "stdout",
     "output_type": "stream",
     "text": [
      "                                  AutoReg Model Results                                   \n",
      "==========================================================================================\n",
      "Dep. Variable:      Promedios_Moviles_Ocupados_M    No. Observations:                   36\n",
      "Model:                                 AutoReg(2)   Log Likelihood                  -8.022\n",
      "Method:                           Conditional MLE   S.D. of innovations              0.306\n",
      "Date:                            Fri, 13 Aug 2021   AIC                             -2.131\n",
      "Time:                                    15:51:12   BIC                             -1.951\n",
      "Sample:                                         2   HQIC                            -2.069\n",
      "                                               36                                         \n",
      "=====================================================================================================\n",
      "                                        coef    std err          z      P>|z|      [0.025      0.975]\n",
      "-----------------------------------------------------------------------------------------------------\n",
      "intercept                          3.319e+04      2.702   1.23e+04      0.000    3.32e+04    3.32e+04\n",
      " Promedios_Moviles_Ocupados_M .L1    -0.6668   9.73e-05  -6853.233      0.000      -0.667      -0.667\n",
      " Promedios_Moviles_Ocupados_M .L2    -0.3334   7.31e-05  -4562.768      0.000      -0.334      -0.333\n",
      "                                    Roots                                    \n",
      "=============================================================================\n",
      "                  Real          Imaginary           Modulus         Frequency\n",
      "-----------------------------------------------------------------------------\n",
      "AR.1           -1.0000           -1.4141j            1.7319           -0.3480\n",
      "AR.2           -1.0000           +1.4141j            1.7319            0.3480\n",
      "-----------------------------------------------------------------------------\n"
     ]
    },
    {
     "name": "stderr",
     "output_type": "stream",
     "text": [
      "C:\\ProgramData\\Anaconda3\\lib\\site-packages\\statsmodels\\tsa\\ar_model.py:248: FutureWarning: The parameter names will change after 0.12 is released. Set old_names to False to use the new names now. Set old_names to True to use the old names. \n",
      "  warnings.warn(\n"
     ]
    }
   ],
   "source": [
    "# % Modelo AR.2 Ocupados Mujeres \n",
    "ar_model = AutoReg(df[' Promedios_Moviles_Ocupados_M '], lags=2).fit()\n",
    "#\n",
    "# Print Summary\n",
    "#\n",
    "print(ar_model.summary())"
   ]
  },
  {
   "cell_type": "code",
   "execution_count": 42,
   "metadata": {},
   "outputs": [
    {
     "name": "stdout",
     "output_type": "stream",
     "text": [
      "                                    AutoReg Model Results                                     \n",
      "==============================================================================================\n",
      "Dep. Variable:      Promedios_Moviles_Ocupados_Total    No. Observations:                   36\n",
      "Model:                                     AutoReg(3)   Log Likelihood                 -11.997\n",
      "Method:                               Conditional MLE   S.D. of innovations              0.348\n",
      "Date:                                Fri, 13 Aug 2021   AIC                             -1.808\n",
      "Time:                                        15:02:49   BIC                             -1.581\n",
      "Sample:                                             3   HQIC                            -1.731\n",
      "                                                   36                                         \n",
      "=========================================================================================================\n",
      "                                            coef    std err          z      P>|z|      [0.025      0.975]\n",
      "---------------------------------------------------------------------------------------------------------\n",
      "intercept                              1.047e+05    2.7e+04      3.870      0.000    5.17e+04    1.58e+05\n",
      " Promedios_Moviles_Ocupados_Total .L1    -0.3002      0.164     -1.834      0.067      -0.621       0.021\n",
      " Promedios_Moviles_Ocupados_Total .L2    -0.0890      0.109     -0.816      0.415      -0.303       0.125\n",
      " Promedios_Moviles_Ocupados_Total .L3     0.1221      0.055      2.238      0.025       0.015       0.229\n",
      "                                    Roots                                    \n",
      "=============================================================================\n",
      "                  Real          Imaginary           Modulus         Frequency\n",
      "-----------------------------------------------------------------------------\n",
      "AR.1           -1.0000           -1.4142j            1.7321           -0.3480\n",
      "AR.2           -1.0000           +1.4142j            1.7321            0.3480\n",
      "AR.3            2.7291           -0.0000j            2.7291           -0.0000\n",
      "-----------------------------------------------------------------------------\n"
     ]
    },
    {
     "name": "stderr",
     "output_type": "stream",
     "text": [
      "C:\\ProgramData\\Anaconda3\\lib\\site-packages\\statsmodels\\tsa\\ar_model.py:248: FutureWarning: The parameter names will change after 0.12 is released. Set old_names to False to use the new names now. Set old_names to True to use the old names. \n",
      "  warnings.warn(\n"
     ]
    }
   ],
   "source": [
    "# Modelo AR.1 Ocupadoss Total \n",
    "ar_model = AutoReg(df[' Promedios_Moviles_Ocupados_Total '], lags=1).fit()\n",
    "#\n",
    "# Print Summary\n",
    "#\n",
    "print(ar_model.summary())"
   ]
  },
  {
   "cell_type": "code",
   "execution_count": 68,
   "metadata": {},
   "outputs": [
    {
     "name": "stdout",
     "output_type": "stream",
     "text": [
      "                                    AutoReg Model Results                                     \n",
      "==============================================================================================\n",
      "Dep. Variable:      Promedios_Moviles_Ocupados_Total    No. Observations:                   36\n",
      "Model:                                     AutoReg(2)   Log Likelihood                 -14.258\n",
      "Method:                               Conditional MLE   S.D. of innovations              0.368\n",
      "Date:                                Fri, 13 Aug 2021   AIC                             -1.764\n",
      "Time:                                        15:15:20   BIC                             -1.584\n",
      "Sample:                                             2   HQIC                            -1.703\n",
      "                                                   36                                         \n",
      "=========================================================================================================\n",
      "                                            coef    std err          z      P>|z|      [0.025      0.975]\n",
      "---------------------------------------------------------------------------------------------------------\n",
      "intercept                              1.652e+05      2.529   6.53e+04      0.000    1.65e+05    1.65e+05\n",
      " Promedios_Moviles_Ocupados_Total .L1    -0.6667   1.72e-05  -3.87e+04      0.000      -0.667      -0.667\n",
      " Promedios_Moviles_Ocupados_Total .L2    -0.3333   1.68e-05  -1.98e+04      0.000      -0.333      -0.333\n",
      "                                    Roots                                    \n",
      "=============================================================================\n",
      "                  Real          Imaginary           Modulus         Frequency\n",
      "-----------------------------------------------------------------------------\n",
      "AR.1           -1.0000           -1.4142j            1.7321           -0.3480\n",
      "AR.2           -1.0000           +1.4142j            1.7321            0.3480\n",
      "-----------------------------------------------------------------------------\n"
     ]
    },
    {
     "name": "stderr",
     "output_type": "stream",
     "text": [
      "C:\\ProgramData\\Anaconda3\\lib\\site-packages\\statsmodels\\tsa\\ar_model.py:248: FutureWarning: The parameter names will change after 0.12 is released. Set old_names to False to use the new names now. Set old_names to True to use the old names. \n",
      "  warnings.warn(\n"
     ]
    }
   ],
   "source": [
    "# Modelo AR.2 Ocupados Total \n",
    "ar_model = AutoReg(df[' Promedios_Moviles_Ocupados_Total '], lags=2).fit()\n",
    "#\n",
    "# Print Summary\n",
    "#\n",
    "print(ar_model.summary())"
   ]
  },
  {
   "cell_type": "code",
   "execution_count": 70,
   "metadata": {},
   "outputs": [
    {
     "name": "stdout",
     "output_type": "stream",
     "text": [
      "                                    AutoReg Model Results                                    \n",
      "=============================================================================================\n",
      "Dep. Variable:      Promedios_Moviles_Desocupados_H    No. Observations:                   36\n",
      "Model:                                    AutoReg(1)   Log Likelihood                -196.799\n",
      "Method:                              Conditional MLE   S.D. of innovations             66.946\n",
      "Date:                               Fri, 13 Aug 2021   AIC                              8.579\n",
      "Time:                                       15:20:11   BIC                              8.713\n",
      "Sample:                                            1   HQIC                             8.625\n",
      "                                                  36                                         \n",
      "========================================================================================================\n",
      "                                           coef    std err          z      P>|z|      [0.025      0.975]\n",
      "--------------------------------------------------------------------------------------------------------\n",
      "intercept                             2375.4605    178.895     13.279      0.000    2024.833    2726.088\n",
      " Promedios_Moviles_Desocupados_H .L1    -0.6322      0.122     -5.163      0.000      -0.872      -0.392\n",
      "                                    Roots                                    \n",
      "=============================================================================\n",
      "                  Real          Imaginary           Modulus         Frequency\n",
      "-----------------------------------------------------------------------------\n",
      "AR.1           -1.5817           +0.0000j            1.5817            0.5000\n",
      "-----------------------------------------------------------------------------\n"
     ]
    },
    {
     "name": "stderr",
     "output_type": "stream",
     "text": [
      "C:\\ProgramData\\Anaconda3\\lib\\site-packages\\statsmodels\\tsa\\ar_model.py:248: FutureWarning: The parameter names will change after 0.12 is released. Set old_names to False to use the new names now. Set old_names to True to use the old names. \n",
      "  warnings.warn(\n"
     ]
    }
   ],
   "source": [
    "# % Modelo AR.1 desocupados Hombres \n",
    "ar_model = AutoReg(df[' Promedios_Moviles_Desocupados_H '], lags=1).fit()\n",
    "#\n",
    "# Print Summary\n",
    "#\n",
    "print(ar_model.summary())"
   ]
  },
  {
   "cell_type": "code",
   "execution_count": 71,
   "metadata": {},
   "outputs": [
    {
     "name": "stdout",
     "output_type": "stream",
     "text": [
      "                                    AutoReg Model Results                                    \n",
      "=============================================================================================\n",
      "Dep. Variable:      Promedios_Moviles_Desocupados_H    No. Observations:                   36\n",
      "Model:                                    AutoReg(2)   Log Likelihood                  -5.379\n",
      "Method:                              Conditional MLE   S.D. of innovations              0.283\n",
      "Date:                               Fri, 13 Aug 2021   AIC                             -2.286\n",
      "Time:                                       15:21:10   BIC                             -2.107\n",
      "Sample:                                            2   HQIC                            -2.225\n",
      "                                                  36                                         \n",
      "========================================================================================================\n",
      "                                           coef    std err          z      P>|z|      [0.025      0.975]\n",
      "--------------------------------------------------------------------------------------------------------\n",
      "intercept                             2919.8471      1.862   1568.520      0.000    2916.199    2923.496\n",
      " Promedios_Moviles_Desocupados_H .L1    -0.6657      0.001   -929.851      0.000      -0.667      -0.664\n",
      " Promedios_Moviles_Desocupados_H .L2    -0.3330      0.001   -483.779      0.000      -0.334      -0.332\n",
      "                                    Roots                                    \n",
      "=============================================================================\n",
      "                  Real          Imaginary           Modulus         Frequency\n",
      "-----------------------------------------------------------------------------\n",
      "AR.1           -0.9995           -1.4156j            1.7329           -0.3478\n",
      "AR.2           -0.9995           +1.4156j            1.7329            0.3478\n",
      "-----------------------------------------------------------------------------\n"
     ]
    },
    {
     "name": "stderr",
     "output_type": "stream",
     "text": [
      "C:\\ProgramData\\Anaconda3\\lib\\site-packages\\statsmodels\\tsa\\ar_model.py:248: FutureWarning: The parameter names will change after 0.12 is released. Set old_names to False to use the new names now. Set old_names to True to use the old names. \n",
      "  warnings.warn(\n"
     ]
    }
   ],
   "source": [
    "# % Modelo AR.2 desocupados Hombres \n",
    "ar_model = AutoReg(df[' Promedios_Moviles_Desocupados_H '], lags=2).fit()\n",
    "#\n",
    "# Print Summary\n",
    "#\n",
    "print(ar_model.summary())"
   ]
  },
  {
   "cell_type": "code",
   "execution_count": 72,
   "metadata": {},
   "outputs": [
    {
     "name": "stdout",
     "output_type": "stream",
     "text": [
      "                                    AutoReg Model Results                                    \n",
      "=============================================================================================\n",
      "Dep. Variable:      Promedios_Moviles_Desocupados_M    No. Observations:                   36\n",
      "Model:                                    AutoReg(1)   Log Likelihood                -130.690\n",
      "Method:                              Conditional MLE   S.D. of innovations             10.126\n",
      "Date:                               Fri, 13 Aug 2021   AIC                              4.802\n",
      "Time:                                       15:21:56   BIC                              4.935\n",
      "Sample:                                            1   HQIC                             4.848\n",
      "                                                  36                                         \n",
      "========================================================================================================\n",
      "                                           coef    std err          z      P>|z|      [0.025      0.975]\n",
      "--------------------------------------------------------------------------------------------------------\n",
      "intercept                              356.5332     40.503      8.803      0.000     277.149     435.918\n",
      " Promedios_Moviles_Desocupados_M .L1    -0.0153      0.115     -0.133      0.894      -0.240       0.209\n",
      "                                    Roots                                    \n",
      "=============================================================================\n",
      "                  Real          Imaginary           Modulus         Frequency\n",
      "-----------------------------------------------------------------------------\n",
      "AR.1          -65.4926           +0.0000j           65.4926            0.5000\n",
      "-----------------------------------------------------------------------------\n"
     ]
    },
    {
     "name": "stderr",
     "output_type": "stream",
     "text": [
      "C:\\ProgramData\\Anaconda3\\lib\\site-packages\\statsmodels\\tsa\\ar_model.py:248: FutureWarning: The parameter names will change after 0.12 is released. Set old_names to False to use the new names now. Set old_names to True to use the old names. \n",
      "  warnings.warn(\n"
     ]
    }
   ],
   "source": [
    "# % Modelo AR.1 Desocupados Mujeres\n",
    "ar_model = AutoReg(df[' Promedios_Moviles_Desocupados_M '], lags=1).fit()\n",
    "#\n",
    "# Print Summary\n",
    "#\n",
    "print(ar_model.summary())"
   ]
  },
  {
   "cell_type": "code",
   "execution_count": 73,
   "metadata": {},
   "outputs": [
    {
     "name": "stdout",
     "output_type": "stream",
     "text": [
      "                                    AutoReg Model Results                                    \n",
      "=============================================================================================\n",
      "Dep. Variable:      Promedios_Moviles_Desocupados_M    No. Observations:                   36\n",
      "Model:                                    AutoReg(2)   Log Likelihood                  -5.539\n",
      "Method:                              Conditional MLE   S.D. of innovations              0.285\n",
      "Date:                               Fri, 13 Aug 2021   AIC                             -2.277\n",
      "Time:                                       15:24:33   BIC                             -2.097\n",
      "Sample:                                            2   HQIC                            -2.216\n",
      "                                                  36                                         \n",
      "========================================================================================================\n",
      "                                           coef    std err          z      P>|z|      [0.025      0.975]\n",
      "--------------------------------------------------------------------------------------------------------\n",
      "intercept                              701.7988      2.043    343.581      0.000     697.795     705.802\n",
      " Promedios_Moviles_Desocupados_M .L1    -0.6653      0.005   -139.947      0.000      -0.675      -0.656\n",
      " Promedios_Moviles_Desocupados_M .L2    -0.3343      0.003   -103.630      0.000      -0.341      -0.328\n",
      "                                    Roots                                    \n",
      "=============================================================================\n",
      "                  Real          Imaginary           Modulus         Frequency\n",
      "-----------------------------------------------------------------------------\n",
      "AR.1           -0.9952           -1.4146j            1.7296           -0.3476\n",
      "AR.2           -0.9952           +1.4146j            1.7296            0.3476\n",
      "-----------------------------------------------------------------------------\n"
     ]
    },
    {
     "name": "stderr",
     "output_type": "stream",
     "text": [
      "C:\\ProgramData\\Anaconda3\\lib\\site-packages\\statsmodels\\tsa\\ar_model.py:248: FutureWarning: The parameter names will change after 0.12 is released. Set old_names to False to use the new names now. Set old_names to True to use the old names. \n",
      "  warnings.warn(\n"
     ]
    }
   ],
   "source": [
    "# % Modelo AR.2 Desocupados Mujeres\n",
    "ar_model = AutoReg(df[' Promedios_Moviles_Desocupados_M '], lags=2).fit()\n",
    "#\n",
    "# Print Summary\n",
    "#\n",
    "print(ar_model.summary())"
   ]
  },
  {
   "cell_type": "code",
   "execution_count": 74,
   "metadata": {},
   "outputs": [
    {
     "name": "stdout",
     "output_type": "stream",
     "text": [
      "                                  AutoReg Model Results                                  \n",
      "=========================================================================================\n",
      "Dep. Variable:      Promedios_Moviles_Des_Total    No. Observations:                   36\n",
      "Model:                                AutoReg(1)   Log Likelihood                -189.778\n",
      "Method:                          Conditional MLE   S.D. of innovations             54.778\n",
      "Date:                           Fri, 13 Aug 2021   AIC                              8.178\n",
      "Time:                                   15:30:10   BIC                              8.311\n",
      "Sample:                                        1   HQIC                             8.224\n",
      "                                              36                                         \n",
      "====================================================================================================\n",
      "                                       coef    std err          z      P>|z|      [0.025      0.975]\n",
      "----------------------------------------------------------------------------------------------------\n",
      "intercept                         3005.9807    190.891     15.747      0.000    2631.841    3380.121\n",
      " Promedios_Moviles_Des_Total .L1    -0.6636      0.105     -6.301      0.000      -0.870      -0.457\n",
      "                                    Roots                                    \n",
      "=============================================================================\n",
      "                  Real          Imaginary           Modulus         Frequency\n",
      "-----------------------------------------------------------------------------\n",
      "AR.1           -1.5070           +0.0000j            1.5070            0.5000\n",
      "-----------------------------------------------------------------------------\n"
     ]
    },
    {
     "name": "stderr",
     "output_type": "stream",
     "text": [
      "C:\\ProgramData\\Anaconda3\\lib\\site-packages\\statsmodels\\tsa\\ar_model.py:248: FutureWarning: The parameter names will change after 0.12 is released. Set old_names to False to use the new names now. Set old_names to True to use the old names. \n",
      "  warnings.warn(\n"
     ]
    }
   ],
   "source": [
    "# % Modelo AR.1 Desocupados Total \n",
    "ar_model = AutoReg(df[' Promedios_Moviles_Des_Total '], lags=1).fit()\n",
    "#\n",
    "# Print Summary\n",
    "#\n",
    "print(ar_model.summary())"
   ]
  },
  {
   "cell_type": "code",
   "execution_count": 75,
   "metadata": {},
   "outputs": [
    {
     "name": "stdout",
     "output_type": "stream",
     "text": [
      "                                  AutoReg Model Results                                  \n",
      "=========================================================================================\n",
      "Dep. Variable:      Promedios_Moviles_Des_Total    No. Observations:                   36\n",
      "Model:                                AutoReg(2)   Log Likelihood                 -13.155\n",
      "Method:                          Conditional MLE   S.D. of innovations              0.356\n",
      "Date:                           Fri, 13 Aug 2021   AIC                             -1.829\n",
      "Time:                                   15:34:17   BIC                             -1.649\n",
      "Sample:                                        2   HQIC                            -1.768\n",
      "                                              36                                         \n",
      "====================================================================================================\n",
      "                                       coef    std err          z      P>|z|      [0.025      0.975]\n",
      "----------------------------------------------------------------------------------------------------\n",
      "intercept                         3621.9231      3.531   1025.769      0.000    3615.003    3628.844\n",
      " Promedios_Moviles_Des_Total .L1    -0.6664      0.001   -605.997      0.000      -0.669      -0.664\n",
      " Promedios_Moviles_Des_Total .L2    -0.3330      0.001   -332.717      0.000      -0.335      -0.331\n",
      "                                    Roots                                    \n",
      "=============================================================================\n",
      "                  Real          Imaginary           Modulus         Frequency\n",
      "-----------------------------------------------------------------------------\n",
      "AR.1           -1.0006           -1.4149j            1.7329           -0.3480\n",
      "AR.2           -1.0006           +1.4149j            1.7329            0.3480\n",
      "-----------------------------------------------------------------------------\n"
     ]
    },
    {
     "name": "stderr",
     "output_type": "stream",
     "text": [
      "C:\\ProgramData\\Anaconda3\\lib\\site-packages\\statsmodels\\tsa\\ar_model.py:248: FutureWarning: The parameter names will change after 0.12 is released. Set old_names to False to use the new names now. Set old_names to True to use the old names. \n",
      "  warnings.warn(\n"
     ]
    }
   ],
   "source": [
    "# Modelo AR.2 Desocupados Total\n",
    "ar_model = AutoReg(df[' Promedios_Moviles_Des_Total '], lags=2).fit()\n",
    "#\n",
    "# Print Summary\n",
    "#\n",
    "print(ar_model.summary())"
   ]
  },
  {
   "cell_type": "code",
   "execution_count": 77,
   "metadata": {},
   "outputs": [
    {
     "name": "stdout",
     "output_type": "stream",
     "text": [
      "                                AutoReg Model Results                                 \n",
      "======================================================================================\n",
      "Dep. Variable:      Promedios_Moviles_Inac_H    No. Observations:                   36\n",
      "Model:                             AutoReg(1)   Log Likelihood                -292.083\n",
      "Method:                       Conditional MLE   S.D. of innovations           1018.709\n",
      "Date:                        Fri, 13 Aug 2021   AIC                             14.024\n",
      "Time:                                15:35:41   BIC                             14.157\n",
      "Sample:                                     1   HQIC                            14.070\n",
      "                                           36                                         \n",
      "=================================================================================================\n",
      "                                    coef    std err          z      P>|z|      [0.025      0.975]\n",
      "-------------------------------------------------------------------------------------------------\n",
      "intercept                       7.58e+04   3298.089     22.982      0.000    6.93e+04    8.23e+04\n",
      " Promedios_Moviles_Inac_H .L1    -0.6252      0.070     -8.885      0.000      -0.763      -0.487\n",
      "                                    Roots                                    \n",
      "=============================================================================\n",
      "                  Real          Imaginary           Modulus         Frequency\n",
      "-----------------------------------------------------------------------------\n",
      "AR.1           -1.5994           +0.0000j            1.5994            0.5000\n",
      "-----------------------------------------------------------------------------\n"
     ]
    },
    {
     "name": "stderr",
     "output_type": "stream",
     "text": [
      "C:\\ProgramData\\Anaconda3\\lib\\site-packages\\statsmodels\\tsa\\ar_model.py:248: FutureWarning: The parameter names will change after 0.12 is released. Set old_names to False to use the new names now. Set old_names to True to use the old names. \n",
      "  warnings.warn(\n"
     ]
    }
   ],
   "source": [
    "# % Modelo AR.1 Inactivos Hombres\n",
    "ar_model = AutoReg(df[' Promedios_Moviles_Inac_H '], lags=1).fit()\n",
    "#\n",
    "# Print Summary\n",
    "#\n",
    "print(ar_model.summary())"
   ]
  },
  {
   "cell_type": "code",
   "execution_count": 78,
   "metadata": {},
   "outputs": [
    {
     "name": "stdout",
     "output_type": "stream",
     "text": [
      "                                AutoReg Model Results                                 \n",
      "======================================================================================\n",
      "Dep. Variable:      Promedios_Moviles_Inac_H    No. Observations:                   36\n",
      "Model:                             AutoReg(2)   Log Likelihood                 -17.277\n",
      "Method:                       Conditional MLE   S.D. of innovations              0.402\n",
      "Date:                        Fri, 13 Aug 2021   AIC                             -1.586\n",
      "Time:                                15:38:43   BIC                             -1.407\n",
      "Sample:                                     2   HQIC                            -1.525\n",
      "                                           36                                         \n",
      "=================================================================================================\n",
      "                                    coef    std err          z      P>|z|      [0.025      0.975]\n",
      "-------------------------------------------------------------------------------------------------\n",
      "intercept                      9.345e+04      5.224   1.79e+04      0.000    9.34e+04    9.35e+04\n",
      " Promedios_Moviles_Inac_H .L1    -0.6667   6.68e-05  -9988.005      0.000      -0.667      -0.667\n",
      " Promedios_Moviles_Inac_H .L2    -0.3334   5.01e-05  -6649.350      0.000      -0.333      -0.333\n",
      "                                    Roots                                    \n",
      "=============================================================================\n",
      "                  Real          Imaginary           Modulus         Frequency\n",
      "-----------------------------------------------------------------------------\n",
      "AR.1           -1.0000           -1.4141j            1.7320           -0.3480\n",
      "AR.2           -1.0000           +1.4141j            1.7320            0.3480\n",
      "-----------------------------------------------------------------------------\n"
     ]
    },
    {
     "name": "stderr",
     "output_type": "stream",
     "text": [
      "C:\\ProgramData\\Anaconda3\\lib\\site-packages\\statsmodels\\tsa\\ar_model.py:248: FutureWarning: The parameter names will change after 0.12 is released. Set old_names to False to use the new names now. Set old_names to True to use the old names. \n",
      "  warnings.warn(\n"
     ]
    }
   ],
   "source": [
    "# % Modelo AR.2 Inactivos Hombres\n",
    "ar_model = AutoReg(df[' Promedios_Moviles_Inac_H '], lags=2).fit()\n",
    "#\n",
    "# Print Summary\n",
    "#\n",
    "print(ar_model.summary())"
   ]
  },
  {
   "cell_type": "code",
   "execution_count": 79,
   "metadata": {},
   "outputs": [
    {
     "name": "stdout",
     "output_type": "stream",
     "text": [
      "                                AutoReg Model Results                                 \n",
      "======================================================================================\n",
      "Dep. Variable:      Promedios_Moviles_Inac_M    No. Observations:                   36\n",
      "Model:                             AutoReg(1)   Log Likelihood                -336.328\n",
      "Method:                       Conditional MLE   S.D. of innovations           3606.302\n",
      "Date:                        Fri, 13 Aug 2021   AIC                             16.552\n",
      "Time:                                15:39:33   BIC                             16.686\n",
      "Sample:                                     1   HQIC                            16.598\n",
      "                                           36                                         \n",
      "=================================================================================================\n",
      "                                    coef    std err          z      P>|z|      [0.025      0.975]\n",
      "-------------------------------------------------------------------------------------------------\n",
      "intercept                      1.614e+05   1.18e+04     13.654      0.000    1.38e+05    1.85e+05\n",
      " Promedios_Moviles_Inac_M .L1    -0.6398      0.120     -5.343      0.000      -0.875      -0.405\n",
      "                                    Roots                                    \n",
      "=============================================================================\n",
      "                  Real          Imaginary           Modulus         Frequency\n",
      "-----------------------------------------------------------------------------\n",
      "AR.1           -1.5629           +0.0000j            1.5629            0.5000\n",
      "-----------------------------------------------------------------------------\n"
     ]
    },
    {
     "name": "stderr",
     "output_type": "stream",
     "text": [
      "C:\\ProgramData\\Anaconda3\\lib\\site-packages\\statsmodels\\tsa\\ar_model.py:248: FutureWarning: The parameter names will change after 0.12 is released. Set old_names to False to use the new names now. Set old_names to True to use the old names. \n",
      "  warnings.warn(\n"
     ]
    }
   ],
   "source": [
    "# % Modelo AR.1 Inactivos Mujeres \n",
    "ar_model = AutoReg(df[' Promedios_Moviles_Inac_M '], lags=1).fit()\n",
    "#\n",
    "# Print Summary\n",
    "#\n",
    "print(ar_model.summary())"
   ]
  },
  {
   "cell_type": "code",
   "execution_count": 85,
   "metadata": {},
   "outputs": [
    {
     "name": "stdout",
     "output_type": "stream",
     "text": [
      "                                AutoReg Model Results                                 \n",
      "======================================================================================\n",
      "Dep. Variable:      Promedios_Moviles_Inac_M    No. Observations:                   36\n",
      "Model:                             AutoReg(2)   Log Likelihood                 -20.392\n",
      "Method:                       Conditional MLE   S.D. of innovations              0.441\n",
      "Date:                        Fri, 13 Aug 2021   AIC                             -1.403\n",
      "Time:                                15:53:35   BIC                             -1.223\n",
      "Sample:                                     2   HQIC                            -1.342\n",
      "                                           36                                         \n",
      "=================================================================================================\n",
      "                                    coef    std err          z      P>|z|      [0.025      0.975]\n",
      "-------------------------------------------------------------------------------------------------\n",
      "intercept                      1.975e+05      3.636   5.43e+04      0.000    1.97e+05    1.98e+05\n",
      " Promedios_Moviles_Inac_M .L1    -0.6667   2.07e-05  -3.23e+04      0.000      -0.667      -0.667\n",
      " Promedios_Moviles_Inac_M .L2    -0.3333   1.97e-05  -1.69e+04      0.000      -0.333      -0.333\n",
      "                                    Roots                                    \n",
      "=============================================================================\n",
      "                  Real          Imaginary           Modulus         Frequency\n",
      "-----------------------------------------------------------------------------\n",
      "AR.1           -1.0000           -1.4142j            1.7321           -0.3480\n",
      "AR.2           -1.0000           +1.4142j            1.7321            0.3480\n",
      "-----------------------------------------------------------------------------\n"
     ]
    },
    {
     "name": "stderr",
     "output_type": "stream",
     "text": [
      "C:\\ProgramData\\Anaconda3\\lib\\site-packages\\statsmodels\\tsa\\ar_model.py:248: FutureWarning: The parameter names will change after 0.12 is released. Set old_names to False to use the new names now. Set old_names to True to use the old names. \n",
      "  warnings.warn(\n"
     ]
    }
   ],
   "source": [
    "# % Modelo AR.2 Inactivos Mujeres\n",
    "ar_model = AutoReg(df[' Promedios_Moviles_Inac_M '], lags=2).fit()\n",
    "#\n",
    "# Print Summary\n",
    "#\n",
    "print(ar_model.summary())"
   ]
  },
  {
   "cell_type": "code",
   "execution_count": 81,
   "metadata": {},
   "outputs": [
    {
     "name": "stdout",
     "output_type": "stream",
     "text": [
      "                                AutoReg Model Results                                 \n",
      "======================================================================================\n",
      "Dep. Variable:      Promedios_Moviles_Inac_T    No. Observations:                   36\n",
      "Model:                             AutoReg(1)   Log Likelihood                -344.293\n",
      "Method:                       Conditional MLE   S.D. of innovations           4527.821\n",
      "Date:                        Fri, 13 Aug 2021   AIC                             17.007\n",
      "Time:                                15:40:54   BIC                             17.141\n",
      "Sample:                                     1   HQIC                            17.053\n",
      "                                           36                                         \n",
      "=================================================================================================\n",
      "                                    coef    std err          z      P>|z|      [0.025      0.975]\n",
      "-------------------------------------------------------------------------------------------------\n",
      "intercept                      2.415e+05   1.51e+04     15.970      0.000    2.12e+05    2.71e+05\n",
      " Promedios_Moviles_Inac_T .L1    -0.6646      0.104     -6.398      0.000      -0.868      -0.461\n",
      "                                    Roots                                    \n",
      "=============================================================================\n",
      "                  Real          Imaginary           Modulus         Frequency\n",
      "-----------------------------------------------------------------------------\n",
      "AR.1           -1.5046           +0.0000j            1.5046            0.5000\n",
      "-----------------------------------------------------------------------------\n"
     ]
    },
    {
     "name": "stderr",
     "output_type": "stream",
     "text": [
      "C:\\ProgramData\\Anaconda3\\lib\\site-packages\\statsmodels\\tsa\\ar_model.py:248: FutureWarning: The parameter names will change after 0.12 is released. Set old_names to False to use the new names now. Set old_names to True to use the old names. \n",
      "  warnings.warn(\n"
     ]
    }
   ],
   "source": [
    "# % Modelo AR.1 Inactivos Total\n",
    "ar_model = AutoReg(df[' Promedios_Moviles_Inac_T '], lags=1).fit()\n",
    "#\n",
    "# Print Summary\n",
    "#\n",
    "print(ar_model.summary())"
   ]
  },
  {
   "cell_type": "code",
   "execution_count": 83,
   "metadata": {},
   "outputs": [
    {
     "name": "stdout",
     "output_type": "stream",
     "text": [
      "                                AutoReg Model Results                                 \n",
      "======================================================================================\n",
      "Dep. Variable:      Promedios_Moviles_Inac_T    No. Observations:                   36\n",
      "Model:                             AutoReg(2)   Log Likelihood                   1.472\n",
      "Method:                       Conditional MLE   S.D. of innovations              0.232\n",
      "Date:                        Fri, 13 Aug 2021   AIC                             -2.689\n",
      "Time:                                15:46:43   BIC                             -2.510\n",
      "Sample:                                     2   HQIC                            -2.628\n",
      "                                           36                                         \n",
      "=================================================================================================\n",
      "                                    coef    std err          z      P>|z|      [0.025      0.975]\n",
      "-------------------------------------------------------------------------------------------------\n",
      "intercept                      2.909e+05      2.228   1.31e+05      0.000    2.91e+05    2.91e+05\n",
      " Promedios_Moviles_Inac_T .L1    -0.6667   8.65e-06   -7.7e+04      0.000      -0.667      -0.667\n",
      " Promedios_Moviles_Inac_T .L2    -0.3333   7.83e-06  -4.26e+04      0.000      -0.333      -0.333\n",
      "                                    Roots                                    \n",
      "=============================================================================\n",
      "                  Real          Imaginary           Modulus         Frequency\n",
      "-----------------------------------------------------------------------------\n",
      "AR.1           -1.0000           -1.4142j            1.7320           -0.3480\n",
      "AR.2           -1.0000           +1.4142j            1.7320            0.3480\n",
      "-----------------------------------------------------------------------------\n"
     ]
    },
    {
     "name": "stderr",
     "output_type": "stream",
     "text": [
      "C:\\ProgramData\\Anaconda3\\lib\\site-packages\\statsmodels\\tsa\\ar_model.py:248: FutureWarning: The parameter names will change after 0.12 is released. Set old_names to False to use the new names now. Set old_names to True to use the old names. \n",
      "  warnings.warn(\n"
     ]
    }
   ],
   "source": [
    "# % Modelo AR.2 Inactivos Total\n",
    "ar_model = AutoReg(df[' Promedios_Moviles_Inac_T '], lags=2).fit()\n",
    "#\n",
    "# Print Summary\n",
    "#\n",
    "print(ar_model.summary())"
   ]
  },
  {
   "cell_type": "code",
   "execution_count": 49,
   "metadata": {},
   "outputs": [],
   "source": [
    "df = pd.read_csv(\"https://docs.google.com/spreadsheets/d/1fPlFOgW4QyzF2RcPA_HKgjAVj5muOCtN/export?format=csv\")"
   ]
  },
  {
   "cell_type": "code",
   "execution_count": 50,
   "metadata": {},
   "outputs": [
    {
     "data": {
      "text/html": [
       "<div>\n",
       "<style scoped>\n",
       "    .dataframe tbody tr th:only-of-type {\n",
       "        vertical-align: middle;\n",
       "    }\n",
       "\n",
       "    .dataframe tbody tr th {\n",
       "        vertical-align: top;\n",
       "    }\n",
       "\n",
       "    .dataframe thead th {\n",
       "        text-align: right;\n",
       "    }\n",
       "</style>\n",
       "<table border=\"1\" class=\"dataframe\">\n",
       "  <thead>\n",
       "    <tr style=\"text-align: right;\">\n",
       "      <th></th>\n",
       "      <th>Departamento</th>\n",
       "      <th>Año</th>\n",
       "      <th>Mes</th>\n",
       "      <th>Promedios_moviles_Ocupados_H</th>\n",
       "      <th>Promedios_Moviles_Ocupados_M</th>\n",
       "      <th>Promedios_Moviles_Ocupados_Total</th>\n",
       "      <th>Promedios_Moviles_Desocupados_H</th>\n",
       "      <th>Promedios_Moviles_Desocupados_M</th>\n",
       "      <th>Promedios_Moviles_Des_Total</th>\n",
       "      <th>Promedios_Moviles_Inac_H</th>\n",
       "      <th>Promedios_Moviles_Inac_M</th>\n",
       "      <th>Promedios_Moviles_Inac_T</th>\n",
       "    </tr>\n",
       "  </thead>\n",
       "  <tbody>\n",
       "    <tr>\n",
       "      <th>0</th>\n",
       "      <td>ATLANTIDA</td>\n",
       "      <td>2001</td>\n",
       "      <td>1/1/2001</td>\n",
       "      <td>66929</td>\n",
       "      <td>21562</td>\n",
       "      <td>88491</td>\n",
       "      <td>1606</td>\n",
       "      <td>417</td>\n",
       "      <td>2023</td>\n",
       "      <td>56224</td>\n",
       "      <td>107446</td>\n",
       "      <td>163670</td>\n",
       "    </tr>\n",
       "    <tr>\n",
       "      <th>1</th>\n",
       "      <td>COLON</td>\n",
       "      <td>2001</td>\n",
       "      <td>2/1/2001</td>\n",
       "      <td>47890</td>\n",
       "      <td>11327</td>\n",
       "      <td>59217</td>\n",
       "      <td>1008</td>\n",
       "      <td>385</td>\n",
       "      <td>1393</td>\n",
       "      <td>36644</td>\n",
       "      <td>73884</td>\n",
       "      <td>110528</td>\n",
       "    </tr>\n",
       "    <tr>\n",
       "      <th>2</th>\n",
       "      <td>COMAYAGUA</td>\n",
       "      <td>2001</td>\n",
       "      <td>3/1/2001</td>\n",
       "      <td>77800</td>\n",
       "      <td>18450</td>\n",
       "      <td>96250</td>\n",
       "      <td>1714</td>\n",
       "      <td>306</td>\n",
       "      <td>2020</td>\n",
       "      <td>50272</td>\n",
       "      <td>112428</td>\n",
       "      <td>162700</td>\n",
       "    </tr>\n",
       "    <tr>\n",
       "      <th>3</th>\n",
       "      <td>COPAN</td>\n",
       "      <td>2001</td>\n",
       "      <td>4/1/2001</td>\n",
       "      <td>64206</td>\n",
       "      <td>17113</td>\n",
       "      <td>81319</td>\n",
       "      <td>1443</td>\n",
       "      <td>369</td>\n",
       "      <td>1812</td>\n",
       "      <td>47713</td>\n",
       "      <td>97919</td>\n",
       "      <td>145633</td>\n",
       "    </tr>\n",
       "    <tr>\n",
       "      <th>4</th>\n",
       "      <td>CORTES</td>\n",
       "      <td>2001</td>\n",
       "      <td>5/1/2001</td>\n",
       "      <td>63299</td>\n",
       "      <td>15630</td>\n",
       "      <td>78929</td>\n",
       "      <td>1388</td>\n",
       "      <td>353</td>\n",
       "      <td>1742</td>\n",
       "      <td>44876</td>\n",
       "      <td>94744</td>\n",
       "      <td>139620</td>\n",
       "    </tr>\n",
       "  </tbody>\n",
       "</table>\n",
       "</div>"
      ],
      "text/plain": [
       "  Departamento   Año        Mes   Promedios_moviles_Ocupados_H   \\\n",
       "0     ATLANTIDA  2001  1/1/2001                           66929   \n",
       "1         COLON  2001  2/1/2001                           47890   \n",
       "2     COMAYAGUA  2001  3/1/2001                           77800   \n",
       "3         COPAN  2001  4/1/2001                           64206   \n",
       "4        CORTES  2001  5/1/2001                           63299   \n",
       "\n",
       "    Promedios_Moviles_Ocupados_M    Promedios_Moviles_Ocupados_Total   \\\n",
       "0                           21562                               88491   \n",
       "1                           11327                               59217   \n",
       "2                           18450                               96250   \n",
       "3                           17113                               81319   \n",
       "4                           15630                               78929   \n",
       "\n",
       "    Promedios_Moviles_Desocupados_H    Promedios_Moviles_Desocupados_M   \\\n",
       "0                               1606                                417   \n",
       "1                               1008                                385   \n",
       "2                               1714                                306   \n",
       "3                               1443                                369   \n",
       "4                               1388                                353   \n",
       "\n",
       "    Promedios_Moviles_Des_Total    Promedios_Moviles_Inac_H   \\\n",
       "0                           2023                       56224   \n",
       "1                           1393                       36644   \n",
       "2                           2020                       50272   \n",
       "3                           1812                       47713   \n",
       "4                           1742                       44876   \n",
       "\n",
       "    Promedios_Moviles_Inac_M    Promedios_Moviles_Inac_T   \n",
       "0                      107446                      163670  \n",
       "1                       73884                      110528  \n",
       "2                      112428                      162700  \n",
       "3                       97919                      145633  \n",
       "4                       94744                      139620  "
      ]
     },
     "execution_count": 50,
     "metadata": {},
     "output_type": "execute_result"
    }
   ],
   "source": [
    "df.head()"
   ]
  },
  {
   "cell_type": "code",
   "execution_count": 51,
   "metadata": {},
   "outputs": [
    {
     "data": {
      "text/html": [
       "<div>\n",
       "<style scoped>\n",
       "    .dataframe tbody tr th:only-of-type {\n",
       "        vertical-align: middle;\n",
       "    }\n",
       "\n",
       "    .dataframe tbody tr th {\n",
       "        vertical-align: top;\n",
       "    }\n",
       "\n",
       "    .dataframe thead th {\n",
       "        text-align: right;\n",
       "    }\n",
       "</style>\n",
       "<table border=\"1\" class=\"dataframe\">\n",
       "  <thead>\n",
       "    <tr style=\"text-align: right;\">\n",
       "      <th></th>\n",
       "      <th>Año</th>\n",
       "      <th>Promedios_moviles_Ocupados_H</th>\n",
       "      <th>Promedios_Moviles_Ocupados_M</th>\n",
       "      <th>Promedios_Moviles_Ocupados_Total</th>\n",
       "      <th>Promedios_Moviles_Desocupados_H</th>\n",
       "      <th>Promedios_Moviles_Desocupados_M</th>\n",
       "      <th>Promedios_Moviles_Des_Total</th>\n",
       "      <th>Promedios_Moviles_Inac_H</th>\n",
       "      <th>Promedios_Moviles_Inac_M</th>\n",
       "      <th>Promedios_Moviles_Inac_T</th>\n",
       "    </tr>\n",
       "  </thead>\n",
       "  <tbody>\n",
       "    <tr>\n",
       "      <th>Año</th>\n",
       "      <td>37.028571</td>\n",
       "      <td>1.423029e+03</td>\n",
       "      <td>-2.590286e+02</td>\n",
       "      <td>1.164686e+03</td>\n",
       "      <td>18.685714</td>\n",
       "      <td>-12.171429</td>\n",
       "      <td>5.314286</td>\n",
       "      <td>-4.947429e+02</td>\n",
       "      <td>8.892000e+02</td>\n",
       "      <td>3.944571e+02</td>\n",
       "    </tr>\n",
       "    <tr>\n",
       "      <th>Promedios_moviles_Ocupados_H</th>\n",
       "      <td>1423.028571</td>\n",
       "      <td>1.382116e+07</td>\n",
       "      <td>3.575480e+06</td>\n",
       "      <td>1.739668e+07</td>\n",
       "      <td>333680.953175</td>\n",
       "      <td>-32311.532540</td>\n",
       "      <td>301213.954762</td>\n",
       "      <td>6.840804e+06</td>\n",
       "      <td>1.826068e+07</td>\n",
       "      <td>2.510144e+07</td>\n",
       "    </tr>\n",
       "    <tr>\n",
       "      <th>Promedios_Moviles_Ocupados_M</th>\n",
       "      <td>-259.028571</td>\n",
       "      <td>3.575480e+06</td>\n",
       "      <td>1.636060e+06</td>\n",
       "      <td>5.211524e+06</td>\n",
       "      <td>104845.342063</td>\n",
       "      <td>1882.113492</td>\n",
       "      <td>106720.273810</td>\n",
       "      <td>3.129907e+06</td>\n",
       "      <td>5.849902e+06</td>\n",
       "      <td>8.979822e+06</td>\n",
       "    </tr>\n",
       "    <tr>\n",
       "      <th>Promedios_Moviles_Ocupados_Total</th>\n",
       "      <td>1164.685714</td>\n",
       "      <td>1.739668e+07</td>\n",
       "      <td>5.211524e+06</td>\n",
       "      <td>2.260823e+07</td>\n",
       "      <td>438526.531746</td>\n",
       "      <td>-30429.868254</td>\n",
       "      <td>407934.090476</td>\n",
       "      <td>9.970680e+06</td>\n",
       "      <td>2.411059e+07</td>\n",
       "      <td>3.408124e+07</td>\n",
       "    </tr>\n",
       "    <tr>\n",
       "      <th>Promedios_Moviles_Desocupados_H</th>\n",
       "      <td>18.685714</td>\n",
       "      <td>3.336810e+05</td>\n",
       "      <td>1.048453e+05</td>\n",
       "      <td>4.385265e+05</td>\n",
       "      <td>8538.542063</td>\n",
       "      <td>-513.315079</td>\n",
       "      <td>8022.273810</td>\n",
       "      <td>2.005883e+05</td>\n",
       "      <td>4.701928e+05</td>\n",
       "      <td>6.707806e+05</td>\n",
       "    </tr>\n",
       "    <tr>\n",
       "      <th>Promedios_Moviles_Desocupados_M</th>\n",
       "      <td>-12.171429</td>\n",
       "      <td>-3.231153e+04</td>\n",
       "      <td>1.882113e+03</td>\n",
       "      <td>-3.042987e+04</td>\n",
       "      <td>-513.315079</td>\n",
       "      <td>223.056349</td>\n",
       "      <td>-289.469048</td>\n",
       "      <td>3.596749e+03</td>\n",
       "      <td>-2.647504e+04</td>\n",
       "      <td>-2.287786e+04</td>\n",
       "    </tr>\n",
       "    <tr>\n",
       "      <th>Promedios_Moviles_Des_Total</th>\n",
       "      <td>5.314286</td>\n",
       "      <td>3.012140e+05</td>\n",
       "      <td>1.067203e+05</td>\n",
       "      <td>4.079341e+05</td>\n",
       "      <td>8022.273810</td>\n",
       "      <td>-289.469048</td>\n",
       "      <td>7730.935714</td>\n",
       "      <td>2.041712e+05</td>\n",
       "      <td>4.435646e+05</td>\n",
       "      <td>6.477358e+05</td>\n",
       "    </tr>\n",
       "    <tr>\n",
       "      <th>Promedios_Moviles_Inac_H</th>\n",
       "      <td>-494.742857</td>\n",
       "      <td>6.840804e+06</td>\n",
       "      <td>3.129907e+06</td>\n",
       "      <td>9.970680e+06</td>\n",
       "      <td>200588.263492</td>\n",
       "      <td>3596.749206</td>\n",
       "      <td>204171.209524</td>\n",
       "      <td>5.987748e+06</td>\n",
       "      <td>1.119189e+07</td>\n",
       "      <td>1.717966e+07</td>\n",
       "    </tr>\n",
       "    <tr>\n",
       "      <th>Promedios_Moviles_Inac_M</th>\n",
       "      <td>889.200000</td>\n",
       "      <td>1.826068e+07</td>\n",
       "      <td>5.849902e+06</td>\n",
       "      <td>2.411059e+07</td>\n",
       "      <td>470192.762698</td>\n",
       "      <td>-26475.037302</td>\n",
       "      <td>443564.583333</td>\n",
       "      <td>1.119189e+07</td>\n",
       "      <td>2.590901e+07</td>\n",
       "      <td>3.710088e+07</td>\n",
       "    </tr>\n",
       "    <tr>\n",
       "      <th>Promedios_Moviles_Inac_T</th>\n",
       "      <td>394.457143</td>\n",
       "      <td>2.510144e+07</td>\n",
       "      <td>8.979822e+06</td>\n",
       "      <td>3.408124e+07</td>\n",
       "      <td>670780.599206</td>\n",
       "      <td>-22877.857937</td>\n",
       "      <td>647735.845238</td>\n",
       "      <td>1.717966e+07</td>\n",
       "      <td>3.710088e+07</td>\n",
       "      <td>5.428054e+07</td>\n",
       "    </tr>\n",
       "  </tbody>\n",
       "</table>\n",
       "</div>"
      ],
      "text/plain": [
       "                                           Año   \\\n",
       "Año                                   37.028571   \n",
       " Promedios_moviles_Ocupados_H       1423.028571   \n",
       " Promedios_Moviles_Ocupados_M       -259.028571   \n",
       " Promedios_Moviles_Ocupados_Total   1164.685714   \n",
       " Promedios_Moviles_Desocupados_H      18.685714   \n",
       " Promedios_Moviles_Desocupados_M     -12.171429   \n",
       " Promedios_Moviles_Des_Total           5.314286   \n",
       " Promedios_Moviles_Inac_H           -494.742857   \n",
       " Promedios_Moviles_Inac_M            889.200000   \n",
       " Promedios_Moviles_Inac_T            394.457143   \n",
       "\n",
       "                                     Promedios_moviles_Ocupados_H   \\\n",
       "Año                                                   1.423029e+03   \n",
       " Promedios_moviles_Ocupados_H                         1.382116e+07   \n",
       " Promedios_Moviles_Ocupados_M                         3.575480e+06   \n",
       " Promedios_Moviles_Ocupados_Total                     1.739668e+07   \n",
       " Promedios_Moviles_Desocupados_H                      3.336810e+05   \n",
       " Promedios_Moviles_Desocupados_M                     -3.231153e+04   \n",
       " Promedios_Moviles_Des_Total                          3.012140e+05   \n",
       " Promedios_Moviles_Inac_H                             6.840804e+06   \n",
       " Promedios_Moviles_Inac_M                             1.826068e+07   \n",
       " Promedios_Moviles_Inac_T                             2.510144e+07   \n",
       "\n",
       "                                     Promedios_Moviles_Ocupados_M   \\\n",
       "Año                                                  -2.590286e+02   \n",
       " Promedios_moviles_Ocupados_H                         3.575480e+06   \n",
       " Promedios_Moviles_Ocupados_M                         1.636060e+06   \n",
       " Promedios_Moviles_Ocupados_Total                     5.211524e+06   \n",
       " Promedios_Moviles_Desocupados_H                      1.048453e+05   \n",
       " Promedios_Moviles_Desocupados_M                      1.882113e+03   \n",
       " Promedios_Moviles_Des_Total                          1.067203e+05   \n",
       " Promedios_Moviles_Inac_H                             3.129907e+06   \n",
       " Promedios_Moviles_Inac_M                             5.849902e+06   \n",
       " Promedios_Moviles_Inac_T                             8.979822e+06   \n",
       "\n",
       "                                     Promedios_Moviles_Ocupados_Total   \\\n",
       "Año                                                       1.164686e+03   \n",
       " Promedios_moviles_Ocupados_H                             1.739668e+07   \n",
       " Promedios_Moviles_Ocupados_M                             5.211524e+06   \n",
       " Promedios_Moviles_Ocupados_Total                         2.260823e+07   \n",
       " Promedios_Moviles_Desocupados_H                          4.385265e+05   \n",
       " Promedios_Moviles_Desocupados_M                         -3.042987e+04   \n",
       " Promedios_Moviles_Des_Total                              4.079341e+05   \n",
       " Promedios_Moviles_Inac_H                                 9.970680e+06   \n",
       " Promedios_Moviles_Inac_M                                 2.411059e+07   \n",
       " Promedios_Moviles_Inac_T                                 3.408124e+07   \n",
       "\n",
       "                                     Promedios_Moviles_Desocupados_H   \\\n",
       "Año                                                         18.685714   \n",
       " Promedios_moviles_Ocupados_H                           333680.953175   \n",
       " Promedios_Moviles_Ocupados_M                           104845.342063   \n",
       " Promedios_Moviles_Ocupados_Total                       438526.531746   \n",
       " Promedios_Moviles_Desocupados_H                          8538.542063   \n",
       " Promedios_Moviles_Desocupados_M                          -513.315079   \n",
       " Promedios_Moviles_Des_Total                              8022.273810   \n",
       " Promedios_Moviles_Inac_H                               200588.263492   \n",
       " Promedios_Moviles_Inac_M                               470192.762698   \n",
       " Promedios_Moviles_Inac_T                               670780.599206   \n",
       "\n",
       "                                     Promedios_Moviles_Desocupados_M   \\\n",
       "Año                                                        -12.171429   \n",
       " Promedios_moviles_Ocupados_H                           -32311.532540   \n",
       " Promedios_Moviles_Ocupados_M                             1882.113492   \n",
       " Promedios_Moviles_Ocupados_Total                       -30429.868254   \n",
       " Promedios_Moviles_Desocupados_H                          -513.315079   \n",
       " Promedios_Moviles_Desocupados_M                           223.056349   \n",
       " Promedios_Moviles_Des_Total                              -289.469048   \n",
       " Promedios_Moviles_Inac_H                                 3596.749206   \n",
       " Promedios_Moviles_Inac_M                               -26475.037302   \n",
       " Promedios_Moviles_Inac_T                               -22877.857937   \n",
       "\n",
       "                                     Promedios_Moviles_Des_Total   \\\n",
       "Año                                                      5.314286   \n",
       " Promedios_moviles_Ocupados_H                       301213.954762   \n",
       " Promedios_Moviles_Ocupados_M                       106720.273810   \n",
       " Promedios_Moviles_Ocupados_Total                   407934.090476   \n",
       " Promedios_Moviles_Desocupados_H                      8022.273810   \n",
       " Promedios_Moviles_Desocupados_M                      -289.469048   \n",
       " Promedios_Moviles_Des_Total                          7730.935714   \n",
       " Promedios_Moviles_Inac_H                           204171.209524   \n",
       " Promedios_Moviles_Inac_M                           443564.583333   \n",
       " Promedios_Moviles_Inac_T                           647735.845238   \n",
       "\n",
       "                                     Promedios_Moviles_Inac_H   \\\n",
       "Año                                              -4.947429e+02   \n",
       " Promedios_moviles_Ocupados_H                     6.840804e+06   \n",
       " Promedios_Moviles_Ocupados_M                     3.129907e+06   \n",
       " Promedios_Moviles_Ocupados_Total                 9.970680e+06   \n",
       " Promedios_Moviles_Desocupados_H                  2.005883e+05   \n",
       " Promedios_Moviles_Desocupados_M                  3.596749e+03   \n",
       " Promedios_Moviles_Des_Total                      2.041712e+05   \n",
       " Promedios_Moviles_Inac_H                         5.987748e+06   \n",
       " Promedios_Moviles_Inac_M                         1.119189e+07   \n",
       " Promedios_Moviles_Inac_T                         1.717966e+07   \n",
       "\n",
       "                                     Promedios_Moviles_Inac_M   \\\n",
       "Año                                               8.892000e+02   \n",
       " Promedios_moviles_Ocupados_H                     1.826068e+07   \n",
       " Promedios_Moviles_Ocupados_M                     5.849902e+06   \n",
       " Promedios_Moviles_Ocupados_Total                 2.411059e+07   \n",
       " Promedios_Moviles_Desocupados_H                  4.701928e+05   \n",
       " Promedios_Moviles_Desocupados_M                 -2.647504e+04   \n",
       " Promedios_Moviles_Des_Total                      4.435646e+05   \n",
       " Promedios_Moviles_Inac_H                         1.119189e+07   \n",
       " Promedios_Moviles_Inac_M                         2.590901e+07   \n",
       " Promedios_Moviles_Inac_T                         3.710088e+07   \n",
       "\n",
       "                                     Promedios_Moviles_Inac_T   \n",
       "Año                                               3.944571e+02  \n",
       " Promedios_moviles_Ocupados_H                     2.510144e+07  \n",
       " Promedios_Moviles_Ocupados_M                     8.979822e+06  \n",
       " Promedios_Moviles_Ocupados_Total                 3.408124e+07  \n",
       " Promedios_Moviles_Desocupados_H                  6.707806e+05  \n",
       " Promedios_Moviles_Desocupados_M                 -2.287786e+04  \n",
       " Promedios_Moviles_Des_Total                      6.477358e+05  \n",
       " Promedios_Moviles_Inac_H                         1.717966e+07  \n",
       " Promedios_Moviles_Inac_M                         3.710088e+07  \n",
       " Promedios_Moviles_Inac_T                         5.428054e+07  "
      ]
     },
     "execution_count": 51,
     "metadata": {},
     "output_type": "execute_result"
    }
   ],
   "source": [
    "cov_mat = df.cov()\n",
    "cov_mat"
   ]
  },
  {
   "cell_type": "code",
   "execution_count": 52,
   "metadata": {},
   "outputs": [
    {
     "data": {
      "text/plain": [
       "13821164.865873003"
      ]
     },
     "execution_count": 52,
     "metadata": {},
     "output_type": "execute_result"
    }
   ],
   "source": [
    "df[\" Promedios_moviles_Ocupados_H \"].var()"
   ]
  },
  {
   "cell_type": "code",
   "execution_count": 53,
   "metadata": {},
   "outputs": [
    {
     "data": {
      "text/plain": [
       "1636060.2563492046"
      ]
     },
     "execution_count": 53,
     "metadata": {},
     "output_type": "execute_result"
    }
   ],
   "source": [
    "df[\" Promedios_Moviles_Ocupados_M \"].var()"
   ]
  },
  {
   "cell_type": "code",
   "execution_count": 54,
   "metadata": {},
   "outputs": [
    {
     "data": {
      "text/plain": [
       "13821164.865873003"
      ]
     },
     "execution_count": 54,
     "metadata": {},
     "output_type": "execute_result"
    }
   ],
   "source": [
    "df[\" Promedios_moviles_Ocupados_H \"].var()"
   ]
  },
  {
   "cell_type": "code",
   "execution_count": 55,
   "metadata": {},
   "outputs": [
    {
     "data": {
      "text/plain": [
       "22608225.04444447"
      ]
     },
     "execution_count": 55,
     "metadata": {},
     "output_type": "execute_result"
    }
   ],
   "source": [
    "df[\" Promedios_Moviles_Ocupados_Total \"].var()"
   ]
  },
  {
   "cell_type": "code",
   "execution_count": 56,
   "metadata": {},
   "outputs": [
    {
     "data": {
      "text/plain": [
       "8538.542063492081"
      ]
     },
     "execution_count": 56,
     "metadata": {},
     "output_type": "execute_result"
    }
   ],
   "source": [
    "df[\" Promedios_Moviles_Desocupados_H \"].var()"
   ]
  },
  {
   "cell_type": "code",
   "execution_count": 57,
   "metadata": {},
   "outputs": [
    {
     "data": {
      "text/plain": [
       "223.05634920634927"
      ]
     },
     "execution_count": 57,
     "metadata": {},
     "output_type": "execute_result"
    }
   ],
   "source": [
    "df[\" Promedios_Moviles_Desocupados_M \"].var()"
   ]
  },
  {
   "cell_type": "code",
   "execution_count": 58,
   "metadata": {},
   "outputs": [
    {
     "data": {
      "text/plain": [
       "7730.935714285716"
      ]
     },
     "execution_count": 58,
     "metadata": {},
     "output_type": "execute_result"
    }
   ],
   "source": [
    "df[\" Promedios_Moviles_Des_Total \"].var()"
   ]
  },
  {
   "cell_type": "code",
   "execution_count": 59,
   "metadata": {},
   "outputs": [
    {
     "data": {
      "text/plain": [
       "5987748.406349207"
      ]
     },
     "execution_count": 59,
     "metadata": {},
     "output_type": "execute_result"
    }
   ],
   "source": [
    "df[\" Promedios_Moviles_Inac_H \"].var()"
   ]
  },
  {
   "cell_type": "code",
   "execution_count": 60,
   "metadata": {},
   "outputs": [
    {
     "data": {
      "text/plain": [
       "25909009.64682542"
      ]
     },
     "execution_count": 60,
     "metadata": {},
     "output_type": "execute_result"
    }
   ],
   "source": [
    "df[\" Promedios_Moviles_Inac_M \"].var()"
   ]
  },
  {
   "cell_type": "code",
   "execution_count": 61,
   "metadata": {},
   "outputs": [
    {
     "data": {
      "text/plain": [
       "54280544.82777774"
      ]
     },
     "execution_count": 61,
     "metadata": {},
     "output_type": "execute_result"
    }
   ],
   "source": [
    "df[\" Promedios_Moviles_Inac_T \"].var()"
   ]
  },
  {
   "cell_type": "code",
   "execution_count": 62,
   "metadata": {},
   "outputs": [
    {
     "data": {
      "text/plain": [
       "3575480.038888888"
      ]
     },
     "execution_count": 62,
     "metadata": {},
     "output_type": "execute_result"
    }
   ],
   "source": [
    "def cov_alt(x, y):\n",
    "  n = len(x)\n",
    "  \n",
    "  return ((x * y).sum() / (n - 1)) - ((n / (n - 1)) * x.mean() * y.mean())\n",
    "\n",
    "cov_mat.loc[\" Promedios_moviles_Ocupados_H \", \" Promedios_Moviles_Ocupados_M \"]"
   ]
  },
  {
   "cell_type": "code",
   "execution_count": 63,
   "metadata": {},
   "outputs": [
    {
     "data": {
      "text/plain": [
       "22608185.20000002"
      ]
     },
     "execution_count": 63,
     "metadata": {},
     "output_type": "execute_result"
    }
   ],
   "source": [
    "# Dada la variable Z=X+Y, podemos calcular la varianza de Z en función de las varianzas de X, Y y de su covarianza\n",
    "\n",
    "(df[\" Promedios_moviles_Ocupados_H \"] + df[\" Promedios_Moviles_Ocupados_M \"]).var() "
   ]
  },
  {
   "cell_type": "code",
   "execution_count": 64,
   "metadata": {},
   "outputs": [
    {
     "data": {
      "text/plain": [
       "22608185.199999984"
      ]
     },
     "execution_count": 64,
     "metadata": {},
     "output_type": "execute_result"
    }
   ],
   "source": [
    "# Dada la variable Z=X+Y, podemos calcular la varianza de Z en función de las varianzas de X, Y y de su covarianza\n",
    " # S2Z=S2X+2SXY+S2Y\n",
    "    \n",
    "df[\" Promedios_moviles_Ocupados_H \"].var() + 2*cov_mat.loc[\" Promedios_moviles_Ocupados_H \", \" Promedios_Moviles_Ocupados_M \"] + df[\" Promedios_Moviles_Ocupados_M \"].var()\n"
   ]
  },
  {
   "cell_type": "code",
   "execution_count": 65,
   "metadata": {},
   "outputs": [
    {
     "data": {
      "text/plain": [
       "<AxesSubplot:>"
      ]
     },
     "execution_count": 65,
     "metadata": {},
     "output_type": "execute_result"
    },
    {
     "data": {
      "image/png": "[encoded data removed]",
      "text/plain": [
       "<Figure size 432x288 with 1 Axes>"
      ]
     },
     "metadata": {
      "needs_background": "light"
     },
     "output_type": "display_data"
    }
   ],
   "source": [
    "df[\" Promedios_moviles_Ocupados_H \"].plot()"
   ]
  },
  {
   "cell_type": "code",
   "execution_count": 66,
   "metadata": {},
   "outputs": [
    {
     "ename": "NameError",
     "evalue": "name 'numpy' is not defined",
     "output_type": "error",
     "traceback": [
      "\u001b[1;31m---------------------------------------------------------------------------\u001b[0m",
      "\u001b[1;31mNameError\u001b[0m                                 Traceback (most recent call last)",
      "\u001b[1;32m<ipython-input-66-c9bb97570d4a>\u001b[0m in \u001b[0;36m<module>\u001b[1;34m\u001b[0m\n\u001b[1;32m----> 1\u001b[1;33m \u001b[0mCovariance\u001b[0m \u001b[1;33m=\u001b[0m \u001b[0mnumpy\u001b[0m\u001b[1;33m.\u001b[0m\u001b[0mcov\u001b[0m\u001b[1;33m(\u001b[0m\u001b[0mdf\u001b[0m\u001b[1;33m[\u001b[0m\u001b[1;34m\" Promedios_moviles_Ocupados_H \"\u001b[0m\u001b[1;33m]\u001b[0m\u001b[1;33m,\u001b[0m \u001b[0mdf\u001b[0m\u001b[1;33m[\u001b[0m\u001b[1;34m\" Promedios_Moviles_Ocupados_M \"\u001b[0m\u001b[1;33m]\u001b[0m\u001b[1;33m,\u001b[0m \u001b[0mddof\u001b[0m\u001b[1;33m=\u001b[0m\u001b[1;36m0\u001b[0m\u001b[1;33m)\u001b[0m\u001b[1;33m[\u001b[0m\u001b[1;36m0\u001b[0m\u001b[1;33m]\u001b[0m\u001b[1;33m[\u001b[0m\u001b[1;36m1\u001b[0m\u001b[1;33m]\u001b[0m\u001b[1;33m\u001b[0m\u001b[1;33m\u001b[0m\u001b[0m\n\u001b[0m\u001b[0;32m      2\u001b[0m \u001b[0mprint\u001b[0m\u001b[1;33m(\u001b[0m\u001b[0mCovariance\u001b[0m\u001b[1;33m)\u001b[0m\u001b[1;33m\u001b[0m\u001b[1;33m\u001b[0m\u001b[0m\n",
      "\u001b[1;31mNameError\u001b[0m: name 'numpy' is not defined"
     ]
    }
   ],
   "source": [
    "Covariance = numpy.cov(df[\" Promedios_moviles_Ocupados_H \"], df[\" Promedios_Moviles_Ocupados_M \"], ddof=0)[0][1]\n",
    "print(Covariance)"
   ]
  },
  {
   "cell_type": "code",
   "execution_count": null,
   "metadata": {},
   "outputs": [],
   "source": [
    "import numpy as np\n",
    "\n",
    "df[\" Promedios_moviles_Ocupados_H \"] = df[\" Promedios_moviles_Ocupados_H \"](df[\"Promedios_moviles_Ocupados_H\"])\n",
    "df[\" Promedios_moviles_Ocupados_H \"] = df[\" Promedios_Moviles_Ocupados_M \"](df[\"Promedios_Moviles_Ocupados_M\"])\n",
    "\n",
    "covariance = np.cov(df[\" Promedios_moviles_Ocupados_H \"], df[\" Promedios_Moviles_Ocupados_M \"])[0][1]\n",
    "print(covariance)"
   ]
  },
  {
   "cell_type": "code",
   "execution_count": null,
   "metadata": {},
   "outputs": [],
   "source": [
    "# Calcular la matriz de covarianza\n",
    "covxy = np.cov(df[\"Promedios_moviles_Ocupados_H\"], df[\"Promedios_Moviles_Ocupados_M\"])\n",
    "print(covxy)"
   ]
  },
  {
   "cell_type": "code",
   "execution_count": null,
   "metadata": {},
   "outputs": [],
   "source": [
    "#\n",
    "ar_model = AutoReg(df[' Promedios_moviles_Ocupados_H '], lags=5).fit()\n",
    "#\n",
    "# Print Summary\n",
    "#\n",
    "print(ar_model.summary())"
   ]
  },
  {
   "cell_type": "code",
   "execution_count": null,
   "metadata": {},
   "outputs": [],
   "source": []
  }
 ],
 "metadata": {
  "colab": {
   "collapsed_sections": [],
   "name": "calculos.ipynb",
   "provenance": []
  },
  "kernelspec": {
   "display_name": "Python 3",
   "language": "python",
   "name": "python3"
  },
  "language_info": {
   "codemirror_mode": {
    "name": "ipython",
    "version": 3
   },
   "file_extension": ".py",
   "mimetype": "text/x-python",
   "name": "python",
   "nbconvert_exporter": "python",
   "pygments_lexer": "ipython3",
   "version": "3.8.8"
  }
 },
 "nbformat": 4,
 "nbformat_minor": 1
}
