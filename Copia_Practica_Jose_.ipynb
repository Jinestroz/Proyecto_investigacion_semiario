{
  "nbformat": 4,
  "nbformat_minor": 0,
  "metadata": {
    "colab": {
      "name": " Copia Practica Jose .ipynb",
      "provenance": [],
      "collapsed_sections": [],
      "include_colab_link": true
    },
    "kernelspec": {
      "display_name": "Python 3",
      "language": "python",
      "name": "python3"
    },
    "language_info": {
      "codemirror_mode": {
        "name": "ipython",
        "version": 3
      },
      "file_extension": ".py",
      "mimetype": "text/x-python",
      "name": "python",
      "nbconvert_exporter": "python",
      "pygments_lexer": "ipython3",
      "version": "3.8.3"
    }
  },
  "cells": [
    {
      "cell_type": "markdown",
      "metadata": {
        "id": "view-in-github",
        "colab_type": "text"
      },
      "source": [
        "<a href=\"https://colab.research.google.com/github/Jinestroz/Proyecto_investigacion_semiario/blob/main/Copia_Practica_Jose_.ipynb\" target=\"_parent\"><img src=\"https://colab.research.google.com/assets/colab-badge.svg\" alt=\"Open In Colab\"/></a>"
      ]
    },
    {
      "cell_type": "code",
      "metadata": {
        "id": "utq1MmcDZbzN",
        "colab": {
          "base_uri": "https://localhost:8080/"
        },
        "outputId": "afcbce0e-fc59-4f6f-80e4-811e9020e5f6"
      },
      "source": [
        "import pandas as pd \n",
        "import numpy as np\n",
        "import matplotlib.pyplot as plt \n",
        "import statsmodels.api as sm \n",
        "from pandas import datetime \n",
        "from datetime import timedelta\n",
        "from statsmodels.tsa.stattools import  adfuller\n",
        "from statsmodels.graphics.tsaplots import plot_pacf\n",
        "from statsmodels.graphics.tsaplots import plot_acf\n",
        "from statsmodels.tsa.stattools import pacf\n",
        "from sklearn.linear_model import LinearRegression\n",
        "from sklearn.metrics import mean_squared_error\n",
        "from statsmodels.tsa.arima_model import ARIMA\n",
        "from statsmodels.tsa.arima_model import ARMA\n",
        "from time import time \n",
        "%matplotlib inline\n",
        "\n",
        "\n"
      ],
      "execution_count": 1,
      "outputs": [
        {
          "output_type": "stream",
          "text": [
            "/usr/local/lib/python3.7/dist-packages/statsmodels/tools/_testing.py:19: FutureWarning: pandas.util.testing is deprecated. Use the functions in the public API at pandas.testing instead.\n",
            "  import pandas.util.testing as tm\n",
            "/usr/local/lib/python3.7/dist-packages/ipykernel_launcher.py:5: FutureWarning: The pandas.datetime class is deprecated and will be removed from pandas in a future version. Import from datetime module instead.\n",
            "  \"\"\"\n"
          ],
          "name": "stderr"
        }
      ]
    },
    {
      "cell_type": "code",
      "metadata": {
        "id": "7c0NQdm9NaB1"
      },
      "source": [
        ""
      ],
      "execution_count": 1,
      "outputs": []
    },
    {
      "cell_type": "code",
      "metadata": {
        "id": "rdDbh_ZgbOv3"
      },
      "source": [
        "# @title Dataframe desde archivo CVS\n",
        "# df1 = pd.read_csv(\"lista_personas - Hoja 1.csv\")\n",
        "# df1"
      ],
      "execution_count": 2,
      "outputs": []
    },
    {
      "cell_type": "markdown",
      "metadata": {
        "id": "2NU3E3TLFmxY"
      },
      "source": [
        "# Tratamiento de los datos como CSV\n",
        "### En construcción...\n"
      ]
    },
    {
      "cell_type": "code",
      "metadata": {
        "id": "t6YqLawUkAwy"
      },
      "source": [
        "df = pd.read_csv(\"https://docs.google.com/spreadsheets/d/1bqg_wBX8s9GcW6UeCQ1sx4H2xmCvVHB6/export?format=csv\")\n",
        "\n",
        "df2 = pd.read_csv(\"https://docs.google.com/spreadsheets/d/1FBkNtj49IXmu7p750dE0n6V7ZArY0SQs/export?format=csv\")"
      ],
      "execution_count": 3,
      "outputs": []
    },
    {
      "cell_type": "code",
      "metadata": {
        "colab": {
          "base_uri": "https://localhost:8080/",
          "height": 695
        },
        "id": "j5q34vYIkX_6",
        "scrolled": true,
        "outputId": "5a37372d-b235-4b93-8f49-43f959883a13"
      },
      "source": [
        "#@title datos muestra\n",
        "df"
      ],
      "execution_count": 4,
      "outputs": [
        {
          "output_type": "execute_result",
          "data": {
            "text/html": [
              "<div>\n",
              "<style scoped>\n",
              "    .dataframe tbody tr th:only-of-type {\n",
              "        vertical-align: middle;\n",
              "    }\n",
              "\n",
              "    .dataframe tbody tr th {\n",
              "        vertical-align: top;\n",
              "    }\n",
              "\n",
              "    .dataframe thead th {\n",
              "        text-align: right;\n",
              "    }\n",
              "</style>\n",
              "<table border=\"1\" class=\"dataframe\">\n",
              "  <thead>\n",
              "    <tr style=\"text-align: right;\">\n",
              "      <th></th>\n",
              "      <th>Departamento</th>\n",
              "      <th>Poblacion_Hombres</th>\n",
              "      <th>Poblacion_Mujeres</th>\n",
              "      <th>Poblacion_Total</th>\n",
              "      <th>Ocupados_Hombres</th>\n",
              "      <th>Ocupados_Mujeres</th>\n",
              "      <th>Ocupados_Total</th>\n",
              "      <th>Desocupados_Hombres</th>\n",
              "      <th>Desocupados_Mujeres</th>\n",
              "      <th>Desocupados_Total</th>\n",
              "      <th>Inactivos_Hombres</th>\n",
              "      <th>Inactivos_Mujeres</th>\n",
              "      <th>Inactivos_Total</th>\n",
              "    </tr>\n",
              "  </thead>\n",
              "  <tbody>\n",
              "    <tr>\n",
              "      <th>0</th>\n",
              "      <td>ATLANTIDA</td>\n",
              "      <td>210887</td>\n",
              "      <td>225363</td>\n",
              "      <td>436250</td>\n",
              "      <td>91427</td>\n",
              "      <td>32543</td>\n",
              "      <td>123970</td>\n",
              "      <td>2742</td>\n",
              "      <td>977</td>\n",
              "      <td>3719</td>\n",
              "      <td>90812</td>\n",
              "      <td>166663</td>\n",
              "      <td>257475</td>\n",
              "    </tr>\n",
              "    <tr>\n",
              "      <th>1</th>\n",
              "      <td>COLON</td>\n",
              "      <td>151723</td>\n",
              "      <td>158202</td>\n",
              "      <td>309925</td>\n",
              "      <td>67751</td>\n",
              "      <td>18401</td>\n",
              "      <td>86152</td>\n",
              "      <td>1549</td>\n",
              "      <td>347</td>\n",
              "      <td>1896</td>\n",
              "      <td>62082</td>\n",
              "      <td>119503</td>\n",
              "      <td>181585</td>\n",
              "    </tr>\n",
              "    <tr>\n",
              "      <th>2</th>\n",
              "      <td>COMAYAGUA</td>\n",
              "      <td>240839</td>\n",
              "      <td>252628</td>\n",
              "      <td>493467</td>\n",
              "      <td>117055</td>\n",
              "      <td>32245</td>\n",
              "      <td>149300</td>\n",
              "      <td>1979</td>\n",
              "      <td>477</td>\n",
              "      <td>2456</td>\n",
              "      <td>90231</td>\n",
              "      <td>189094</td>\n",
              "      <td>279325</td>\n",
              "    </tr>\n",
              "    <tr>\n",
              "      <th>3</th>\n",
              "      <td>COPAN</td>\n",
              "      <td>183615</td>\n",
              "      <td>187441</td>\n",
              "      <td>371056</td>\n",
              "      <td>95661</td>\n",
              "      <td>23423</td>\n",
              "      <td>119084</td>\n",
              "      <td>1336</td>\n",
              "      <td>316</td>\n",
              "      <td>1652</td>\n",
              "      <td>62784</td>\n",
              "      <td>141119</td>\n",
              "      <td>203903</td>\n",
              "    </tr>\n",
              "    <tr>\n",
              "      <th>4</th>\n",
              "      <td>CORTES</td>\n",
              "      <td>750811</td>\n",
              "      <td>811586</td>\n",
              "      <td>1562397</td>\n",
              "      <td>339512</td>\n",
              "      <td>168442</td>\n",
              "      <td>507954</td>\n",
              "      <td>11651</td>\n",
              "      <td>4407</td>\n",
              "      <td>16058</td>\n",
              "      <td>309483</td>\n",
              "      <td>551686</td>\n",
              "      <td>861169</td>\n",
              "    </tr>\n",
              "    <tr>\n",
              "      <th>5</th>\n",
              "      <td>CHOLUTECA</td>\n",
              "      <td>216407</td>\n",
              "      <td>221211</td>\n",
              "      <td>437618</td>\n",
              "      <td>99759</td>\n",
              "      <td>24192</td>\n",
              "      <td>123951</td>\n",
              "      <td>2406</td>\n",
              "      <td>609</td>\n",
              "      <td>3015</td>\n",
              "      <td>90038</td>\n",
              "      <td>173420</td>\n",
              "      <td>263458</td>\n",
              "    </tr>\n",
              "    <tr>\n",
              "      <th>6</th>\n",
              "      <td>EL PARAISO</td>\n",
              "      <td>223591</td>\n",
              "      <td>220915</td>\n",
              "      <td>444506</td>\n",
              "      <td>117668</td>\n",
              "      <td>23670</td>\n",
              "      <td>141338</td>\n",
              "      <td>1643</td>\n",
              "      <td>466</td>\n",
              "      <td>2109</td>\n",
              "      <td>78265</td>\n",
              "      <td>171853</td>\n",
              "      <td>250118</td>\n",
              "    </tr>\n",
              "    <tr>\n",
              "      <th>7</th>\n",
              "      <td>FRANCISCO MORAZAN</td>\n",
              "      <td>719526</td>\n",
              "      <td>789383</td>\n",
              "      <td>1508909</td>\n",
              "      <td>336106</td>\n",
              "      <td>184065</td>\n",
              "      <td>520171</td>\n",
              "      <td>11948</td>\n",
              "      <td>5001</td>\n",
              "      <td>16949</td>\n",
              "      <td>291134</td>\n",
              "      <td>523332</td>\n",
              "      <td>814466</td>\n",
              "    </tr>\n",
              "    <tr>\n",
              "      <th>8</th>\n",
              "      <td>GRACIAS A DIOS</td>\n",
              "      <td>44274</td>\n",
              "      <td>46521</td>\n",
              "      <td>90795</td>\n",
              "      <td>14321</td>\n",
              "      <td>7894</td>\n",
              "      <td>22215</td>\n",
              "      <td>819</td>\n",
              "      <td>510</td>\n",
              "      <td>1329</td>\n",
              "      <td>23092</td>\n",
              "      <td>31869</td>\n",
              "      <td>54961</td>\n",
              "    </tr>\n",
              "    <tr>\n",
              "      <th>9</th>\n",
              "      <td>INTIBUCA</td>\n",
              "      <td>113744</td>\n",
              "      <td>118807</td>\n",
              "      <td>232551</td>\n",
              "      <td>59713</td>\n",
              "      <td>13802</td>\n",
              "      <td>73515</td>\n",
              "      <td>473</td>\n",
              "      <td>123</td>\n",
              "      <td>596</td>\n",
              "      <td>38880</td>\n",
              "      <td>90523</td>\n",
              "      <td>129403</td>\n",
              "    </tr>\n",
              "    <tr>\n",
              "      <th>10</th>\n",
              "      <td>ISLAS DE LA BAHIA</td>\n",
              "      <td>30606</td>\n",
              "      <td>31951</td>\n",
              "      <td>62557</td>\n",
              "      <td>13463</td>\n",
              "      <td>6941</td>\n",
              "      <td>20404</td>\n",
              "      <td>480</td>\n",
              "      <td>216</td>\n",
              "      <td>696</td>\n",
              "      <td>12583</td>\n",
              "      <td>20824</td>\n",
              "      <td>33407</td>\n",
              "    </tr>\n",
              "    <tr>\n",
              "      <th>11</th>\n",
              "      <td>LA PAZ</td>\n",
              "      <td>96807</td>\n",
              "      <td>102121</td>\n",
              "      <td>198928</td>\n",
              "      <td>48168</td>\n",
              "      <td>11848</td>\n",
              "      <td>60016</td>\n",
              "      <td>626</td>\n",
              "      <td>103</td>\n",
              "      <td>729</td>\n",
              "      <td>35422</td>\n",
              "      <td>77484</td>\n",
              "      <td>112906</td>\n",
              "    </tr>\n",
              "    <tr>\n",
              "      <th>12</th>\n",
              "      <td>LEMPIRA</td>\n",
              "      <td>161046</td>\n",
              "      <td>160133</td>\n",
              "      <td>321179</td>\n",
              "      <td>83156</td>\n",
              "      <td>9842</td>\n",
              "      <td>92998</td>\n",
              "      <td>588</td>\n",
              "      <td>121</td>\n",
              "      <td>709</td>\n",
              "      <td>55966</td>\n",
              "      <td>129482</td>\n",
              "      <td>185448</td>\n",
              "    </tr>\n",
              "    <tr>\n",
              "      <th>13</th>\n",
              "      <td>OCOTEPEQUE</td>\n",
              "      <td>72397</td>\n",
              "      <td>74036</td>\n",
              "      <td>146433</td>\n",
              "      <td>41242</td>\n",
              "      <td>8277</td>\n",
              "      <td>49519</td>\n",
              "      <td>385</td>\n",
              "      <td>101</td>\n",
              "      <td>486</td>\n",
              "      <td>21834</td>\n",
              "      <td>57077</td>\n",
              "      <td>78911</td>\n",
              "    </tr>\n",
              "    <tr>\n",
              "      <th>14</th>\n",
              "      <td>OLANCHO</td>\n",
              "      <td>257607</td>\n",
              "      <td>263158</td>\n",
              "      <td>520765</td>\n",
              "      <td>123320</td>\n",
              "      <td>25939</td>\n",
              "      <td>149259</td>\n",
              "      <td>1734</td>\n",
              "      <td>482</td>\n",
              "      <td>2216</td>\n",
              "      <td>99334</td>\n",
              "      <td>204578</td>\n",
              "      <td>303912</td>\n",
              "    </tr>\n",
              "    <tr>\n",
              "      <th>15</th>\n",
              "      <td>SANTA BARBARA</td>\n",
              "      <td>214131</td>\n",
              "      <td>207203</td>\n",
              "      <td>421334</td>\n",
              "      <td>107163</td>\n",
              "      <td>19326</td>\n",
              "      <td>126489</td>\n",
              "      <td>1651</td>\n",
              "      <td>317</td>\n",
              "      <td>1968</td>\n",
              "      <td>79698</td>\n",
              "      <td>163224</td>\n",
              "      <td>242922</td>\n",
              "    </tr>\n",
              "    <tr>\n",
              "      <th>16</th>\n",
              "      <td>VALLE</td>\n",
              "      <td>85125</td>\n",
              "      <td>89388</td>\n",
              "      <td>174513</td>\n",
              "      <td>39652</td>\n",
              "      <td>10119</td>\n",
              "      <td>49771</td>\n",
              "      <td>878</td>\n",
              "      <td>228</td>\n",
              "      <td>1106</td>\n",
              "      <td>34627</td>\n",
              "      <td>69470</td>\n",
              "      <td>104097</td>\n",
              "    </tr>\n",
              "    <tr>\n",
              "      <th>17</th>\n",
              "      <td>YORO</td>\n",
              "      <td>279188</td>\n",
              "      <td>291407</td>\n",
              "      <td>570595</td>\n",
              "      <td>125469</td>\n",
              "      <td>34586</td>\n",
              "      <td>160055</td>\n",
              "      <td>3321</td>\n",
              "      <td>862</td>\n",
              "      <td>4183</td>\n",
              "      <td>115185</td>\n",
              "      <td>222030</td>\n",
              "      <td>337215</td>\n",
              "    </tr>\n",
              "  </tbody>\n",
              "</table>\n",
              "</div>"
            ],
            "text/plain": [
              "         Departamento  Poblacion_Hombres  ...  Inactivos_Mujeres  Inactivos_Total\n",
              "0           ATLANTIDA             210887  ...             166663           257475\n",
              "1               COLON             151723  ...             119503           181585\n",
              "2           COMAYAGUA             240839  ...             189094           279325\n",
              "3               COPAN             183615  ...             141119           203903\n",
              "4              CORTES             750811  ...             551686           861169\n",
              "5           CHOLUTECA             216407  ...             173420           263458\n",
              "6         EL PARAISO              223591  ...             171853           250118\n",
              "7   FRANCISCO MORAZAN             719526  ...             523332           814466\n",
              "8     GRACIAS A DIOS               44274  ...              31869            54961\n",
              "9            INTIBUCA             113744  ...              90523           129403\n",
              "10  ISLAS DE LA BAHIA              30606  ...              20824            33407\n",
              "11             LA PAZ              96807  ...              77484           112906\n",
              "12           LEMPIRA              161046  ...             129482           185448\n",
              "13         OCOTEPEQUE              72397  ...              57077            78911\n",
              "14           OLANCHO              257607  ...             204578           303912\n",
              "15      SANTA BARBARA             214131  ...             163224           242922\n",
              "16              VALLE              85125  ...              69470           104097\n",
              "17               YORO             279188  ...             222030           337215\n",
              "\n",
              "[18 rows x 13 columns]"
            ]
          },
          "metadata": {
            "tags": []
          },
          "execution_count": 4
        }
      ]
    },
    {
      "cell_type": "code",
      "metadata": {
        "colab": {
          "base_uri": "https://localhost:8080/",
          "height": 317
        },
        "id": "vD3j_RBXl2CZ",
        "outputId": "3231e38c-3329-48b6-8e58-863cfa4ea32a"
      },
      "source": [
        "#@title Estadística básica\n",
        "datos = df.describe()\n",
        "datos"
      ],
      "execution_count": 5,
      "outputs": [
        {
          "output_type": "execute_result",
          "data": {
            "text/html": [
              "<div>\n",
              "<style scoped>\n",
              "    .dataframe tbody tr th:only-of-type {\n",
              "        vertical-align: middle;\n",
              "    }\n",
              "\n",
              "    .dataframe tbody tr th {\n",
              "        vertical-align: top;\n",
              "    }\n",
              "\n",
              "    .dataframe thead th {\n",
              "        text-align: right;\n",
              "    }\n",
              "</style>\n",
              "<table border=\"1\" class=\"dataframe\">\n",
              "  <thead>\n",
              "    <tr style=\"text-align: right;\">\n",
              "      <th></th>\n",
              "      <th>Poblacion_Hombres</th>\n",
              "      <th>Poblacion_Mujeres</th>\n",
              "      <th>Poblacion_Total</th>\n",
              "      <th>Ocupados_Hombres</th>\n",
              "      <th>Ocupados_Mujeres</th>\n",
              "      <th>Ocupados_Total</th>\n",
              "      <th>Desocupados_Hombres</th>\n",
              "      <th>Desocupados_Mujeres</th>\n",
              "      <th>Desocupados_Total</th>\n",
              "      <th>Inactivos_Hombres</th>\n",
              "      <th>Inactivos_Mujeres</th>\n",
              "      <th>Inactivos_Total</th>\n",
              "    </tr>\n",
              "  </thead>\n",
              "  <tbody>\n",
              "    <tr>\n",
              "      <th>count</th>\n",
              "      <td>18.000000</td>\n",
              "      <td>18.000000</td>\n",
              "      <td>1.800000e+01</td>\n",
              "      <td>18.000000</td>\n",
              "      <td>18.000000</td>\n",
              "      <td>18.000000</td>\n",
              "      <td>18.000000</td>\n",
              "      <td>18.000000</td>\n",
              "      <td>18.000000</td>\n",
              "      <td>18.000000</td>\n",
              "      <td>18.000000</td>\n",
              "      <td>18.000000</td>\n",
              "    </tr>\n",
              "    <tr>\n",
              "      <th>mean</th>\n",
              "      <td>225129.111111</td>\n",
              "      <td>236191.888889</td>\n",
              "      <td>4.613210e+05</td>\n",
              "      <td>106700.333333</td>\n",
              "      <td>36419.722222</td>\n",
              "      <td>143120.055556</td>\n",
              "      <td>2567.166667</td>\n",
              "      <td>870.166667</td>\n",
              "      <td>3437.333333</td>\n",
              "      <td>88413.888889</td>\n",
              "      <td>172401.722222</td>\n",
              "      <td>260815.611111</td>\n",
              "    </tr>\n",
              "    <tr>\n",
              "      <th>std</th>\n",
              "      <td>199847.550474</td>\n",
              "      <td>218832.972509</td>\n",
              "      <td>4.186110e+05</td>\n",
              "      <td>91330.169777</td>\n",
              "      <td>51712.264575</td>\n",
              "      <td>141813.208457</td>\n",
              "      <td>3460.067192</td>\n",
              "      <td>1419.978593</td>\n",
              "      <td>4872.243088</td>\n",
              "      <td>82605.244524</td>\n",
              "      <td>145290.075728</td>\n",
              "      <td>227715.846771</td>\n",
              "    </tr>\n",
              "    <tr>\n",
              "      <th>min</th>\n",
              "      <td>30606.000000</td>\n",
              "      <td>31951.000000</td>\n",
              "      <td>6.255700e+04</td>\n",
              "      <td>13463.000000</td>\n",
              "      <td>6941.000000</td>\n",
              "      <td>20404.000000</td>\n",
              "      <td>385.000000</td>\n",
              "      <td>101.000000</td>\n",
              "      <td>486.000000</td>\n",
              "      <td>12583.000000</td>\n",
              "      <td>20824.000000</td>\n",
              "      <td>33407.000000</td>\n",
              "    </tr>\n",
              "    <tr>\n",
              "      <th>25%</th>\n",
              "      <td>101041.250000</td>\n",
              "      <td>106292.500000</td>\n",
              "      <td>2.073338e+05</td>\n",
              "      <td>51054.250000</td>\n",
              "      <td>10551.250000</td>\n",
              "      <td>63390.750000</td>\n",
              "      <td>674.250000</td>\n",
              "      <td>219.000000</td>\n",
              "      <td>823.250000</td>\n",
              "      <td>36286.500000</td>\n",
              "      <td>80743.750000</td>\n",
              "      <td>117030.250000</td>\n",
              "    </tr>\n",
              "    <tr>\n",
              "      <th>50%</th>\n",
              "      <td>197251.000000</td>\n",
              "      <td>197322.000000</td>\n",
              "      <td>3.961950e+05</td>\n",
              "      <td>93544.000000</td>\n",
              "      <td>21374.500000</td>\n",
              "      <td>121517.500000</td>\n",
              "      <td>1596.000000</td>\n",
              "      <td>406.500000</td>\n",
              "      <td>1932.000000</td>\n",
              "      <td>70524.500000</td>\n",
              "      <td>152171.500000</td>\n",
              "      <td>223412.500000</td>\n",
              "    </tr>\n",
              "    <tr>\n",
              "      <th>75%</th>\n",
              "      <td>236527.000000</td>\n",
              "      <td>245811.750000</td>\n",
              "      <td>4.812268e+05</td>\n",
              "      <td>117514.750000</td>\n",
              "      <td>30668.500000</td>\n",
              "      <td>147278.750000</td>\n",
              "      <td>2299.250000</td>\n",
              "      <td>584.250000</td>\n",
              "      <td>2875.250000</td>\n",
              "      <td>90666.750000</td>\n",
              "      <td>185175.500000</td>\n",
              "      <td>275358.250000</td>\n",
              "    </tr>\n",
              "    <tr>\n",
              "      <th>max</th>\n",
              "      <td>750811.000000</td>\n",
              "      <td>811586.000000</td>\n",
              "      <td>1.562397e+06</td>\n",
              "      <td>339512.000000</td>\n",
              "      <td>184065.000000</td>\n",
              "      <td>520171.000000</td>\n",
              "      <td>11948.000000</td>\n",
              "      <td>5001.000000</td>\n",
              "      <td>16949.000000</td>\n",
              "      <td>309483.000000</td>\n",
              "      <td>551686.000000</td>\n",
              "      <td>861169.000000</td>\n",
              "    </tr>\n",
              "  </tbody>\n",
              "</table>\n",
              "</div>"
            ],
            "text/plain": [
              "       Poblacion_Hombres  Poblacion_Mujeres  ...  Inactivos_Mujeres  Inactivos_Total\n",
              "count          18.000000          18.000000  ...          18.000000        18.000000\n",
              "mean       225129.111111      236191.888889  ...      172401.722222    260815.611111\n",
              "std        199847.550474      218832.972509  ...      145290.075728    227715.846771\n",
              "min         30606.000000       31951.000000  ...       20824.000000     33407.000000\n",
              "25%        101041.250000      106292.500000  ...       80743.750000    117030.250000\n",
              "50%        197251.000000      197322.000000  ...      152171.500000    223412.500000\n",
              "75%        236527.000000      245811.750000  ...      185175.500000    275358.250000\n",
              "max        750811.000000      811586.000000  ...      551686.000000    861169.000000\n",
              "\n",
              "[8 rows x 12 columns]"
            ]
          },
          "metadata": {
            "tags": []
          },
          "execution_count": 5
        }
      ]
    },
    {
      "cell_type": "code",
      "metadata": {
        "id": "WtM-DdhWpURx",
        "colab": {
          "base_uri": "https://localhost:8080/"
        },
        "outputId": "ede62c07-8e37-4abb-8a3c-3db10bd606b0"
      },
      "source": [
        "columna = \"Ocupados_Hombres\"\n",
        "media = df[columna].sum()/df[columna].count()\n",
        "media"
      ],
      "execution_count": 6,
      "outputs": [
        {
          "output_type": "execute_result",
          "data": {
            "text/plain": [
              "106700.33333333333"
            ]
          },
          "metadata": {
            "tags": []
          },
          "execution_count": 6
        }
      ]
    },
    {
      "cell_type": "code",
      "metadata": {
        "colab": {
          "base_uri": "https://localhost:8080/"
        },
        "id": "lLsayGdrhSmu",
        "outputId": "dd7848ce-72b1-4644-aaaa-12056143ea52"
      },
      "source": [
        "columna = \"Ocupados_Mujeres\"\n",
        "media = df[columna].sum()/df[columna].count()\n",
        "media"
      ],
      "execution_count": 7,
      "outputs": [
        {
          "output_type": "execute_result",
          "data": {
            "text/plain": [
              "36419.72222222222"
            ]
          },
          "metadata": {
            "tags": []
          },
          "execution_count": 7
        }
      ]
    },
    {
      "cell_type": "code",
      "metadata": {
        "colab": {
          "base_uri": "https://localhost:8080/"
        },
        "id": "TmWXFmaCOU9z",
        "outputId": "b7474415-7cf9-4432-b6a3-2fc1859e5044"
      },
      "source": [
        "varianza = (((df[columna]-media)*(df[columna]-media)).sum())/(df[columna].count()-1)\n",
        "varianza "
      ],
      "execution_count": 8,
      "outputs": [
        {
          "output_type": "execute_result",
          "data": {
            "text/plain": [
              "2674158307.5065355"
            ]
          },
          "metadata": {
            "tags": []
          },
          "execution_count": 8
        }
      ]
    },
    {
      "cell_type": "code",
      "metadata": {
        "id": "JjGiRLn_ixzG"
      },
      "source": [
        ""
      ],
      "execution_count": 8,
      "outputs": []
    },
    {
      "cell_type": "markdown",
      "metadata": {
        "id": "wkfsjd6MSmOf"
      },
      "source": [
        ""
      ]
    },
    {
      "cell_type": "code",
      "metadata": {
        "colab": {
          "base_uri": "https://localhost:8080/"
        },
        "id": "iE2qypGpOU91",
        "outputId": "97acd37a-1e0b-4e42-dca1-0c7ac662bd5e"
      },
      "source": [
        "columna = \"Ocupados_Mujeres\"\n",
        "media = df[columna].sum()/df[columna].count()\n",
        "media"
      ],
      "execution_count": 9,
      "outputs": [
        {
          "output_type": "execute_result",
          "data": {
            "text/plain": [
              "36419.72222222222"
            ]
          },
          "metadata": {
            "tags": []
          },
          "execution_count": 9
        }
      ]
    },
    {
      "cell_type": "markdown",
      "metadata": {
        "id": "d-NGsDbzSmit"
      },
      "source": [
        ""
      ]
    },
    {
      "cell_type": "code",
      "metadata": {
        "colab": {
          "base_uri": "https://localhost:8080/"
        },
        "id": "fL-J2ef7OU92",
        "outputId": "4f8297a3-4b5d-42f4-b950-82136882e5d6"
      },
      "source": [
        "varianza = (((df[columna]-media)*(df[columna]-media)).sum())/(df[columna].count()-1)\n",
        "varianza"
      ],
      "execution_count": 10,
      "outputs": [
        {
          "output_type": "execute_result",
          "data": {
            "text/plain": [
              "2674158307.5065355"
            ]
          },
          "metadata": {
            "tags": []
          },
          "execution_count": 10
        }
      ]
    },
    {
      "cell_type": "code",
      "metadata": {
        "colab": {
          "base_uri": "https://localhost:8080/"
        },
        "id": "nal_29meOU93",
        "outputId": "0cd5872a-5ba3-4bb9-f5da-347d64daf709"
      },
      "source": [
        "poblacion_activa = df[\"Ocupados_Total\"].sum() + df[\"Desocupados_Total\"].sum()\n",
        "poblacion_activa"
      ],
      "execution_count": 11,
      "outputs": [
        {
          "output_type": "execute_result",
          "data": {
            "text/plain": [
              "2638033"
            ]
          },
          "metadata": {
            "tags": []
          },
          "execution_count": 11
        }
      ]
    },
    {
      "cell_type": "code",
      "metadata": {
        "colab": {
          "base_uri": "https://localhost:8080/"
        },
        "id": "IHWD75hdOU94",
        "outputId": "7e459116-82c4-4ac7-b990-506fdcb1350a"
      },
      "source": [
        "PET = poblacion_activa + df[\"Inactivos_Total\"].sum()\n",
        "PET"
      ],
      "execution_count": 12,
      "outputs": [
        {
          "output_type": "execute_result",
          "data": {
            "text/plain": [
              "7332714"
            ]
          },
          "metadata": {
            "tags": []
          },
          "execution_count": 12
        }
      ]
    },
    {
      "cell_type": "code",
      "metadata": {
        "colab": {
          "base_uri": "https://localhost:8080/"
        },
        "id": "YG5RdKXSOU94",
        "outputId": "bc8de1b7-2d90-42c4-e304-4ac97ffe176b"
      },
      "source": [
        "tasa_actividad = (poblacion_activa/PET)*100\n",
        "tasa_actividad "
      ],
      "execution_count": 13,
      "outputs": [
        {
          "output_type": "execute_result",
          "data": {
            "text/plain": [
              "35.97621562766528"
            ]
          },
          "metadata": {
            "tags": []
          },
          "execution_count": 13
        }
      ]
    },
    {
      "cell_type": "code",
      "metadata": {
        "colab": {
          "base_uri": "https://localhost:8080/"
        },
        "id": "KfO1DvlNfEr0",
        "outputId": "161a9175-5772-4c94-abaa-35f0a8ff53b9"
      },
      "source": [
        "poblacion_ocupada = df[\"Ocupados_Total\"].sum()\n",
        "poblacion_ocupada"
      ],
      "execution_count": 14,
      "outputs": [
        {
          "output_type": "execute_result",
          "data": {
            "text/plain": [
              "2576161"
            ]
          },
          "metadata": {
            "tags": []
          },
          "execution_count": 14
        }
      ]
    },
    {
      "cell_type": "code",
      "metadata": {
        "colab": {
          "base_uri": "https://localhost:8080/"
        },
        "id": "ITLtFxTTeIGF",
        "outputId": "8b7e7521-367f-42ba-c05b-ad4c5784e3a9"
      },
      "source": [
        "poblacion_desempleada = df[\"Desocupados_Total\"].sum()\n",
        "poblacion_desempleada "
      ],
      "execution_count": 15,
      "outputs": [
        {
          "output_type": "execute_result",
          "data": {
            "text/plain": [
              "61872"
            ]
          },
          "metadata": {
            "tags": []
          },
          "execution_count": 15
        }
      ]
    },
    {
      "cell_type": "code",
      "metadata": {
        "colab": {
          "base_uri": "https://localhost:8080/"
        },
        "id": "9C9P9fe9Oep3",
        "outputId": "996f9a03-21cb-44c6-8cf8-b188a41f3b6b"
      },
      "source": [
        "tasa_desempleo = (poblacion_desempleada/poblacion_activa)*100\n",
        "tasa_desempleo\n"
      ],
      "execution_count": 16,
      "outputs": [
        {
          "output_type": "execute_result",
          "data": {
            "text/plain": [
              "2.3453838522869126"
            ]
          },
          "metadata": {
            "tags": []
          },
          "execution_count": 16
        }
      ]
    },
    {
      "cell_type": "code",
      "metadata": {
        "colab": {
          "base_uri": "https://localhost:8080/"
        },
        "id": "1K54ymzRfout",
        "outputId": "7ba0e774-c6ca-482c-eb04-1e4bed076c5b"
      },
      "source": [
        "tasa_ocupacion = (poblacion_ocupada/poblacion_activa)*100\n",
        "tasa_ocupacion"
      ],
      "execution_count": 17,
      "outputs": [
        {
          "output_type": "execute_result",
          "data": {
            "text/plain": [
              "97.65461614771309"
            ]
          },
          "metadata": {
            "tags": []
          },
          "execution_count": 17
        }
      ]
    },
    {
      "cell_type": "code",
      "metadata": {
        "colab": {
          "base_uri": "https://localhost:8080/"
        },
        "id": "4yb0cc4BgGwN",
        "outputId": "16e2b357-fdcb-4a5c-85a3-50386943b904"
      },
      "source": [
        "tasa_ocupacion + tasa_desempleo"
      ],
      "execution_count": 18,
      "outputs": [
        {
          "output_type": "execute_result",
          "data": {
            "text/plain": [
              "100.0"
            ]
          },
          "metadata": {
            "tags": []
          },
          "execution_count": 18
        }
      ]
    },
    {
      "cell_type": "code",
      "metadata": {
        "colab": {
          "base_uri": "https://localhost:8080/"
        },
        "id": "CW0ewSzp2uHy",
        "outputId": "32c0f194-9967-453a-ff9c-53f8a54802ab"
      },
      "source": [
        "poblacion_ocupada = df[\"Ocupados_Hombres\"].sum\n",
        "poblacion_ocupada "
      ],
      "execution_count": 19,
      "outputs": [
        {
          "output_type": "execute_result",
          "data": {
            "text/plain": [
              "<bound method Series.sum of 0      91427\n",
              "1      67751\n",
              "2     117055\n",
              "3      95661\n",
              "4     339512\n",
              "5      99759\n",
              "6     117668\n",
              "7     336106\n",
              "8      14321\n",
              "9      59713\n",
              "10     13463\n",
              "11     48168\n",
              "12     83156\n",
              "13     41242\n",
              "14    123320\n",
              "15    107163\n",
              "16     39652\n",
              "17    125469\n",
              "Name: Ocupados_Hombres, dtype: int64>"
            ]
          },
          "metadata": {
            "tags": []
          },
          "execution_count": 19
        }
      ]
    },
    {
      "cell_type": "code",
      "metadata": {
        "id": "_-Pujzp1GPWt",
        "colab": {
          "base_uri": "https://localhost:8080/",
          "height": 282
        },
        "outputId": "ec383974-263b-4bba-86df-76345a509706"
      },
      "source": [
        "df[\"Ocupados_Total\"].plot()"
      ],
      "execution_count": 20,
      "outputs": [
        {
          "output_type": "execute_result",
          "data": {
            "text/plain": [
              "<matplotlib.axes._subplots.AxesSubplot at 0x7ff6d048ee10>"
            ]
          },
          "metadata": {
            "tags": []
          },
          "execution_count": 20
        },
        {
          "output_type": "display_data",
          "data": {
            "image/png": "[encoded data removed]",
            "text/plain": [
              "<Figure size 432x288 with 1 Axes>"
            ]
          },
          "metadata": {
            "tags": [],
            "needs_background": "light"
          }
        }
      ]
    },
    {
      "cell_type": "code",
      "metadata": {
        "colab": {
          "base_uri": "https://localhost:8080/",
          "height": 312
        },
        "id": "M84-oHJ2G07o",
        "outputId": "724dfb79-01cf-47ab-e12a-ecca4855c8eb"
      },
      "source": [
        "\n",
        "\n",
        "fig, ax = plt.subplots()  \n",
        "ax.plot(df[\"Ocupados_Total\"], label='Ocupados_Total 2001')\n",
        "ax.plot(df2[\"Ocupados_Total\"], label='Ocupados_Total 2013')\n",
        "ax.set_xlabel('Departamentos')\n",
        "ax.set_ylabel('Personas')\n",
        "ax.set_title(\"Oupados 2001_2013\")\n",
        "ax.legend()"
      ],
      "execution_count": 21,
      "outputs": [
        {
          "output_type": "execute_result",
          "data": {
            "text/plain": [
              "<matplotlib.legend.Legend at 0x7ff6cff41e10>"
            ]
          },
          "metadata": {
            "tags": []
          },
          "execution_count": 21
        },
        {
          "output_type": "display_data",
          "data": {
            "image/png": "[encoded data removed]",
            "text/plain": [
              "<Figure size 432x288 with 1 Axes>"
            ]
          },
          "metadata": {
            "tags": [],
            "needs_background": "light"
          }
        }
      ]
    },
    {
      "cell_type": "code",
      "metadata": {
        "colab": {
          "base_uri": "https://localhost:8080/",
          "height": 312
        },
        "id": "CWWjLPKXz7-j",
        "outputId": "f505201c-7ce8-43b0-85f5-02f06c868e60"
      },
      "source": [
        "fig, ax = plt.subplots()  \n",
        "ax.plot(df[\"Desocupados_Total\"], label='Desocupados_Total 2001')\n",
        "ax.plot(df2[\"Desocupados_Total\"], label='Desocupados_Total 2013')\n",
        "ax.set_xlabel('Departamentos')\n",
        "ax.set_ylabel('Personas')\n",
        "ax.set_title(\"Desocupados 2001_2013\")\n",
        "ax.legend()"
      ],
      "execution_count": 22,
      "outputs": [
        {
          "output_type": "execute_result",
          "data": {
            "text/plain": [
              "<matplotlib.legend.Legend at 0x7ff6d03e6590>"
            ]
          },
          "metadata": {
            "tags": []
          },
          "execution_count": 22
        },
        {
          "output_type": "display_data",
          "data": {
            "image/png": "[encoded data removed]",
            "text/plain": [
              "<Figure size 432x288 with 1 Axes>"
            ]
          },
          "metadata": {
            "tags": [],
            "needs_background": "light"
          }
        }
      ]
    },
    {
      "cell_type": "code",
      "metadata": {
        "colab": {
          "base_uri": "https://localhost:8080/",
          "height": 312
        },
        "id": "aisabkkr6wqd",
        "outputId": "0545ae7d-0fbf-4dc9-adcf-667dd50db172"
      },
      "source": [
        "fig, ax = plt.subplots()  \n",
        "ax.plot(df[\"Inactivos_Total\"], label='Inactivos_Total 2001')\n",
        "ax.plot(df2[\"Inactivos_Total\"], label='Inactivos_Total 2013')\n",
        "ax.set_xlabel('Departamentos')\n",
        "ax.set_ylabel('Personas')\n",
        "ax.set_title(\"Inactivos 2001_2013\")\n",
        "ax.legend()"
      ],
      "execution_count": 23,
      "outputs": [
        {
          "output_type": "execute_result",
          "data": {
            "text/plain": [
              "<matplotlib.legend.Legend at 0x7ff6cfe05ed0>"
            ]
          },
          "metadata": {
            "tags": []
          },
          "execution_count": 23
        },
        {
          "output_type": "display_data",
          "data": {
            "image/png": "[encoded data removed]",
            "text/plain": [
              "<Figure size 432x288 with 1 Axes>"
            ]
          },
          "metadata": {
            "tags": [],
            "needs_background": "light"
          }
        }
      ]
    },
    {
      "cell_type": "code",
      "metadata": {
        "colab": {
          "base_uri": "https://localhost:8080/",
          "height": 312
        },
        "id": "oxpAHTvv7S4c",
        "outputId": "8fb85265-df6d-44ca-c06d-42ffc16ce2fa"
      },
      "source": [
        "fig, ax = plt.subplots()  \n",
        "ax.plot(df[\"Ocupados_Hombres\"], label='Ocupados_Hombres 2001')\n",
        "ax.plot(df2[\"Ocupados_Hombres\"], label='Ocupados_Hombres 2013')\n",
        "ax.set_xlabel('Departamentos')\n",
        "ax.set_ylabel('Personas')\n",
        "ax.set_title(\"Ocupados 2001_2013\")\n",
        "ax.legend()"
      ],
      "execution_count": 24,
      "outputs": [
        {
          "output_type": "execute_result",
          "data": {
            "text/plain": [
              "<matplotlib.legend.Legend at 0x7ff6cfd646d0>"
            ]
          },
          "metadata": {
            "tags": []
          },
          "execution_count": 24
        },
        {
          "output_type": "display_data",
          "data": {
            "image/png": "[encoded data removed]",
            "text/plain": [
              "<Figure size 432x288 with 1 Axes>"
            ]
          },
          "metadata": {
            "tags": [],
            "needs_background": "light"
          }
        }
      ]
    },
    {
      "cell_type": "code",
      "metadata": {
        "colab": {
          "base_uri": "https://localhost:8080/",
          "height": 312
        },
        "id": "tR1gYJZ2756D",
        "outputId": "29c6d8d5-291a-495b-d210-6493f7e2b644"
      },
      "source": [
        "fig, ax = plt.subplots()  \n",
        "ax.plot(df[\"Ocupados_Mujeres\"], label='Ocupados_Mujeres 2001')\n",
        "ax.plot(df2[\"Ocupados_Mujeres\"], label='Ocupados_Mujeres 2013')\n",
        "ax.set_xlabel('Departamentos')\n",
        "ax.set_ylabel('Personas')\n",
        "ax.set_title(\"Ocupados 2001_2013\")\n",
        "ax.legend()"
      ],
      "execution_count": 25,
      "outputs": [
        {
          "output_type": "execute_result",
          "data": {
            "text/plain": [
              "<matplotlib.legend.Legend at 0x7ff6cfdae850>"
            ]
          },
          "metadata": {
            "tags": []
          },
          "execution_count": 25
        },
        {
          "output_type": "display_data",
          "data": {
            "image/png": "[encoded data removed]",
            "text/plain": [
              "<Figure size 432x288 with 1 Axes>"
            ]
          },
          "metadata": {
            "tags": [],
            "needs_background": "light"
          }
        }
      ]
    },
    {
      "cell_type": "code",
      "metadata": {
        "colab": {
          "base_uri": "https://localhost:8080/",
          "height": 312
        },
        "id": "79MCdUDD8Vts",
        "outputId": "6d8b6bee-9025-469d-b470-cdb2334ff22e"
      },
      "source": [
        "fig, ax = plt.subplots()  \n",
        "ax.plot(df[\"Desocupados_Hombres\"], label='Desocupados_Hombres 2001')\n",
        "ax.plot(df2[\"Desocupados_Hombres\"], label='Desocupados_Hombres 2013')\n",
        "ax.set_xlabel('Departamentos')\n",
        "ax.set_ylabel('Personas')\n",
        "ax.set_title(\"Desocupados 2001_2013\")\n",
        "ax.legend()"
      ],
      "execution_count": 26,
      "outputs": [
        {
          "output_type": "execute_result",
          "data": {
            "text/plain": [
              "<matplotlib.legend.Legend at 0x7ff6cfc65e10>"
            ]
          },
          "metadata": {
            "tags": []
          },
          "execution_count": 26
        },
        {
          "output_type": "display_data",
          "data": {
            "image/png": "[encoded data removed]",
            "text/plain": [
              "<Figure size 432x288 with 1 Axes>"
            ]
          },
          "metadata": {
            "tags": [],
            "needs_background": "light"
          }
        }
      ]
    },
    {
      "cell_type": "code",
      "metadata": {
        "colab": {
          "base_uri": "https://localhost:8080/",
          "height": 312
        },
        "id": "4aq3LPji8-Ir",
        "outputId": "ef307dc0-e153-4b72-a921-d069f7e4baf3"
      },
      "source": [
        "fig, ax = plt.subplots()  \n",
        "ax.plot(df[\"Desocupados_Mujeres\"], label='Desocupados_Mujeres 2001')\n",
        "ax.plot(df2[\"Desocupados_Mujeres\"], label='Desocupados_Mujeres 2013')\n",
        "ax.set_xlabel('Departamentos')\n",
        "ax.set_ylabel('Personas')\n",
        "ax.set_title(\"Desocupados 2001_2013\")\n",
        "ax.legend()"
      ],
      "execution_count": 27,
      "outputs": [
        {
          "output_type": "execute_result",
          "data": {
            "text/plain": [
              "<matplotlib.legend.Legend at 0x7ff6cfcd0190>"
            ]
          },
          "metadata": {
            "tags": []
          },
          "execution_count": 27
        },
        {
          "output_type": "display_data",
          "data": {
            "image/png": "[encoded data removed]",
            "text/plain": [
              "<Figure size 432x288 with 1 Axes>"
            ]
          },
          "metadata": {
            "tags": [],
            "needs_background": "light"
          }
        }
      ]
    },
    {
      "cell_type": "code",
      "metadata": {
        "id": "aG2KAWW7BxUg",
        "colab": {
          "base_uri": "https://localhost:8080/",
          "height": 312
        },
        "outputId": "b0520305-d59e-4a27-9cd2-3abd6b8848f5"
      },
      "source": [
        "fig, ax = plt.subplots()  \n",
        "ax.plot(df[\"Inactivos_Hombres\"], label='Inactivos_Hombres 2001')\n",
        "ax.plot(df2[\"Inactivos_Hombres\"], label='Inactivos_Hombres 2013')\n",
        "ax.set_xlabel('Departamentos')\n",
        "ax.set_ylabel('Personas')\n",
        "ax.set_title(\"Inactivos 2001_2013\")\n",
        "ax.legend()"
      ],
      "execution_count": 28,
      "outputs": [
        {
          "output_type": "execute_result",
          "data": {
            "text/plain": [
              "<matplotlib.legend.Legend at 0x7ff6cfba1ad0>"
            ]
          },
          "metadata": {
            "tags": []
          },
          "execution_count": 28
        },
        {
          "output_type": "display_data",
          "data": {
            "image/png": "[encoded data removed]",
            "text/plain": [
              "<Figure size 432x288 with 1 Axes>"
            ]
          },
          "metadata": {
            "tags": [],
            "needs_background": "light"
          }
        }
      ]
    },
    {
      "cell_type": "code",
      "metadata": {
        "colab": {
          "base_uri": "https://localhost:8080/",
          "height": 312
        },
        "id": "rFWhJqpIXr_W",
        "outputId": "a4bf5550-3366-4fa1-ce0e-5a8ac0998263"
      },
      "source": [
        "fig, ax = plt.subplots()  \n",
        "ax.plot(df[\"Inactivos_Mujeres\"], label='Inactivos_Mujeres 2001')\n",
        "ax.plot(df2[\"Inactivos_Mujeres\"], label='Inactivos_Mujeres 2013')\n",
        "ax.set_xlabel('Departamentos')\n",
        "ax.set_ylabel('Personas')\n",
        "ax.set_title(\"Inactivos 2001_2013\")\n",
        "ax.legend()"
      ],
      "execution_count": 29,
      "outputs": [
        {
          "output_type": "execute_result",
          "data": {
            "text/plain": [
              "<matplotlib.legend.Legend at 0x7ff6cfaa8c10>"
            ]
          },
          "metadata": {
            "tags": []
          },
          "execution_count": 29
        },
        {
          "output_type": "display_data",
          "data": {
            "image/png": "[encoded data removed]",
            "text/plain": [
              "<Figure size 432x288 with 1 Axes>"
            ]
          },
          "metadata": {
            "tags": [],
            "needs_background": "light"
          }
        }
      ]
    },
    {
      "cell_type": "code",
      "metadata": {
        "id": "zJePHasKYCpM"
      },
      "source": [
        "ar_coefs=[1,-0.05]\n",
        "ma_coefs=[1,0.2]\n",
        "\n",
        "\n"
      ],
      "execution_count": 30,
      "outputs": []
    },
    {
      "cell_type": "code",
      "metadata": {
        "colab": {
          "base_uri": "https://localhost:8080/",
          "height": 283
        },
        "id": "ma_tVhFeupJ-",
        "outputId": "b03e9e79-2d49-4c62-bbc7-6541d8e2e547"
      },
      "source": [
        "df[\"Desocupados_Total\"].plot()"
      ],
      "execution_count": 31,
      "outputs": [
        {
          "output_type": "execute_result",
          "data": {
            "text/plain": [
              "<matplotlib.axes._subplots.AxesSubplot at 0x7ff6cfa6ae50>"
            ]
          },
          "metadata": {
            "tags": []
          },
          "execution_count": 31
        },
        {
          "output_type": "display_data",
          "data": {
            "image/png": "[encoded data removed]",
            "text/plain": [
              "<Figure size 432x288 with 1 Axes>"
            ]
          },
          "metadata": {
            "tags": [],
            "needs_background": "light"
          }
        }
      ]
    },
    {
      "cell_type": "markdown",
      "metadata": {
        "id": "nWxVJ7evwiSe"
      },
      "source": [
        ""
      ]
    },
    {
      "cell_type": "code",
      "metadata": {
        "colab": {
          "base_uri": "https://localhost:8080/"
        },
        "id": "adaEq5HWvJ88",
        "outputId": "54769ce6-503f-456c-de28-70f6949329ee"
      },
      "source": [
        "df.head\n"
      ],
      "execution_count": 32,
      "outputs": [
        {
          "output_type": "execute_result",
          "data": {
            "text/plain": [
              "<bound method NDFrame.head of          Departamento  Poblacion_Hombres  ...  Inactivos_Mujeres  Inactivos_Total\n",
              "0           ATLANTIDA             210887  ...             166663           257475\n",
              "1               COLON             151723  ...             119503           181585\n",
              "2           COMAYAGUA             240839  ...             189094           279325\n",
              "3               COPAN             183615  ...             141119           203903\n",
              "4              CORTES             750811  ...             551686           861169\n",
              "5           CHOLUTECA             216407  ...             173420           263458\n",
              "6         EL PARAISO              223591  ...             171853           250118\n",
              "7   FRANCISCO MORAZAN             719526  ...             523332           814466\n",
              "8     GRACIAS A DIOS               44274  ...              31869            54961\n",
              "9            INTIBUCA             113744  ...              90523           129403\n",
              "10  ISLAS DE LA BAHIA              30606  ...              20824            33407\n",
              "11             LA PAZ              96807  ...              77484           112906\n",
              "12           LEMPIRA              161046  ...             129482           185448\n",
              "13         OCOTEPEQUE              72397  ...              57077            78911\n",
              "14           OLANCHO              257607  ...             204578           303912\n",
              "15      SANTA BARBARA             214131  ...             163224           242922\n",
              "16              VALLE              85125  ...              69470           104097\n",
              "17               YORO             279188  ...             222030           337215\n",
              "\n",
              "[18 rows x 13 columns]>"
            ]
          },
          "metadata": {
            "tags": []
          },
          "execution_count": 32
        }
      ]
    },
    {
      "cell_type": "code",
      "metadata": {
        "colab": {
          "base_uri": "https://localhost:8080/",
          "height": 282
        },
        "id": "IVO2CApE1_dN",
        "outputId": "4b620b8c-8bbc-42e6-fc1e-fc3773dd2706"
      },
      "source": [
        "plt.plot()"
      ],
      "execution_count": 33,
      "outputs": [
        {
          "output_type": "execute_result",
          "data": {
            "text/plain": [
              "[]"
            ]
          },
          "metadata": {
            "tags": []
          },
          "execution_count": 33
        },
        {
          "output_type": "display_data",
          "data": {
            "image/png": "[encoded data removed]",
            "text/plain": [
              "<Figure size 432x288 with 1 Axes>"
            ]
          },
          "metadata": {
            "tags": [],
            "needs_background": "light"
          }
        }
      ]
    },
    {
      "cell_type": "code",
      "metadata": {
        "colab": {
          "base_uri": "https://localhost:8080/"
        },
        "id": "ohPKbFza5YY6",
        "outputId": "1c8c2ab8-04f5-4246-ac1d-db3933482531"
      },
      "source": [
        "X = df[\"Ocupados_Hombres\"].values # con los Datos Año 2013\n",
        "result = adfuller(X) # ADF Prueba de Dickey-Fuller aumentada es una prueba de raiz unitaria para una muestra de una serie de tiempo\n",
        "print('ADF Statistic: %f' % result[0])\n",
        "print('p-value: %f' % result[1])\n",
        "print('Critical Values:') # Impresion de valores criticos\n",
        "for key, value in result[4].items():\n",
        "  print('\\t%s: %.3f' %  (key, value))\n",
        "\n",
        "if result[0] < result[4][\"5%\"]: # para un nivel del 5 % de confianza la prueba de Dickey nos dice que cuando mas negativo es el numero mas fuerte es el rechazo de H0 de que existe una raiz unitaria \n",
        "  print (\"Rejet Ho - Time series is Stationary\") # Rechazamos H0 y la serie de tiempo es estacionaria \n",
        "else: \n",
        "  print (\"failed to Reject Ho - Time series is Non-Stationary\") # No rechazamos H0 y la serie de tiempo es no-estacionaria. la serie tiene una raiz unitaria la H0 es cierta"
      ],
      "execution_count": 34,
      "outputs": [
        {
          "output_type": "stream",
          "text": [
            "ADF Statistic: -2.255201\n",
            "p-value: 0.186824\n",
            "Critical Values:\n",
            "\t1%: -4.138\n",
            "\t5%: -3.155\n",
            "\t10%: -2.714\n",
            "failed to Reject Ho - Time series is Non-Stationary\n"
          ],
          "name": "stdout"
        }
      ]
    },
    {
      "cell_type": "code",
      "metadata": {
        "colab": {
          "base_uri": "https://localhost:8080/"
        },
        "id": "COgAZF9265nI",
        "outputId": "6046512d-e5c8-4094-f990-3b0c81b0ee94"
      },
      "source": [
        "X = df[\"Ocupados_Mujeres\"].values # con los datos año 2013\n",
        "result = adfuller(X) # ADF Prueba de Dickey-Fuller aumentada es una prueba de raiz unitaria para una muestra de una serie de tiempo\n",
        "print('ADF Statistic: %f' % result[0])\n",
        "print('p-value: %f' % result[1])\n",
        "print('Critical Values:') # Impresion de valores criticos\n",
        "for key, value in result[4].items():\n",
        "  print('\\t%s: %.3f' %  (key, value))\n",
        "\n",
        "if result[0] < result[4][\"5%\"]: # para un nivel del 5 % de confianza \n",
        "  print (\"Rejet Ho - Time series is Stationary\") # Rechazamos H0 y la serie de tiempo es estacionaria \n",
        "else: \n",
        "  print (\"failed to Reject Ho - Time series is Non-Stationary\") # No rechazamos H0 y la serie de tiempo es no-estacionaria."
      ],
      "execution_count": 35,
      "outputs": [
        {
          "output_type": "stream",
          "text": [
            "ADF Statistic: -4.293251\n",
            "p-value: 0.000456\n",
            "Critical Values:\n",
            "\t1%: -3.889\n",
            "\t5%: -3.054\n",
            "\t10%: -2.667\n",
            "Rejet Ho - Time series is Stationary\n"
          ],
          "name": "stdout"
        }
      ]
    },
    {
      "cell_type": "code",
      "metadata": {
        "colab": {
          "base_uri": "https://localhost:8080/"
        },
        "id": "yVNSQVNDxY6_",
        "outputId": "6df8eda0-dd19-48fe-8b6d-a5545a923ef4"
      },
      "source": [
        "X = df[\"Desocupados_Hombres\"].values #con los datos año 2013 \n",
        "result = adfuller(X) # ADF Prueba de Dickey-Fuller aumentada es una prueba de raiz unitaria para una muestra de una serie de tiempo\n",
        "print('ADF Statistic: %f' % result[0])\n",
        "print('p-value: %f' % result[1])\n",
        "print('Critical Values:') # Impresion de valores criticos\n",
        "for key, value in result[4].items():\n",
        "  print('\\t%s: %.3f' %  (key, value))\n",
        "\n",
        "if result[0] < result[4][\"5%\"]: # para un nivel del 5 % de confianza \n",
        "  print (\"Rejet Ho - Time series is Stationary\") # Rechazamos H0 y la serie de tiempo es estacionaria \n",
        "else: \n",
        "  print (\"failed to Reject Ho - Time series is Non-Stationary\") # No rechazamos H0 y la serie de tiempo es no-estacionaria."
      ],
      "execution_count": 36,
      "outputs": [
        {
          "output_type": "stream",
          "text": [
            "ADF Statistic: -4.130528\n",
            "p-value: 0.000862\n",
            "Critical Values:\n",
            "\t1%: -3.889\n",
            "\t5%: -3.054\n",
            "\t10%: -2.667\n",
            "Rejet Ho - Time series is Stationary\n"
          ],
          "name": "stdout"
        }
      ]
    },
    {
      "cell_type": "code",
      "metadata": {
        "colab": {
          "base_uri": "https://localhost:8080/"
        },
        "id": "gOB2-A7EbEnM",
        "outputId": "c56aaf6e-6fb6-4a00-ac46-aaf7c6f0824a"
      },
      "source": [
        "X = df2[\"Desocupados_Hombres\"].values con los datos año 2001\n",
        "result = adfuller(X) # ADF Prueba de Dickey-Fuller aumentada es una prueba de raiz unitaria para una muestra de una serie de tiempo\n",
        "print('ADF Statistic: %f' % result[0])\n",
        "print('p-value: %f' % result[1])\n",
        "print('Critical Values:') # Impresion de valores criticos\n",
        "for key, value in result[4].items():\n",
        "  print('\\t%s: %.3f' %  (key, value))\n",
        "\n",
        "if result[0] < result[4][\"5%\"]: # para un nivel del 5 % de confianza \n",
        "  print (\"Rejet Ho - Time series is Stationary\") # Rechazamos H0 y la serie de tiempo es estacionaria \n",
        "else: \n",
        "  print (\"failed to Reject Ho - Time series is Non-Stationary\") # No rechazamos H0 y la serie de tiempo es no-estacionaria."
      ],
      "execution_count": 37,
      "outputs": [
        {
          "output_type": "stream",
          "text": [
            "ADF Statistic: -1.564522\n",
            "p-value: 0.501386\n",
            "Critical Values:\n",
            "\t1%: -4.223\n",
            "\t5%: -3.189\n",
            "\t10%: -2.730\n",
            "failed to Reject Ho - Time series is Non-Stationary\n"
          ],
          "name": "stdout"
        }
      ]
    },
    {
      "cell_type": "code",
      "metadata": {
        "colab": {
          "base_uri": "https://localhost:8080/",
          "height": 695
        },
        "id": "597aplWf9Bo0",
        "outputId": "755bfb85-eafc-4927-f289-1365df020fab"
      },
      "source": [
        "df[\"Ocupados_Hombres_shifted\"] = df[\"Ocupados_Hombres\"].shift()\n",
        "df"
      ],
      "execution_count": 38,
      "outputs": [
        {
          "output_type": "execute_result",
          "data": {
            "text/html": [
              "<div>\n",
              "<style scoped>\n",
              "    .dataframe tbody tr th:only-of-type {\n",
              "        vertical-align: middle;\n",
              "    }\n",
              "\n",
              "    .dataframe tbody tr th {\n",
              "        vertical-align: top;\n",
              "    }\n",
              "\n",
              "    .dataframe thead th {\n",
              "        text-align: right;\n",
              "    }\n",
              "</style>\n",
              "<table border=\"1\" class=\"dataframe\">\n",
              "  <thead>\n",
              "    <tr style=\"text-align: right;\">\n",
              "      <th></th>\n",
              "      <th>Departamento</th>\n",
              "      <th>Poblacion_Hombres</th>\n",
              "      <th>Poblacion_Mujeres</th>\n",
              "      <th>Poblacion_Total</th>\n",
              "      <th>Ocupados_Hombres</th>\n",
              "      <th>Ocupados_Mujeres</th>\n",
              "      <th>Ocupados_Total</th>\n",
              "      <th>Desocupados_Hombres</th>\n",
              "      <th>Desocupados_Mujeres</th>\n",
              "      <th>Desocupados_Total</th>\n",
              "      <th>Inactivos_Hombres</th>\n",
              "      <th>Inactivos_Mujeres</th>\n",
              "      <th>Inactivos_Total</th>\n",
              "      <th>Ocupados_Hombres_shifted</th>\n",
              "    </tr>\n",
              "  </thead>\n",
              "  <tbody>\n",
              "    <tr>\n",
              "      <th>0</th>\n",
              "      <td>ATLANTIDA</td>\n",
              "      <td>210887</td>\n",
              "      <td>225363</td>\n",
              "      <td>436250</td>\n",
              "      <td>91427</td>\n",
              "      <td>32543</td>\n",
              "      <td>123970</td>\n",
              "      <td>2742</td>\n",
              "      <td>977</td>\n",
              "      <td>3719</td>\n",
              "      <td>90812</td>\n",
              "      <td>166663</td>\n",
              "      <td>257475</td>\n",
              "      <td>NaN</td>\n",
              "    </tr>\n",
              "    <tr>\n",
              "      <th>1</th>\n",
              "      <td>COLON</td>\n",
              "      <td>151723</td>\n",
              "      <td>158202</td>\n",
              "      <td>309925</td>\n",
              "      <td>67751</td>\n",
              "      <td>18401</td>\n",
              "      <td>86152</td>\n",
              "      <td>1549</td>\n",
              "      <td>347</td>\n",
              "      <td>1896</td>\n",
              "      <td>62082</td>\n",
              "      <td>119503</td>\n",
              "      <td>181585</td>\n",
              "      <td>91427.0</td>\n",
              "    </tr>\n",
              "    <tr>\n",
              "      <th>2</th>\n",
              "      <td>COMAYAGUA</td>\n",
              "      <td>240839</td>\n",
              "      <td>252628</td>\n",
              "      <td>493467</td>\n",
              "      <td>117055</td>\n",
              "      <td>32245</td>\n",
              "      <td>149300</td>\n",
              "      <td>1979</td>\n",
              "      <td>477</td>\n",
              "      <td>2456</td>\n",
              "      <td>90231</td>\n",
              "      <td>189094</td>\n",
              "      <td>279325</td>\n",
              "      <td>67751.0</td>\n",
              "    </tr>\n",
              "    <tr>\n",
              "      <th>3</th>\n",
              "      <td>COPAN</td>\n",
              "      <td>183615</td>\n",
              "      <td>187441</td>\n",
              "      <td>371056</td>\n",
              "      <td>95661</td>\n",
              "      <td>23423</td>\n",
              "      <td>119084</td>\n",
              "      <td>1336</td>\n",
              "      <td>316</td>\n",
              "      <td>1652</td>\n",
              "      <td>62784</td>\n",
              "      <td>141119</td>\n",
              "      <td>203903</td>\n",
              "      <td>117055.0</td>\n",
              "    </tr>\n",
              "    <tr>\n",
              "      <th>4</th>\n",
              "      <td>CORTES</td>\n",
              "      <td>750811</td>\n",
              "      <td>811586</td>\n",
              "      <td>1562397</td>\n",
              "      <td>339512</td>\n",
              "      <td>168442</td>\n",
              "      <td>507954</td>\n",
              "      <td>11651</td>\n",
              "      <td>4407</td>\n",
              "      <td>16058</td>\n",
              "      <td>309483</td>\n",
              "      <td>551686</td>\n",
              "      <td>861169</td>\n",
              "      <td>95661.0</td>\n",
              "    </tr>\n",
              "    <tr>\n",
              "      <th>5</th>\n",
              "      <td>CHOLUTECA</td>\n",
              "      <td>216407</td>\n",
              "      <td>221211</td>\n",
              "      <td>437618</td>\n",
              "      <td>99759</td>\n",
              "      <td>24192</td>\n",
              "      <td>123951</td>\n",
              "      <td>2406</td>\n",
              "      <td>609</td>\n",
              "      <td>3015</td>\n",
              "      <td>90038</td>\n",
              "      <td>173420</td>\n",
              "      <td>263458</td>\n",
              "      <td>339512.0</td>\n",
              "    </tr>\n",
              "    <tr>\n",
              "      <th>6</th>\n",
              "      <td>EL PARAISO</td>\n",
              "      <td>223591</td>\n",
              "      <td>220915</td>\n",
              "      <td>444506</td>\n",
              "      <td>117668</td>\n",
              "      <td>23670</td>\n",
              "      <td>141338</td>\n",
              "      <td>1643</td>\n",
              "      <td>466</td>\n",
              "      <td>2109</td>\n",
              "      <td>78265</td>\n",
              "      <td>171853</td>\n",
              "      <td>250118</td>\n",
              "      <td>99759.0</td>\n",
              "    </tr>\n",
              "    <tr>\n",
              "      <th>7</th>\n",
              "      <td>FRANCISCO MORAZAN</td>\n",
              "      <td>719526</td>\n",
              "      <td>789383</td>\n",
              "      <td>1508909</td>\n",
              "      <td>336106</td>\n",
              "      <td>184065</td>\n",
              "      <td>520171</td>\n",
              "      <td>11948</td>\n",
              "      <td>5001</td>\n",
              "      <td>16949</td>\n",
              "      <td>291134</td>\n",
              "      <td>523332</td>\n",
              "      <td>814466</td>\n",
              "      <td>117668.0</td>\n",
              "    </tr>\n",
              "    <tr>\n",
              "      <th>8</th>\n",
              "      <td>GRACIAS A DIOS</td>\n",
              "      <td>44274</td>\n",
              "      <td>46521</td>\n",
              "      <td>90795</td>\n",
              "      <td>14321</td>\n",
              "      <td>7894</td>\n",
              "      <td>22215</td>\n",
              "      <td>819</td>\n",
              "      <td>510</td>\n",
              "      <td>1329</td>\n",
              "      <td>23092</td>\n",
              "      <td>31869</td>\n",
              "      <td>54961</td>\n",
              "      <td>336106.0</td>\n",
              "    </tr>\n",
              "    <tr>\n",
              "      <th>9</th>\n",
              "      <td>INTIBUCA</td>\n",
              "      <td>113744</td>\n",
              "      <td>118807</td>\n",
              "      <td>232551</td>\n",
              "      <td>59713</td>\n",
              "      <td>13802</td>\n",
              "      <td>73515</td>\n",
              "      <td>473</td>\n",
              "      <td>123</td>\n",
              "      <td>596</td>\n",
              "      <td>38880</td>\n",
              "      <td>90523</td>\n",
              "      <td>129403</td>\n",
              "      <td>14321.0</td>\n",
              "    </tr>\n",
              "    <tr>\n",
              "      <th>10</th>\n",
              "      <td>ISLAS DE LA BAHIA</td>\n",
              "      <td>30606</td>\n",
              "      <td>31951</td>\n",
              "      <td>62557</td>\n",
              "      <td>13463</td>\n",
              "      <td>6941</td>\n",
              "      <td>20404</td>\n",
              "      <td>480</td>\n",
              "      <td>216</td>\n",
              "      <td>696</td>\n",
              "      <td>12583</td>\n",
              "      <td>20824</td>\n",
              "      <td>33407</td>\n",
              "      <td>59713.0</td>\n",
              "    </tr>\n",
              "    <tr>\n",
              "      <th>11</th>\n",
              "      <td>LA PAZ</td>\n",
              "      <td>96807</td>\n",
              "      <td>102121</td>\n",
              "      <td>198928</td>\n",
              "      <td>48168</td>\n",
              "      <td>11848</td>\n",
              "      <td>60016</td>\n",
              "      <td>626</td>\n",
              "      <td>103</td>\n",
              "      <td>729</td>\n",
              "      <td>35422</td>\n",
              "      <td>77484</td>\n",
              "      <td>112906</td>\n",
              "      <td>13463.0</td>\n",
              "    </tr>\n",
              "    <tr>\n",
              "      <th>12</th>\n",
              "      <td>LEMPIRA</td>\n",
              "      <td>161046</td>\n",
              "      <td>160133</td>\n",
              "      <td>321179</td>\n",
              "      <td>83156</td>\n",
              "      <td>9842</td>\n",
              "      <td>92998</td>\n",
              "      <td>588</td>\n",
              "      <td>121</td>\n",
              "      <td>709</td>\n",
              "      <td>55966</td>\n",
              "      <td>129482</td>\n",
              "      <td>185448</td>\n",
              "      <td>48168.0</td>\n",
              "    </tr>\n",
              "    <tr>\n",
              "      <th>13</th>\n",
              "      <td>OCOTEPEQUE</td>\n",
              "      <td>72397</td>\n",
              "      <td>74036</td>\n",
              "      <td>146433</td>\n",
              "      <td>41242</td>\n",
              "      <td>8277</td>\n",
              "      <td>49519</td>\n",
              "      <td>385</td>\n",
              "      <td>101</td>\n",
              "      <td>486</td>\n",
              "      <td>21834</td>\n",
              "      <td>57077</td>\n",
              "      <td>78911</td>\n",
              "      <td>83156.0</td>\n",
              "    </tr>\n",
              "    <tr>\n",
              "      <th>14</th>\n",
              "      <td>OLANCHO</td>\n",
              "      <td>257607</td>\n",
              "      <td>263158</td>\n",
              "      <td>520765</td>\n",
              "      <td>123320</td>\n",
              "      <td>25939</td>\n",
              "      <td>149259</td>\n",
              "      <td>1734</td>\n",
              "      <td>482</td>\n",
              "      <td>2216</td>\n",
              "      <td>99334</td>\n",
              "      <td>204578</td>\n",
              "      <td>303912</td>\n",
              "      <td>41242.0</td>\n",
              "    </tr>\n",
              "    <tr>\n",
              "      <th>15</th>\n",
              "      <td>SANTA BARBARA</td>\n",
              "      <td>214131</td>\n",
              "      <td>207203</td>\n",
              "      <td>421334</td>\n",
              "      <td>107163</td>\n",
              "      <td>19326</td>\n",
              "      <td>126489</td>\n",
              "      <td>1651</td>\n",
              "      <td>317</td>\n",
              "      <td>1968</td>\n",
              "      <td>79698</td>\n",
              "      <td>163224</td>\n",
              "      <td>242922</td>\n",
              "      <td>123320.0</td>\n",
              "    </tr>\n",
              "    <tr>\n",
              "      <th>16</th>\n",
              "      <td>VALLE</td>\n",
              "      <td>85125</td>\n",
              "      <td>89388</td>\n",
              "      <td>174513</td>\n",
              "      <td>39652</td>\n",
              "      <td>10119</td>\n",
              "      <td>49771</td>\n",
              "      <td>878</td>\n",
              "      <td>228</td>\n",
              "      <td>1106</td>\n",
              "      <td>34627</td>\n",
              "      <td>69470</td>\n",
              "      <td>104097</td>\n",
              "      <td>107163.0</td>\n",
              "    </tr>\n",
              "    <tr>\n",
              "      <th>17</th>\n",
              "      <td>YORO</td>\n",
              "      <td>279188</td>\n",
              "      <td>291407</td>\n",
              "      <td>570595</td>\n",
              "      <td>125469</td>\n",
              "      <td>34586</td>\n",
              "      <td>160055</td>\n",
              "      <td>3321</td>\n",
              "      <td>862</td>\n",
              "      <td>4183</td>\n",
              "      <td>115185</td>\n",
              "      <td>222030</td>\n",
              "      <td>337215</td>\n",
              "      <td>39652.0</td>\n",
              "    </tr>\n",
              "  </tbody>\n",
              "</table>\n",
              "</div>"
            ],
            "text/plain": [
              "         Departamento  ...  Ocupados_Hombres_shifted\n",
              "0           ATLANTIDA  ...                       NaN\n",
              "1               COLON  ...                   91427.0\n",
              "2           COMAYAGUA  ...                   67751.0\n",
              "3               COPAN  ...                  117055.0\n",
              "4              CORTES  ...                   95661.0\n",
              "5           CHOLUTECA  ...                  339512.0\n",
              "6         EL PARAISO   ...                   99759.0\n",
              "7   FRANCISCO MORAZAN  ...                  117668.0\n",
              "8     GRACIAS A DIOS   ...                  336106.0\n",
              "9            INTIBUCA  ...                   14321.0\n",
              "10  ISLAS DE LA BAHIA  ...                   59713.0\n",
              "11             LA PAZ  ...                   13463.0\n",
              "12           LEMPIRA   ...                   48168.0\n",
              "13         OCOTEPEQUE  ...                   83156.0\n",
              "14           OLANCHO   ...                   41242.0\n",
              "15      SANTA BARBARA  ...                  123320.0\n",
              "16              VALLE  ...                  107163.0\n",
              "17               YORO  ...                   39652.0\n",
              "\n",
              "[18 rows x 14 columns]"
            ]
          },
          "metadata": {
            "tags": []
          },
          "execution_count": 38
        }
      ]
    },
    {
      "cell_type": "code",
      "metadata": {
        "id": "_Kecq1i7_xxk",
        "colab": {
          "base_uri": "https://localhost:8080/",
          "height": 197
        },
        "outputId": "9b9e6c8d-4f23-482a-da71-0756e53f331a"
      },
      "source": [
        "#Fit the AR Model (Ajuste el Modelo AR)\n",
        "#create the model (Crear el Modelo)\n",
        "model = ARMA(train_data, order=(1,0))"
      ],
      "execution_count": 45,
      "outputs": [
        {
          "output_type": "error",
          "ename": "NameError",
          "evalue": "ignored",
          "traceback": [
            "\u001b[0;31m---------------------------------------------------------------------------\u001b[0m",
            "\u001b[0;31mNameError\u001b[0m                                 Traceback (most recent call last)",
            "\u001b[0;32m<ipython-input-45-3716b0007d0f>\u001b[0m in \u001b[0;36m<module>\u001b[0;34m()\u001b[0m\n\u001b[1;32m      1\u001b[0m \u001b[0;31m#Fit the AR Model (Ajuste el Modelo AR)\u001b[0m\u001b[0;34m\u001b[0m\u001b[0;34m\u001b[0m\u001b[0;34m\u001b[0m\u001b[0m\n\u001b[1;32m      2\u001b[0m \u001b[0;31m#create the model (Crear el Modelo)\u001b[0m\u001b[0;34m\u001b[0m\u001b[0;34m\u001b[0m\u001b[0;34m\u001b[0m\u001b[0m\n\u001b[0;32m----> 3\u001b[0;31m \u001b[0mmodel\u001b[0m \u001b[0;34m=\u001b[0m \u001b[0mARMA\u001b[0m\u001b[0;34m(\u001b[0m\u001b[0mtrain_data\u001b[0m\u001b[0;34m,\u001b[0m \u001b[0morder\u001b[0m\u001b[0;34m=\u001b[0m\u001b[0;34m(\u001b[0m\u001b[0;36m1\u001b[0m\u001b[0;34m,\u001b[0m\u001b[0;36m0\u001b[0m\u001b[0;34m)\u001b[0m\u001b[0;34m)\u001b[0m\u001b[0;34m\u001b[0m\u001b[0;34m\u001b[0m\u001b[0m\n\u001b[0m",
            "\u001b[0;31mNameError\u001b[0m: name 'train_data' is not defined"
          ]
        }
      ]
    },
    {
      "cell_type": "code",
      "metadata": {
        "id": "x9SXq_wdWflX"
      },
      "source": [
        ""
      ],
      "execution_count": null,
      "outputs": []
    },
    {
      "cell_type": "code",
      "metadata": {
        "id": "u8clZeZfW0Yx"
      },
      "source": [
        "#fit the model (Encajar en el Modelo)\n",
        "start = time()\n",
        "model_fit = model.fit()\n",
        "end = time()\n",
        "print('Model Fitting Time:' , end - start)"
      ],
      "execution_count": null,
      "outputs": []
    },
    {
      "cell_type": "code",
      "metadata": {
        "id": "zv2Upm1yX3Rb",
        "colab": {
          "base_uri": "https://localhost:8080/",
          "height": 180
        },
        "outputId": "ea8c2b4d-3ecf-423c-b77f-c6dad4a311c1"
      },
      "source": [
        "#summary of the model  (Resumen del Modelo)\n",
        "print(model_fit.summary())"
      ],
      "execution_count": 48,
      "outputs": [
        {
          "output_type": "error",
          "ename": "NameError",
          "evalue": "ignored",
          "traceback": [
            "\u001b[0;31m---------------------------------------------------------------------------\u001b[0m",
            "\u001b[0;31mNameError\u001b[0m                                 Traceback (most recent call last)",
            "\u001b[0;32m<ipython-input-48-1b68de51b9ed>\u001b[0m in \u001b[0;36m<module>\u001b[0;34m()\u001b[0m\n\u001b[1;32m      1\u001b[0m \u001b[0;31m#summary of the model  (Resumen del Modelo)\u001b[0m\u001b[0;34m\u001b[0m\u001b[0;34m\u001b[0m\u001b[0;34m\u001b[0m\u001b[0m\n\u001b[0;32m----> 2\u001b[0;31m \u001b[0mprint\u001b[0m\u001b[0;34m(\u001b[0m\u001b[0mmodel_fit\u001b[0m\u001b[0;34m.\u001b[0m\u001b[0msummary\u001b[0m\u001b[0;34m(\u001b[0m\u001b[0;34m)\u001b[0m\u001b[0;34m)\u001b[0m\u001b[0;34m\u001b[0m\u001b[0;34m\u001b[0m\u001b[0m\n\u001b[0m",
            "\u001b[0;31mNameError\u001b[0m: name 'model_fit' is not defined"
          ]
        }
      ]
    },
    {
      "cell_type": "code",
      "metadata": {
        "colab": {
          "base_uri": "https://localhost:8080/",
          "height": 231
        },
        "id": "FcYW9eWBkOd7",
        "outputId": "00d11625-cdbf-4e4b-df81-1c6d49a744d8"
      },
      "source": [
        "ar18 = np.array([32543,18401,32245,23423,168442,24192,23670,184065,7894,13802,6941,11848,9842,8277,25939,19326,10119,34586])\n",
        "ma = np.array([1])\n",
        "simulated_AR18_data = ArmaProcess(ar18 ,ma).generate_sample(nsample=18)\n",
        "\n",
        "plt.figure(figsize=[10, 7.5]); # set dimensions for figure\n",
        "plt.plot(simulated_AR18_data)\n",
        "plt.title(\"simulated AR18 Process\")\n",
        "plt.show() "
      ],
      "execution_count": 53,
      "outputs": [
        {
          "output_type": "error",
          "ename": "NameError",
          "evalue": "ignored",
          "traceback": [
            "\u001b[0;31m---------------------------------------------------------------------------\u001b[0m",
            "\u001b[0;31mNameError\u001b[0m                                 Traceback (most recent call last)",
            "\u001b[0;32m<ipython-input-53-c2aa1fe18909>\u001b[0m in \u001b[0;36m<module>\u001b[0;34m()\u001b[0m\n\u001b[1;32m      1\u001b[0m \u001b[0mar18\u001b[0m \u001b[0;34m=\u001b[0m \u001b[0mnp\u001b[0m\u001b[0;34m.\u001b[0m\u001b[0marray\u001b[0m\u001b[0;34m(\u001b[0m\u001b[0;34m[\u001b[0m\u001b[0;36m32543\u001b[0m\u001b[0;34m,\u001b[0m\u001b[0;36m18401\u001b[0m\u001b[0;34m,\u001b[0m\u001b[0;36m32245\u001b[0m\u001b[0;34m,\u001b[0m\u001b[0;36m23423\u001b[0m\u001b[0;34m,\u001b[0m\u001b[0;36m168442\u001b[0m\u001b[0;34m,\u001b[0m\u001b[0;36m24192\u001b[0m\u001b[0;34m,\u001b[0m\u001b[0;36m23670\u001b[0m\u001b[0;34m,\u001b[0m\u001b[0;36m184065\u001b[0m\u001b[0;34m,\u001b[0m\u001b[0;36m7894\u001b[0m\u001b[0;34m,\u001b[0m\u001b[0;36m13802\u001b[0m\u001b[0;34m,\u001b[0m\u001b[0;36m6941\u001b[0m\u001b[0;34m,\u001b[0m\u001b[0;36m11848\u001b[0m\u001b[0;34m,\u001b[0m\u001b[0;36m9842\u001b[0m\u001b[0;34m,\u001b[0m\u001b[0;36m8277\u001b[0m\u001b[0;34m,\u001b[0m\u001b[0;36m25939\u001b[0m\u001b[0;34m,\u001b[0m\u001b[0;36m19326\u001b[0m\u001b[0;34m,\u001b[0m\u001b[0;36m10119\u001b[0m\u001b[0;34m,\u001b[0m\u001b[0;36m34586\u001b[0m\u001b[0;34m]\u001b[0m\u001b[0;34m)\u001b[0m\u001b[0;34m\u001b[0m\u001b[0;34m\u001b[0m\u001b[0m\n\u001b[1;32m      2\u001b[0m \u001b[0mma\u001b[0m \u001b[0;34m=\u001b[0m \u001b[0mnp\u001b[0m\u001b[0;34m.\u001b[0m\u001b[0marray\u001b[0m\u001b[0;34m(\u001b[0m\u001b[0;34m[\u001b[0m\u001b[0;36m1\u001b[0m\u001b[0;34m]\u001b[0m\u001b[0;34m)\u001b[0m\u001b[0;34m\u001b[0m\u001b[0;34m\u001b[0m\u001b[0m\n\u001b[0;32m----> 3\u001b[0;31m \u001b[0msimulated_AR18_data\u001b[0m \u001b[0;34m=\u001b[0m \u001b[0mArmaProcess\u001b[0m\u001b[0;34m(\u001b[0m\u001b[0mar18\u001b[0m \u001b[0;34m,\u001b[0m\u001b[0mma\u001b[0m\u001b[0;34m)\u001b[0m\u001b[0;34m.\u001b[0m\u001b[0mgenerate_sample\u001b[0m\u001b[0;34m(\u001b[0m\u001b[0mnsample\u001b[0m\u001b[0;34m=\u001b[0m\u001b[0;36m18\u001b[0m\u001b[0;34m)\u001b[0m\u001b[0;34m\u001b[0m\u001b[0;34m\u001b[0m\u001b[0m\n\u001b[0m\u001b[1;32m      4\u001b[0m \u001b[0;34m\u001b[0m\u001b[0m\n\u001b[1;32m      5\u001b[0m \u001b[0mplt\u001b[0m\u001b[0;34m.\u001b[0m\u001b[0mfigure\u001b[0m\u001b[0;34m(\u001b[0m\u001b[0mfigsize\u001b[0m\u001b[0;34m=\u001b[0m\u001b[0;34m[\u001b[0m\u001b[0;36m10\u001b[0m\u001b[0;34m,\u001b[0m \u001b[0;36m7.5\u001b[0m\u001b[0;34m]\u001b[0m\u001b[0;34m)\u001b[0m\u001b[0;34m;\u001b[0m \u001b[0;31m# set dimensions for figure\u001b[0m\u001b[0;34m\u001b[0m\u001b[0;34m\u001b[0m\u001b[0m\n",
            "\u001b[0;31mNameError\u001b[0m: name 'ArmaProcess' is not defined"
          ]
        }
      ]
    }
  ]
}